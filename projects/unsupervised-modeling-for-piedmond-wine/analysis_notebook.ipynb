{
 "cells": [
  {
   "cell_type": "markdown",
   "metadata": {},
   "source": [
    "# Piedmont wine Dataset\n",
    "\n",
    "Data refer to chemical properties of 178 specimens of three types of wine produced in the Piedmont region of Italy.\n",
    "\n",
    "<https://search.r-project.org/CRAN/refmans/sn/html/wines.html>\n",
    "\n",
    "The data represent 27 chemical measurements on each of 178 wine specimens belonging to three types of wine produced in the Piedmont region of Italy. The data have been presented and examined by Forina et al. (1986) and were freely accessible from the PARVUS web-site until it was active. These data or, more often, a subset of them are now available from various places, including some R packages. The present dataset includes all variables available on the PARVUS repository, which are the variables listed by Forina et al. (1986) with the exception of ‘Sulphate’. Moreover, it reveals the undocumented fact that the original dataset appears to include also the vintage year; see the final portion of the ‘Examples’ below.\n",
    "\n",
    "wine name (categorical, levels: Barbera, Barolo, Grignolino)"
   ]
  },
  {
   "cell_type": "code",
   "execution_count": 20,
   "metadata": {},
   "outputs": [
    {
     "name": "stdout",
     "output_type": "stream",
     "text": [
      "               0           1           2           3           4           5   \\\n",
      "count  178.000000  178.000000  178.000000  178.000000  178.000000  178.000000   \n",
      "mean     1.938202   13.000618    2.336348    2.366517   19.494944   99.741573   \n",
      "std      0.775035    0.811827    1.117146    0.274344    3.339564   14.282484   \n",
      "min      1.000000   11.030000    0.740000    1.360000   10.600000   70.000000   \n",
      "25%      1.000000   12.362500    1.602500    2.210000   17.200000   88.000000   \n",
      "50%      2.000000   13.050000    1.865000    2.360000   19.500000   98.000000   \n",
      "75%      3.000000   13.677500    3.082500    2.557500   21.500000  107.000000   \n",
      "max      3.000000   14.830000    5.800000    3.230000   30.000000  162.000000   \n",
      "\n",
      "               6           7           8           9           10          11  \\\n",
      "count  178.000000  178.000000  178.000000  178.000000  178.000000  178.000000   \n",
      "mean     2.295112    2.029270    0.361854    1.590899    5.058090    0.957449   \n",
      "std      0.625851    0.998859    0.124453    0.572359    2.318286    0.228572   \n",
      "min      0.980000    0.340000    0.130000    0.410000    1.280000    0.480000   \n",
      "25%      1.742500    1.205000    0.270000    1.250000    3.220000    0.782500   \n",
      "50%      2.355000    2.135000    0.340000    1.555000    4.690000    0.965000   \n",
      "75%      2.800000    2.875000    0.437500    1.950000    6.200000    1.120000   \n",
      "max      3.880000    5.080000    0.660000    3.580000   13.000000    1.710000   \n",
      "\n",
      "               12           13  \n",
      "count  178.000000   178.000000  \n",
      "mean     2.611685   746.893258  \n",
      "std      0.709990   314.907474  \n",
      "min      1.270000   278.000000  \n",
      "25%      1.937500   500.500000  \n",
      "50%      2.780000   673.500000  \n",
      "75%      3.170000   985.000000  \n",
      "max      4.000000  1680.000000  \n"
     ]
    }
   ],
   "source": [
    "import pandas as pd\n",
    "\n",
    "# Load the dataset\n",
    "wine_ds = pd.read_csv(\"wine.csv\", header=None)\n",
    "\n",
    "samples = wine_ds.iloc[:,1:]\n",
    "varieties = wine_ds.iloc[:,0]\n",
    "varieties = varieties.replace({1: \"Barolo\", 2: \"Grignolino\", 3: \"Barbera\"})\n",
    "print(wine_ds.describe())\n",
    "\n",
    "# There are 178 samples from 3 distinct varieties of red wine: Barolo, Grignolino and Barbera"
   ]
  },
  {
   "cell_type": "code",
   "execution_count": 18,
   "metadata": {},
   "outputs": [
    {
     "name": "stderr",
     "output_type": "stream",
     "text": [
      "c:\\ProgramData\\anaconda3\\Lib\\site-packages\\sklearn\\cluster\\_kmeans.py:1429: UserWarning: KMeans is known to have a memory leak on Windows with MKL, when there are less chunks than available threads. You can avoid it by setting the environment variable OMP_NUM_THREADS=1.\n",
      "  warnings.warn(\n"
     ]
    }
   ],
   "source": [
    "from sklearn.cluster import KMeans\n",
    "model = KMeans(n_clusters=3)\n",
    "labels = model.fit_predict(samples)"
   ]
  },
  {
   "cell_type": "code",
   "execution_count": 19,
   "metadata": {},
   "outputs": [
    {
     "name": "stdout",
     "output_type": "stream",
     "text": [
      "varieties  Barbera  Barolo  Grignolino\n",
      "labels                                \n",
      "0               19       0          50\n",
      "1                0      46           1\n",
      "2               29      13          20\n"
     ]
    }
   ],
   "source": [
    "df = pd.DataFrame({'labels': labels, 'varieties': varieties})\n",
    "ct = pd.crosstab(df['labels'], df['varieties'])\n",
    "print(ct)"
   ]
  },
  {
   "cell_type": "markdown",
   "metadata": {},
   "source": [
    "We can note that this time the KMenas with 3 clusters as our data set did not correspond well with the wine varieties. Thats because the features of the wine dataset have very different variances."
   ]
  },
  {
   "cell_type": "code",
   "execution_count": 21,
   "metadata": {},
   "outputs": [],
   "source": [
    "from sklearn.preprocessing import StandardScaler\n",
    "scaler = StandardScaler()\n",
    "scaler.fit(samples)\n",
    "StandardScaler(copy=True, with_mean=True, with_std=True)\n",
    "samples_scaled = scaler.transform(samples)"
   ]
  },
  {
   "cell_type": "code",
   "execution_count": 22,
   "metadata": {},
   "outputs": [
    {
     "name": "stderr",
     "output_type": "stream",
     "text": [
      "c:\\ProgramData\\anaconda3\\Lib\\site-packages\\sklearn\\cluster\\_kmeans.py:1429: UserWarning: KMeans is known to have a memory leak on Windows with MKL, when there are less chunks than available threads. You can avoid it by setting the environment variable OMP_NUM_THREADS=1.\n",
      "  warnings.warn(\n"
     ]
    }
   ],
   "source": [
    "from sklearn.pipeline import make_pipeline\n",
    "pipeline = make_pipeline(scaler,model)\n",
    "pipeline.fit(samples_scaled)\n",
    "labels = pipeline.predict(samples_scaled)"
   ]
  },
  {
   "cell_type": "code",
   "execution_count": 23,
   "metadata": {},
   "outputs": [
    {
     "name": "stdout",
     "output_type": "stream",
     "text": [
      "varieties  Barbera  Barolo  Grignolino\n",
      "labels                                \n",
      "0                0      59           4\n",
      "1               48       0           3\n",
      "2                0       0          64\n"
     ]
    }
   ],
   "source": [
    "df = pd.DataFrame({'labels': labels, 'varieties': varieties})\n",
    "ct = pd.crosstab(df['labels'], df['varieties'])\n",
    "print(ct)"
   ]
  },
  {
   "cell_type": "markdown",
   "metadata": {},
   "source": [
    "So is revealed that incorporating standardization is fantastic."
   ]
  }
 ],
 "metadata": {
  "kernelspec": {
   "display_name": "base",
   "language": "python",
   "name": "python3"
  },
  "language_info": {
   "codemirror_mode": {
    "name": "ipython",
    "version": 3
   },
   "file_extension": ".py",
   "mimetype": "text/x-python",
   "name": "python",
   "nbconvert_exporter": "python",
   "pygments_lexer": "ipython3",
   "version": "3.12.7"
  }
 },
 "nbformat": 4,
 "nbformat_minor": 2
}
