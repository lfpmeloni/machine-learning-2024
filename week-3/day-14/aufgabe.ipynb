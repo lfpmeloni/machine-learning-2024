{
 "cells": [
  {
   "cell_type": "markdown",
   "metadata": {},
   "source": [
    "Sample code:\n",
    "\n",
    "from sklearn.neural_network import MLPRegressor\n",
    "\n",
    "## Normale Daten\n",
    "nn = MLPRegressor(hidden_layer_sizes = (3,4),\n",
    "activation = \"relu\",\n",
    "solver = \"adam\",\n",
    "max_iter=2_000,\n",
    "random_state = 42)\n",
    "\n",
    "## Große Daten\n",
    "nn = MLPRegressor(hidden_layer_sizes = (300,300,200,2),\n",
    "activation = \"tanh\",\n",
    "solver = \"sgd\",\n",
    "learning_rate= \"invscaling\",\n",
    "batch_size =1000,\n",
    "max_iter=2_0000,\n",
    "random_state = 42,\n",
    "warm_start = True,\n",
    "early_stopping = True)\n"
   ]
  },
  {
   "cell_type": "markdown",
   "metadata": {},
   "source": [
    "# Stage 1\n",
    "\n",
    "## Task 1a: Scaling Boston Housing Data Using MinMaxScaler\n",
    "\n",
    "Translation:\n",
    "Load the Boston housing dataset.\n",
    "Scale the data using sklearn.preprocessing.MinMaxScaler.\n",
    "Use a predefined MLPRegressor class to predict prices.\n",
    "Experiment with different parameters of the MLPRegressor to improve performance.\n",
    "Calculate the model's score. Discuss what a good score would be."
   ]
  },
  {
   "cell_type": "code",
   "execution_count": 1,
   "metadata": {},
   "outputs": [
    {
     "name": "stdout",
     "output_type": "stream",
     "text": [
      "R² Score: -3.0815\n"
     ]
    },
    {
     "name": "stderr",
     "output_type": "stream",
     "text": [
      "c:\\ProgramData\\anaconda3\\Lib\\site-packages\\sklearn\\neural_network\\_multilayer_perceptron.py:690: ConvergenceWarning: Stochastic Optimizer: Maximum iterations (2000) reached and the optimization hasn't converged yet.\n",
      "  warnings.warn(\n"
     ]
    }
   ],
   "source": [
    "import pandas as pd\n",
    "from sklearn.model_selection import train_test_split\n",
    "from sklearn.preprocessing import MinMaxScaler\n",
    "from sklearn.neural_network import MLPRegressor\n",
    "from sklearn.metrics import r2_score\n",
    "\n",
    "# Load datasets\n",
    "X = pd.read_csv('BostonFeature.csv', header=None).values\n",
    "y = pd.read_csv('BostonTarget.csv', header=None).values.ravel()\n",
    "\n",
    "# Split data into train and test sets\n",
    "X_train, X_test, y_train, y_test = train_test_split(X, y, test_size=0.2, random_state=42)\n",
    "\n",
    "# Scale the data using MinMaxScaler\n",
    "scaler = MinMaxScaler()\n",
    "X_train_scaled = scaler.fit_transform(X_train)\n",
    "X_test_scaled = scaler.transform(X_test)\n",
    "\n",
    "# Define the MLPRegressor (normal configuration)\n",
    "nn = MLPRegressor(hidden_layer_sizes=(3, 4), activation=\"relu\", solver=\"adam\",\n",
    "                  max_iter=2000, random_state=42)\n",
    "\n",
    "# Train the model\n",
    "nn.fit(X_train_scaled, y_train)\n",
    "\n",
    "# Predict and calculate the score\n",
    "y_pred = nn.predict(X_test_scaled)\n",
    "score = r2_score(y_test, y_pred)\n",
    "\n",
    "print(f\"R² Score: {score:.4f}\")\n"
   ]
  },
  {
   "cell_type": "markdown",
   "metadata": {},
   "source": [
    "## Task 1b: Scaling Data Using StandardScaler\n",
    "\n",
    "Translation:\n",
    "Repeat the process using sklearn.preprocessing.StandardScaler."
   ]
  },
  {
   "cell_type": "code",
   "execution_count": 2,
   "metadata": {},
   "outputs": [
    {
     "name": "stdout",
     "output_type": "stream",
     "text": [
      "R² Score with StandardScaler: 0.6830\n"
     ]
    }
   ],
   "source": [
    "from sklearn.preprocessing import StandardScaler\n",
    "\n",
    "# Scale the data using StandardScaler\n",
    "scaler = StandardScaler()\n",
    "X_train_scaled = scaler.fit_transform(X_train)\n",
    "X_test_scaled = scaler.transform(X_test)\n",
    "\n",
    "# Train the model again with StandardScaler-scaled data\n",
    "nn.fit(X_train_scaled, y_train)\n",
    "\n",
    "# Predict and calculate the score\n",
    "y_pred = nn.predict(X_test_scaled)\n",
    "score = r2_score(y_test, y_pred)\n",
    "\n",
    "print(f\"R² Score with StandardScaler: {score:.4f}\")\n"
   ]
  },
  {
   "cell_type": "markdown",
   "metadata": {},
   "source": [
    "## Task 1c: Without Scaling and Varying Parameters\n",
    "\n",
    "Translation:\n",
    "Perform predictions without scaling the data.\n",
    "Vary two parameters of the MLPRegressor (e.g., hidden_layer_sizes and activation) and evaluate their effect."
   ]
  },
  {
   "cell_type": "code",
   "execution_count": 3,
   "metadata": {},
   "outputs": [
    {
     "name": "stdout",
     "output_type": "stream",
     "text": [
      "R² Score without scaling: 0.0083\n",
      "R² Score with adjusted parameters: 0.3941\n"
     ]
    }
   ],
   "source": [
    "# Train and evaluate without scaling\n",
    "nn = MLPRegressor(hidden_layer_sizes=(10, 10), activation=\"tanh\", solver=\"sgd\",\n",
    "                  max_iter=2000, random_state=42)\n",
    "nn.fit(X_train, y_train)\n",
    "y_pred = nn.predict(X_test)\n",
    "score = r2_score(y_test, y_pred)\n",
    "\n",
    "print(f\"R² Score without scaling: {score:.4f}\")\n",
    "\n",
    "# Experiment with other parameters\n",
    "nn = MLPRegressor(hidden_layer_sizes=(50, 50, 10), activation=\"relu\", solver=\"adam\",\n",
    "                  max_iter=3000, random_state=42)\n",
    "nn.fit(X_train, y_train)\n",
    "y_pred = nn.predict(X_test)\n",
    "score = r2_score(y_test, y_pred)\n",
    "\n",
    "print(f\"R² Score with adjusted parameters: {score:.4f}\")\n"
   ]
  },
  {
   "cell_type": "markdown",
   "metadata": {},
   "source": [
    "## Task 1d: Predicting Iris with MLPRegressor\n",
    "\n",
    "Translation:\n",
    "Use another dataset (Iris) to find an MLP configuration that performs particularly well."
   ]
  },
  {
   "cell_type": "code",
   "execution_count": 6,
   "metadata": {},
   "outputs": [
    {
     "name": "stdout",
     "output_type": "stream",
     "text": [
      "Best Parameters: {'activation': 'relu', 'alpha': 0.0001, 'hidden_layer_sizes': (10,), 'learning_rate': 'constant', 'solver': 'sgd'}\n",
      "Accuracy on the test set: 1.0000\n"
     ]
    }
   ],
   "source": [
    "from sklearn.datasets import load_iris\n",
    "from sklearn.model_selection import train_test_split\n",
    "from sklearn.preprocessing import StandardScaler\n",
    "from sklearn.neural_network import MLPClassifier\n",
    "from sklearn.metrics import accuracy_score\n",
    "from sklearn.model_selection import GridSearchCV\n",
    "\n",
    "# Load the Iris dataset\n",
    "data = load_iris()\n",
    "X, y = data.data, data.target\n",
    "\n",
    "# Split the data into training and testing sets\n",
    "X_train, X_test, y_train, y_test = train_test_split(X, y, test_size=0.2, random_state=42)\n",
    "\n",
    "# Scale the features using StandardScaler\n",
    "scaler = StandardScaler()\n",
    "X_train_scaled = scaler.fit_transform(X_train)\n",
    "X_test_scaled = scaler.transform(X_test)\n",
    "\n",
    "# Define the MLPClassifier and a grid of hyperparameters to test\n",
    "mlp = MLPClassifier(max_iter=2000, random_state=42)\n",
    "\n",
    "param_grid = {\n",
    "    'hidden_layer_sizes': [(10,), (50, 50), (100, 50, 10)],\n",
    "    'activation': ['relu', 'tanh'],\n",
    "    'solver': ['adam', 'sgd'],\n",
    "    'alpha': [0.0001, 0.001, 0.01],  # L2 regularization\n",
    "    'learning_rate': ['constant', 'adaptive']\n",
    "}\n",
    "\n",
    "# Use GridSearchCV to find the best hyperparameters\n",
    "grid_search = GridSearchCV(estimator=mlp, param_grid=param_grid, cv=5, scoring='accuracy', n_jobs=-1)\n",
    "grid_search.fit(X_train_scaled, y_train)\n",
    "\n",
    "# Print the best parameters and accuracy\n",
    "print(\"Best Parameters:\", grid_search.best_params_)\n",
    "\n",
    "# Evaluate the best model on the test set\n",
    "best_model = grid_search.best_estimator_\n",
    "y_pred = best_model.predict(X_test_scaled)\n",
    "accuracy = accuracy_score(y_test, y_pred)\n",
    "\n",
    "print(f\"Accuracy on the test set: {accuracy:.4f}\")\n"
   ]
  }
 ],
 "metadata": {
  "kernelspec": {
   "display_name": "base",
   "language": "python",
   "name": "python3"
  },
  "language_info": {
   "codemirror_mode": {
    "name": "ipython",
    "version": 3
   },
   "file_extension": ".py",
   "mimetype": "text/x-python",
   "name": "python",
   "nbconvert_exporter": "python",
   "pygments_lexer": "ipython3",
   "version": "3.12.7"
  }
 },
 "nbformat": 4,
 "nbformat_minor": 2
}
