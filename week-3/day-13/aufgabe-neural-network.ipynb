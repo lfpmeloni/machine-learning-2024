{
 "cells": [
  {
   "cell_type": "markdown",
   "metadata": {},
   "source": [
    "# Exercise: Perceptron Implementation\n",
    "\n",
    "## Stufe 1: Aufgabe 1-1\n",
    "\n",
    "Task:\n",
    "\n",
    "Run the code and ensure it works.\n",
    "Debug the code using a debugger, paying attention to the dimensions of the data.\n",
    "Test the implementation using Frochte's dataset on cars (replace the dataset in the code).\n",
    "\n",
    "## Stufe 1: Aufgabe 1-2\n",
    "\n",
    "Task:\n",
    "\n",
    "Create a class for a perceptron model.\n",
    "Initialize parameters in __init__.\n",
    "Ensure fit and predict methods use only data inputs.\n",
    "Use Frochte's data for training and the four test elements from the book for testing.\n",
    "Do not scale data inside the class; ensure scaling is done externally using MinMaxScaler.\n",
    "\n",
    "## Stufe 2: Aufgabe 2-1\n",
    "\n",
    "Task:\n",
    "Print and compare the slope of the decision boundary with a plot.\n",
    "Visualize the decision boundary.\n",
    "\n",
    "## Stufe 3a\n",
    "\n",
    "Task:\n",
    "Build a perceptron for 5-component input data.\n",
    "Train it to output 1 if any component is 1 (extended OR gate).\n",
    "Identify weights, starting with 10 training samples.\n",
    "Test with multiple random seeds.\n",
    "\n"
   ]
  },
  {
   "cell_type": "markdown",
   "metadata": {},
   "source": [
    "1. Data Loading and Debugging"
   ]
  },
  {
   "cell_type": "code",
   "execution_count": 2,
   "metadata": {},
   "outputs": [
    {
     "name": "stdout",
     "output_type": "stream",
     "text": [
      "Dataset preview:\n",
      "   Class  Price  Horsepower\n",
      "0      0  26490          77\n",
      "1      0  22490         114\n",
      "2      0  24990         114\n",
      "3      0  33500         110\n",
      "4      0  35500         110\n"
     ]
    }
   ],
   "source": [
    "# Load required libraries\n",
    "import pandas as pd\n",
    "import numpy as np\n",
    "from sklearn.preprocessing import MinMaxScaler\n",
    "from sklearn.model_selection import train_test_split\n",
    "import matplotlib.pyplot as plt\n",
    "\n",
    "# Load the dataset\n",
    "file_path = \"Autoklassifizierung.csv\"\n",
    "df = pd.read_csv(file_path, header=None, names=[\"Class\", \"Price\", \"Horsepower\"])\n",
    "\n",
    "# Debugging: Preview dataset\n",
    "print(\"Dataset preview:\")\n",
    "print(df.head())\n"
   ]
  },
  {
   "cell_type": "code",
   "execution_count": 3,
   "metadata": {},
   "outputs": [
    {
     "name": "stdout",
     "output_type": "stream",
     "text": [
      "X shape: (40, 2)\n",
      "y shape: (40,)\n"
     ]
    }
   ],
   "source": [
    "# Separate features (X) and target (y)\n",
    "X = df[[\"Price\", \"Horsepower\"]].values\n",
    "y = df[\"Class\"].values\n",
    "\n",
    "# Debugging: Check dimensions\n",
    "print(f\"X shape: {X.shape}\")\n",
    "print(f\"y shape: {y.shape}\")\n"
   ]
  },
  {
   "cell_type": "markdown",
   "metadata": {},
   "source": [
    "2. Debugging Dimensions"
   ]
  },
  {
   "cell_type": "code",
   "execution_count": 4,
   "metadata": {},
   "outputs": [
    {
     "name": "stdout",
     "output_type": "stream",
     "text": [
      "First feature row: [26490    77]\n",
      "First target value: 0\n"
     ]
    }
   ],
   "source": [
    "# Debugging: Verify individual rows\n",
    "print(f\"First feature row: {X[0]}\")\n",
    "print(f\"First target value: {y[0]}\")\n"
   ]
  },
  {
   "cell_type": "markdown",
   "metadata": {},
   "source": [
    "3. Define Perceptron Class"
   ]
  },
  {
   "cell_type": "code",
   "execution_count": 5,
   "metadata": {},
   "outputs": [],
   "source": [
    "# Define the Perceptron class\n",
    "class Perceptron:\n",
    "    def __init__(self, learning_rate=0.01, max_iter=1000):\n",
    "        self.learning_rate = learning_rate\n",
    "        self.max_iter = max_iter\n",
    "        self.weights = None\n",
    "        self.bias = None\n",
    "\n",
    "    def fit(self, X, y):\n",
    "        n_samples, n_features = X.shape\n",
    "        self.weights = np.zeros(n_features)\n",
    "        self.bias = 0\n",
    "\n",
    "        for _ in range(self.max_iter):\n",
    "            for idx, x_i in enumerate(X):\n",
    "                linear_output = np.dot(x_i, self.weights) + self.bias\n",
    "                y_predicted = self._activation_function(linear_output)\n",
    "                update = self.learning_rate * (y[idx] - y_predicted)\n",
    "                self.weights += update * x_i\n",
    "                self.bias += update\n",
    "\n",
    "    def predict(self, X):\n",
    "        linear_output = np.dot(X, self.weights) + self.bias\n",
    "        return self._activation_function(linear_output)\n",
    "\n",
    "    def _activation_function(self, x):\n",
    "        return np.where(x >= 0, 1, 0)\n"
   ]
  },
  {
   "cell_type": "markdown",
   "metadata": {},
   "source": [
    "4. Data Scaling and Class Testing"
   ]
  },
  {
   "cell_type": "code",
   "execution_count": 6,
   "metadata": {},
   "outputs": [
    {
     "name": "stdout",
     "output_type": "stream",
     "text": [
      "Test Predictions: [0 0 0 1 0 0 1 1]\n",
      "Actual Labels: [0 0 0 1 0 0 1 1]\n"
     ]
    }
   ],
   "source": [
    "# Scale the features\n",
    "scaler = MinMaxScaler()\n",
    "X_scaled = scaler.fit_transform(X)\n",
    "\n",
    "# Split data into training and testing sets\n",
    "X_train, X_test, y_train, y_test = train_test_split(X_scaled, y, test_size=0.2, random_state=42)\n",
    "\n",
    "# Initialize and train the perceptron\n",
    "perceptron = Perceptron(learning_rate=0.01, max_iter=1000)\n",
    "perceptron.fit(X_train, y_train)\n",
    "\n",
    "# Evaluate on the test set\n",
    "y_pred = perceptron.predict(X_test)\n",
    "print(f\"Test Predictions: {y_pred}\")\n",
    "print(f\"Actual Labels: {y_test}\")\n"
   ]
  },
  {
   "cell_type": "markdown",
   "metadata": {},
   "source": [
    "5. Decision Boundary Slope and Visualization"
   ]
  },
  {
   "cell_type": "code",
   "execution_count": 7,
   "metadata": {},
   "outputs": [
    {
     "data": {
      "image/png": "[encoded data removed]",
      "text/plain": [
       "<Figure size 640x480 with 1 Axes>"
      ]
     },
     "metadata": {},
     "output_type": "display_data"
    }
   ],
   "source": [
    "# Plot decision boundary\n",
    "def plot_decision_boundary(X, y, model):\n",
    "    x1 = np.linspace(X[:, 0].min(), X[:, 0].max(), 100)\n",
    "    x2 = -(model.weights[0] * x1 + model.bias) / model.weights[1]\n",
    "    plt.scatter(X[:, 0], X[:, 1], c=y, cmap='viridis', edgecolor='k', label='Data points')\n",
    "    plt.plot(x1, x2, color='red', label='Decision Boundary')\n",
    "    plt.xlabel(\"Price (scaled)\")\n",
    "    plt.ylabel(\"Horsepower (scaled)\")\n",
    "    plt.legend()\n",
    "    plt.title(\"Decision Boundary\")\n",
    "    plt.show()\n",
    "\n",
    "plot_decision_boundary(X_scaled, y, perceptron)\n"
   ]
  },
  {
   "cell_type": "code",
   "execution_count": 8,
   "metadata": {},
   "outputs": [
    {
     "name": "stdout",
     "output_type": "stream",
     "text": [
      "Decision boundary slope: -1.785358233691682\n"
     ]
    }
   ],
   "source": [
    "# Print decision boundary slope\n",
    "slope = -perceptron.weights[0] / perceptron.weights[1]\n",
    "print(f\"Decision boundary slope: {slope}\")\n"
   ]
  },
  {
   "cell_type": "markdown",
   "metadata": {},
   "source": [
    "6. Train Perceptron for 5-Component Data (Extended OR Gate)"
   ]
  },
  {
   "cell_type": "code",
   "execution_count": 9,
   "metadata": {},
   "outputs": [
    {
     "name": "stdout",
     "output_type": "stream",
     "text": [
      "Weights: [0. 0. 0. 0. 0.]\n",
      "Bias: 0.0\n"
     ]
    }
   ],
   "source": [
    "# Generate extended OR dataset\n",
    "np.random.seed(42)\n",
    "X_or = np.random.randint(0, 2, size=(10, 5))\n",
    "y_or = (np.any(X_or == 1, axis=1)).astype(int)\n",
    "\n",
    "# Initialize and train perceptron\n",
    "perceptron_or = Perceptron(learning_rate=0.1, max_iter=1000)\n",
    "perceptron_or.fit(X_or, y_or)\n",
    "\n",
    "# Display weights\n",
    "print(f\"Weights: {perceptron_or.weights}\")\n",
    "print(f\"Bias: {perceptron_or.bias}\")\n"
   ]
  },
  {
   "cell_type": "code",
   "execution_count": 10,
   "metadata": {},
   "outputs": [
    {
     "name": "stdout",
     "output_type": "stream",
     "text": [
      "Test Inputs:\n",
      "[[0 1 0 1 0]\n",
      " [1 1 0 0 0]\n",
      " [0 0 0 0 0]\n",
      " [1 1 0 1 1]\n",
      " [1 1 0 1 0]]\n",
      "Predictions: [1 1 1 1 1]\n",
      "Actual Labels: [1 1 0 1 1]\n"
     ]
    }
   ],
   "source": [
    "# Test with new random data\n",
    "X_test_or = np.random.randint(0, 2, size=(5, 5))\n",
    "y_test_or = (np.any(X_test_or == 1, axis=1)).astype(int)\n",
    "\n",
    "y_pred_or = perceptron_or.predict(X_test_or)\n",
    "print(f\"Test Inputs:\\n{X_test_or}\")\n",
    "print(f\"Predictions: {y_pred_or}\")\n",
    "print(f\"Actual Labels: {y_test_or}\")\n"
   ]
  }
 ],
 "metadata": {
  "kernelspec": {
   "display_name": "base",
   "language": "python",
   "name": "python3"
  },
  "language_info": {
   "codemirror_mode": {
    "name": "ipython",
    "version": 3
   },
   "file_extension": ".py",
   "mimetype": "text/x-python",
   "name": "python",
   "nbconvert_exporter": "python",
   "pygments_lexer": "ipython3",
   "version": "3.12.7"
  }
 },
 "nbformat": 4,
 "nbformat_minor": 2
}
