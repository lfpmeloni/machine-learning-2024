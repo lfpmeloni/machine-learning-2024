{
 "cells": [
  {
   "cell_type": "markdown",
   "metadata": {},
   "source": [
    "# Aufgaben zu Imputer / Transformer\n",
    "\n",
    "## Stufe 0\n",
    "\n",
    "Stelle sicher, dass Du verstanden hast, wie man Klassen zusammenbaut und welche Rolle die Parameter spielen.(z.B.  Frochte, Kapitel3.2.5)\n",
    "\n",
    "## Stufe 1\n",
    "\n",
    "a) Schreibe eine Klasse MyImputer\n",
    "\n",
    "Für diese Aufgabe legen wir fest, dass wir NAN-Werte dadurch erkennen, dass sie als 0 abgespeichert sind.\n",
    "(z.B. alter =0 weist darauf hin, dass Informationen über das Alter nicht vorliegen)\n",
    "\n",
    "Die Klasse soll unterschiedlich agieren , je nach Parameter.\n",
    "Parameter können sein : \n",
    "\tstrategy=\"mean\", \n",
    "\tstrategy=\"feature\"  (wird erst in Aufgabe 2d) abgearbeitet.\n",
    "\tes sind auch  weitere Parameter möglich.\n",
    "\n",
    "\n",
    "Die Klasse soll enthalten\n",
    "\teine Funktion __init__, die die Parameter abspeichert\n",
    "\teine Funktion fit, die sich einen Datensatz anschaut und Werte berechnet und abspeichert\n",
    "\teine Funktion transform, \n",
    "\t\tdie  eine Datenspalte  neu berechnet.\n",
    "\n",
    "\t\tFalls die Strategie „mean“ ist, \n",
    "\t\tsoll die neue Spalte überall  den Mittelwert der alten Daten enthalten, \n",
    "\t\t\tan den Stellen , wo vorher fehlender Werte waren.\n",
    "\t\tFalls die Strategie „feature“ ist, wird an die fehlende Stelle jeweils die Spaltennummer eingesetzt\n",
    "\n",
    "\t\tDie Funktion gibt den (eventuell) veränderten Datensatz zurück.\n",
    "\n",
    "b) ??\n",
    "\n",
    "c)\n",
    "Schreibe einen Test .\n",
    "Erfinde dafür eine Matrix, die aus 5x2 Werten besteht. \n",
    "Frage nach, wenn du einen Tipp für die Erzeugung der Matrix brauchst.\n",
    "Simuliere das Nichtvorhandensein von Werten, indem Du an einigen Stellen 0 einbaust.\n",
    "Lasse den Transformer einen Datensatz zurückgeben, wo kein fehlender Wert mehr auftaucht.\n"
   ]
  },
  {
   "cell_type": "code",
   "execution_count": 64,
   "metadata": {},
   "outputs": [],
   "source": [
    "import numpy as np\n",
    "import random"
   ]
  },
  {
   "cell_type": "code",
   "execution_count": 65,
   "metadata": {},
   "outputs": [],
   "source": [
    "# My sample data to test the creation of the MyInputer class\n",
    "\n",
    "a = [1,2,3,4,5,6,7,8,9,10]\n",
    "b = [2,4,6,8,10,12,14,16,18,20]\n",
    "c = [1,0,1,0,1,0,1,0,1,0]\n",
    "label = [10,0,10,10,0,10,10,0,10,10]\n",
    "\n",
    "size = [1, 2, 3, 4, 5, 'NaN', 7,8,9,10]\n",
    "farbe = ['rot','rot','gelb','gelb','blau','blau','rot','rot','rot','rot']\n",
    "gesund = [1,0,1,0,1,0,1,0,1,0]\n",
    "label_2 = ['Mini-Apfel','...']\n",
    "\n",
    "data = np.array([a,b,c,label], dtype=float).T # .T is a shorthand for the transpose of an array. When applied to a 2D array, it swaps the rows and columns."
   ]
  },
  {
   "cell_type": "code",
   "execution_count": 66,
   "metadata": {},
   "outputs": [
    {
     "data": {
      "text/plain": [
       "array([[ 1.,  2.,  1., 10.],\n",
       "       [ 2.,  4.,  0.,  0.],\n",
       "       [ 3.,  6.,  1., 10.],\n",
       "       [ 4.,  8.,  0., 10.],\n",
       "       [ 5., 10.,  1.,  0.],\n",
       "       [ 6., 12.,  0., 10.],\n",
       "       [ 7., 14.,  1., 10.],\n",
       "       [ 8., 16.,  0.,  0.],\n",
       "       [ 9., 18.,  1., 10.],\n",
       "       [10., 20.,  0., 10.]])"
      ]
     },
     "execution_count": 66,
     "metadata": {},
     "output_type": "execute_result"
    }
   ],
   "source": [
    "data"
   ]
  },
  {
   "cell_type": "code",
   "execution_count": 67,
   "metadata": {},
   "outputs": [],
   "source": [
    "# Add one NaN in each of the first three columns\n",
    "\n",
    "random.seed(42)\n",
    "\n",
    "for col in range(data.shape[1] - 1):  # Exclude the label column\n",
    "    row = random.randint(0, data.shape[0] - 1)  # Random row index\n",
    "    data[row, col] = np.nan"
   ]
  },
  {
   "cell_type": "code",
   "execution_count": 68,
   "metadata": {},
   "outputs": [
    {
     "data": {
      "text/plain": [
       "array([[ 1., nan,  1., 10.],\n",
       "       [nan,  4.,  0.,  0.],\n",
       "       [ 3.,  6.,  1., 10.],\n",
       "       [ 4.,  8.,  0., 10.],\n",
       "       [ 5., 10., nan,  0.],\n",
       "       [ 6., 12.,  0., 10.],\n",
       "       [ 7., 14.,  1., 10.],\n",
       "       [ 8., 16.,  0.,  0.],\n",
       "       [ 9., 18.,  1., 10.],\n",
       "       [10., 20.,  0., 10.]])"
      ]
     },
     "execution_count": 68,
     "metadata": {},
     "output_type": "execute_result"
    }
   ],
   "source": [
    "data"
   ]
  },
  {
   "cell_type": "code",
   "execution_count": 69,
   "metadata": {},
   "outputs": [],
   "source": [
    "class MyInputer:\n",
    "    def __init__(self, strategy = 'mean'):\n",
    "        self.strategy = strategy\n",
    "        self.impute_values = [] # initialize the attribute that will store the value to be substituted\n",
    "\n",
    "    def fit(self, X):\n",
    "        # Calculate mean for each column if strategy is mean\n",
    "        if self.strategy == 'mean':\n",
    "            for col in range(X.shape[1]):\n",
    "                # Extract column, ignoring NaN values\n",
    "                col_values = [value for value in X[:, col] if not np.isnan(value)]\n",
    "                # Calculate mean\n",
    "                mean_value = sum(col_values) / len(col_values) if col_values else 0\n",
    "                self.impute_values.append(mean_value)\n",
    "        elif self.strategy == 'feature':\n",
    "            # Use column number as the imput value\n",
    "            for col in range(X.shape[1]):\n",
    "                self.impute_values.append(col)\n",
    "\n",
    "    def transform(self, X):\n",
    "        X_imputed = X.copy()\n",
    "        # Replace NaNs with the computed mean values\n",
    "        for col in range(X.shape[1]):\n",
    "            X_imputed[np.isnan(X_imputed[:, col]), col] = self.impute_values[col]\n",
    "        return X_imputed"
   ]
  },
  {
   "cell_type": "code",
   "execution_count": 70,
   "metadata": {},
   "outputs": [
    {
     "data": {
      "text/plain": [
       "array([[ 1.        , 12.        ,  1.        , 10.        ],\n",
       "       [ 5.88888889,  4.        ,  0.        ,  0.        ],\n",
       "       [ 3.        ,  6.        ,  1.        , 10.        ],\n",
       "       [ 4.        ,  8.        ,  0.        , 10.        ],\n",
       "       [ 5.        , 10.        ,  0.44444444,  0.        ],\n",
       "       [ 6.        , 12.        ,  0.        , 10.        ],\n",
       "       [ 7.        , 14.        ,  1.        , 10.        ],\n",
       "       [ 8.        , 16.        ,  0.        ,  0.        ],\n",
       "       [ 9.        , 18.        ,  1.        , 10.        ],\n",
       "       [10.        , 20.        ,  0.        , 10.        ]])"
      ]
     },
     "execution_count": 70,
     "metadata": {},
     "output_type": "execute_result"
    }
   ],
   "source": [
    "inputer = MyInputer(strategy='mean')\n",
    "inputer.fit(data)\n",
    "data_imputed = inputer.transform(data)\n",
    "data_imputed"
   ]
  },
  {
   "cell_type": "code",
   "execution_count": 71,
   "metadata": {},
   "outputs": [
    {
     "data": {
      "text/plain": [
       "array([[ 1.,  1.,  1., 10.],\n",
       "       [ 0.,  4.,  0.,  0.],\n",
       "       [ 3.,  6.,  1., 10.],\n",
       "       [ 4.,  8.,  0., 10.],\n",
       "       [ 5., 10.,  2.,  0.],\n",
       "       [ 6., 12.,  0., 10.],\n",
       "       [ 7., 14.,  1., 10.],\n",
       "       [ 8., 16.,  0.,  0.],\n",
       "       [ 9., 18.,  1., 10.],\n",
       "       [10., 20.,  0., 10.]])"
      ]
     },
     "execution_count": 71,
     "metadata": {},
     "output_type": "execute_result"
    }
   ],
   "source": [
    "inputer = MyInputer(strategy='feature')\n",
    "inputer.fit(data)\n",
    "data_imputed = inputer.transform(data)\n",
    "data_imputed"
   ]
  },
  {
   "cell_type": "markdown",
   "metadata": {},
   "source": [
    "Stufe 2\n",
    "a) Die gleiche Aufgabe, aber mit -999 als Kennzeichen für fehlende Werte\n",
    "b) Die gleiche Aufgabe, aber mit np.nan als Kennzeichen für fehlende Werte np.nan\n",
    "c) Diesmal darf eine Liste mit verschiedenen Kennzeichen für fehlende Werte eingegeben werden.\n",
    "   Jeder fehlende Wert soll durch die gleiche Methode ersetzt werden\n",
    "d) Baue die Klasse MyTransformer aus, so dass sie 2 Strategien abarbeitet.\n",
    "Falls die Strategie „feature“ ist, wird an die fehlende Stelle jeweils die Spaltennummer eingesetzt "
   ]
  },
  {
   "cell_type": "code",
   "execution_count": 72,
   "metadata": {},
   "outputs": [],
   "source": [
    "class MyInputer2:\n",
    "    def __init__(self, strategy='mean', substitutes=['NaN', 0, -999]):\n",
    "        self.strategy = strategy\n",
    "        self.substitutes = substitutes  # List of substitute values\n",
    "        self.impute_values = []  # Initialize to store impute values for each column\n",
    "\n",
    "    def insert_substitutes(self, X):\n",
    "        X_modified = X.copy()\n",
    "        for col in range(X.shape[1] - 1):  # Exclude the label column\n",
    "            # Get a list of random row indices for each substitute in the column\n",
    "            rows = random.sample(range(X.shape[0]), len(self.substitutes))\n",
    "            for i, substitute in enumerate(self.substitutes):\n",
    "                # Insert substitute value; handle 'NaN' as np.nan\n",
    "                if substitute == 'NaN':\n",
    "                    X_modified[rows[i], col] = np.nan\n",
    "                else:\n",
    "                    X_modified[rows[i], col] = substitute\n",
    "        return X_modified\n",
    "\n",
    "    def fit(self, X):\n",
    "        self.impute_values = []\n",
    "        if self.strategy == 'mean':\n",
    "            # Calculate mean for each column, excluding values in substitutes\n",
    "            for col in range(X.shape[1]):\n",
    "                col_values = [\n",
    "                    value for value in X[:, col]\n",
    "                    if (value not in self.substitutes and not (np.isnan(value) and 'NaN' in self.substitutes))\n",
    "                ]\n",
    "                mean_value = sum(col_values) / len(col_values) if col_values else 0\n",
    "                self.impute_values.append(mean_value)\n",
    "        elif self.strategy == 'feature':\n",
    "            # Use column number as the impute value\n",
    "            for col in range(X.shape[1]):\n",
    "                self.impute_values.append(col)  # Set column index as impute value\n",
    "\n",
    "    def transform(self, X):\n",
    "        X_imputed = X.copy()\n",
    "        # Replace NaNs and other substitutes with the computed impute values\n",
    "        for col in range(X.shape[1]):\n",
    "            for substitute in self.substitutes:\n",
    "                if substitute == 'NaN':\n",
    "                    # Replace np.nan values\n",
    "                    X_imputed[np.isnan(X_imputed[:, col]), col] = self.impute_values[col]\n",
    "                else:\n",
    "                    # Replace other specified substitute values\n",
    "                    X_imputed[X_imputed[:, col] == substitute, col] = self.impute_values[col]\n",
    "        return X_imputed\n"
   ]
  },
  {
   "cell_type": "code",
   "execution_count": 73,
   "metadata": {},
   "outputs": [
    {
     "data": {
      "text/plain": [
       "array([[ 1.,  2.,  1., 10.],\n",
       "       [ 2.,  4.,  0.,  0.],\n",
       "       [ 3.,  6.,  1., 10.],\n",
       "       [ 4.,  8.,  0., 10.],\n",
       "       [ 5., 10.,  1.,  0.],\n",
       "       [ 6., 12.,  0., 10.],\n",
       "       [ 7., 14.,  1., 10.],\n",
       "       [ 8., 16.,  0.,  0.],\n",
       "       [ 9., 18.,  1., 10.],\n",
       "       [10., 20.,  0., 10.]])"
      ]
     },
     "execution_count": 73,
     "metadata": {},
     "output_type": "execute_result"
    }
   ],
   "source": [
    "data = np.array([a, b, c, label], dtype=float).T\n",
    "data"
   ]
  },
  {
   "cell_type": "code",
   "execution_count": 74,
   "metadata": {},
   "outputs": [
    {
     "data": {
      "text/plain": [
       "array([[   1.,    2., -999.,   10.],\n",
       "       [   2.,   nan,    0.,    0.],\n",
       "       [-999.,    6.,    1.,   10.],\n",
       "       [  nan,    8.,    0.,   10.],\n",
       "       [   5.,   10.,    1.,    0.],\n",
       "       [   6.,   12.,    0.,   10.],\n",
       "       [   7.,   14.,    0.,   10.],\n",
       "       [   8.,   16.,    0.,    0.],\n",
       "       [   9.,    0.,    1.,   10.],\n",
       "       [   0., -999.,   nan,   10.]])"
      ]
     },
     "execution_count": 74,
     "metadata": {},
     "output_type": "execute_result"
    }
   ],
   "source": [
    "inputer = MyInputer2(strategy='mean', substitutes=['NaN', 0, -999])\n",
    "data_with_substitutes = inputer.insert_substitutes(data)\n",
    "data_with_substitutes"
   ]
  },
  {
   "cell_type": "code",
   "execution_count": 76,
   "metadata": {},
   "outputs": [
    {
     "data": {
      "text/plain": [
       "array([[ 1.        ,  2.        ,  1.        , 10.        ],\n",
       "       [ 2.        ,  9.71428571,  1.        , 10.        ],\n",
       "       [ 5.42857143,  6.        ,  1.        , 10.        ],\n",
       "       [ 5.42857143,  8.        ,  1.        , 10.        ],\n",
       "       [ 5.        , 10.        ,  1.        , 10.        ],\n",
       "       [ 6.        , 12.        ,  1.        , 10.        ],\n",
       "       [ 7.        , 14.        ,  1.        , 10.        ],\n",
       "       [ 8.        , 16.        ,  1.        , 10.        ],\n",
       "       [ 9.        ,  9.71428571,  1.        , 10.        ],\n",
       "       [ 5.42857143,  9.71428571,  1.        , 10.        ]])"
      ]
     },
     "execution_count": 76,
     "metadata": {},
     "output_type": "execute_result"
    }
   ],
   "source": [
    "inputer.fit(data_with_substitutes)\n",
    "data_imputed = inputer.transform(data_with_substitutes)\n",
    "data_imputed"
   ]
  },
  {
   "cell_type": "markdown",
   "metadata": {},
   "source": [
    "There is a conceptual error in the exercise definition and the dataset provided by the teacher. Zeros are considered values to be substituted, even though both the label and columns use zeros and binary values as valid and meaningful data. Nevertheless, the code is written according to the specified evaluation criteria."
   ]
  },
  {
   "cell_type": "markdown",
   "metadata": {},
   "source": [
    "## Stufe 3\n",
    "\n",
    "Schreibe eine Klasse Gruppenimputer.\n",
    "Die Klasse soll kategoriale Zielvariablen haben.\n",
    "Die Klasse soll den Datensatz in mehrere Untergruppen spalten, bei denen jeweils y denselben Wert hat.\n",
    "Fehlende Werte sollen durch den Mittelwert der jeweiligen Gruppe ersetzt werden.\n",
    "\n",
    "a = [1,3,2,'NaN',50,60]\n",
    "b = [10,12,'NaN',50,55,56]\n",
    "label = ['Apfel','Apfel','Apfel','Birne','Birne','Birne']\n",
    "\n",
    "Die Ersatzwerte werden für die Kategorie „Birne“ und „Apfel“ getrennt ermittelt\n"
   ]
  },
  {
   "cell_type": "code",
   "execution_count": 77,
   "metadata": {},
   "outputs": [],
   "source": [
    "class MyInputer3:\n",
    "    def __init__(self, strategy='mean', substitutes=['NaN']):\n",
    "        self.strategy = strategy\n",
    "        self.substitutes = substitutes  # List of substitute values\n",
    "        self.impute_values = {}  # Dictionary to store impute values for each category in the label\n",
    "\n",
    "    def fit(self, X, labels):\n",
    "        categories = np.unique(labels)  # Get unique categories from the label\n",
    "        for category in categories:\n",
    "            self.impute_values[category] = []\n",
    "            # Filter data by category\n",
    "            category_indices = [i for i, label in enumerate(labels) if label == category]\n",
    "            for col in range(X.shape[1]):\n",
    "                # Extract column values for the current category, excluding substitutes\n",
    "                col_values = [\n",
    "                    X[i, col] for i in category_indices\n",
    "                    if not np.isnan(X[i, col]) and X[i, col] not in self.substitutes\n",
    "                ]\n",
    "                # Calculate mean if strategy is 'mean'\n",
    "                mean_value = sum(col_values) / len(col_values) if col_values else 0\n",
    "                self.impute_values[category].append(mean_value)\n",
    "\n",
    "    def transform(self, X, labels):\n",
    "        X_imputed = X.copy()\n",
    "        for i, label in enumerate(labels):\n",
    "            for col in range(X.shape[1]):\n",
    "                for substitute in self.substitutes:\n",
    "                    if substitute == 'NaN' and np.isnan(X_imputed[i, col]):\n",
    "                        X_imputed[i, col] = self.impute_values[label][col]\n",
    "                    elif X_imputed[i, col] == substitute:\n",
    "                        X_imputed[i, col] = self.impute_values[label][col]\n",
    "        return X_imputed"
   ]
  },
  {
   "cell_type": "code",
   "execution_count": 79,
   "metadata": {},
   "outputs": [],
   "source": [
    "# Example usage\n",
    "a = [1, 3, 2, 'NaN', 50, 60]\n",
    "b = [10, 12, 'NaN', 50, 55, 56]\n",
    "label = ['Apfel', 'Apfel', 'Apfel', 'Birne', 'Birne', 'Birne']\n",
    "\n",
    "# Prepare the data\n",
    "data = np.array([a, b], dtype=float).T\n",
    "labels = np.array(label)"
   ]
  },
  {
   "cell_type": "code",
   "execution_count": 80,
   "metadata": {},
   "outputs": [
    {
     "data": {
      "text/plain": [
       "array([[ 1., 10.],\n",
       "       [ 3., 12.],\n",
       "       [ 2., nan],\n",
       "       [nan, 50.],\n",
       "       [50., 55.],\n",
       "       [60., 56.]])"
      ]
     },
     "execution_count": 80,
     "metadata": {},
     "output_type": "execute_result"
    }
   ],
   "source": [
    "inputer = MyInputer3(strategy='mean', substitutes=['NaN'])\n",
    "inputer.fit(data, labels)\n",
    "data_imputed = inputer.transform(data, labels)\n",
    "\n",
    "data\n"
   ]
  },
  {
   "cell_type": "code",
   "execution_count": 81,
   "metadata": {},
   "outputs": [
    {
     "data": {
      "text/plain": [
       "array([[ 1., 10.],\n",
       "       [ 3., 12.],\n",
       "       [ 2., 11.],\n",
       "       [55., 50.],\n",
       "       [50., 55.],\n",
       "       [60., 56.]])"
      ]
     },
     "execution_count": 81,
     "metadata": {},
     "output_type": "execute_result"
    }
   ],
   "source": [
    "data_imputed"
   ]
  }
 ],
 "metadata": {
  "kernelspec": {
   "display_name": "base",
   "language": "python",
   "name": "python3"
  },
  "language_info": {
   "codemirror_mode": {
    "name": "ipython",
    "version": 3
   },
   "file_extension": ".py",
   "mimetype": "text/x-python",
   "name": "python",
   "nbconvert_exporter": "python",
   "pygments_lexer": "ipython3",
   "version": "3.12.7"
  }
 },
 "nbformat": 4,
 "nbformat_minor": 2
}
