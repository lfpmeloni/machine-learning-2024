{
 "cells": [
  {
   "cell_type": "markdown",
   "id": "62d47cc0",
   "metadata": {},
   "source": [
    "# Ausgangssituation"
   ]
  },
  {
   "cell_type": "code",
   "execution_count": 1,
   "id": "db6c3202",
   "metadata": {},
   "outputs": [
    {
     "name": "stdout",
     "output_type": "stream",
     "text": [
      "[14  8 16]\n",
      "b1 [14  8 16] b2 [10 14  6]\n",
      "zwischen vektor\n",
      " [[14 10]\n",
      " [ 8 14]\n",
      " [16  6]]\n",
      "Die Ausgangsmatrix\n",
      "[[ 0  8 16]\n",
      " [10  0  6]]\n"
     ]
    }
   ],
   "source": [
    "import numpy as np\n",
    "np.random.seed(42)\n",
    "b1=np.random.randint(1,10,3 )*2\n",
    "print(b1)\n",
    "b2=np.random.randint(1,10,3) *2\n",
    "print(\"b1\",b1,\"b2\",b2)\n",
    "A=np.c_[b1,b2].T\n",
    "print(\"zwischen vektor\\n\",np.c_[b1,b2])\n",
    "A[0,0]= 0\n",
    "A[1,1]= 0\n",
    "print(\"Die Ausgangsmatrix\")\n",
    "print(A)"
   ]
  },
  {
   "cell_type": "code",
   "execution_count": 2,
   "id": "0f2fc094",
   "metadata": {},
   "outputs": [
    {
     "name": "stdout",
     "output_type": "stream",
     "text": [
      "Ein Vektor zum Beginn [12  6 14  8 12  0  0 12 14  8]\n"
     ]
    }
   ],
   "source": [
    "import numpy as np\n",
    "np.random.seed(42)\n",
    "a=np.random.randint(0,10,10) *2\n",
    "a[5] = a[6] = 0\n",
    "print(\"Ein Vektor zum Beginn\",a)\n"
   ]
  },
  {
   "cell_type": "markdown",
   "id": "c1d3b231",
   "metadata": {},
   "source": [
    "# Elemente auswählen, die an bestimmten Indizes stehen"
   ]
  },
  {
   "cell_type": "code",
   "execution_count": 3,
   "id": "published-dover",
   "metadata": {},
   "outputs": [
    {
     "name": "stdout",
     "output_type": "stream",
     "text": [
      "3.Element:     14\n",
      "Elemente mit Hilfe von Slicing bestimmen (Positionen 0 bis 2):\t [ 6 14]\n",
      "Elemente mit Hilfe von Index-Arrays( Indizes 1,2):\t [ 6 14]\n",
      "Elemente mit Hilfe von Index-Arrays( Indizes 0,2,6):\t [12 14  0]\n"
     ]
    }
   ],
   "source": [
    "#Es gibt 3 Möglichkeiten, auf Elemente zuzugreifen, wenn man deren Positionen kennt\n",
    "print(\"3.Element:    \", a[2])\n",
    "print(\"Elemente mit Hilfe von Slicing bestimmen (Positionen 0 bis 2):\\t\",a[1:3])\n",
    "\n",
    "print(\"Elemente mit Hilfe von Index-Arrays( Indizes 1,2):\\t\",\n",
    "      a[ [1,2]])\n",
    "print(\"Elemente mit Hilfe von Index-Arrays( Indizes 0,2,6):\\t\",\n",
    "      a[ [0,2,6]])"
   ]
  },
  {
   "cell_type": "markdown",
   "id": "9c9b12a2",
   "metadata": {},
   "source": [
    "# Elemente finden, wo der Wert eine bestimmte Bedingung erfüllt"
   ]
  },
  {
   "cell_type": "markdown",
   "id": "8fca2f42",
   "metadata": {},
   "source": [
    "### np.where"
   ]
  },
  {
   "cell_type": "code",
   "execution_count": 4,
   "id": "65a276c4",
   "metadata": {},
   "outputs": [
    {
     "name": "stdout",
     "output_type": "stream",
     "text": [
      "Original [12  6 14  8 12  0  0 12 14  8]\n",
      "np.where liefert die Indizes , wo der Inhalt <= 8\n",
      " (array([1, 3, 5, 6, 9], dtype=int64),) \n",
      "\n"
     ]
    }
   ],
   "source": [
    "#Indizes zurückgeben, wenn der Wert eine bestimmte Bedingung erfüllt\n",
    "\n",
    "print(\"Original\",a)\n",
    "i1=np.where(a <=8)\n",
    "print(\"np.where liefert die Indizes , wo der Inhalt <= 8\\n\",i1,\"\\n\")"
   ]
  },
  {
   "cell_type": "code",
   "execution_count": 5,
   "id": "e35331de",
   "metadata": {},
   "outputs": [
    {
     "name": "stdout",
     "output_type": "stream",
     "text": [
      "Die Bestandteile von a, die  <= 8 sind [6 8 0 0 8]\n"
     ]
    }
   ],
   "source": [
    "#Indizes benutzen , um an die Werte zu kommen\n",
    "print(\"Die Bestandteile von a, die  <= 8 sind\",      a[i1])"
   ]
  },
  {
   "cell_type": "code",
   "execution_count": 6,
   "id": "e8efd9a0",
   "metadata": {},
   "outputs": [
    {
     "name": "stdout",
     "output_type": "stream",
     "text": [
      "Mittelwert von a 8.6\n",
      "Die Bestandteile von a, die größer als der Mittelwert sind [12 14 12 12 14]\n",
      "\n",
      "Aus a wird alles, was nicht mit der Bedingung übereinstimmt, entfernt.\n"
     ]
    }
   ],
   "source": [
    "# identische Wirkung: \n",
    "print(\"Mittelwert von a\",a.mean())\n",
    "print(\"Die Bestandteile von a, die größer als der Mittelwert sind\",   a[ np.where(a>a.mean()) ])\n",
    "print()\n",
    "print(\"Aus a wird alles, was nicht mit der Bedingung übereinstimmt, entfernt.\")"
   ]
  },
  {
   "cell_type": "markdown",
   "id": "71abf25e",
   "metadata": {},
   "source": [
    "### np.nonzero, np.flatnonzero"
   ]
  },
  {
   "cell_type": "code",
   "execution_count": 7,
   "id": "daf340df",
   "metadata": {},
   "outputs": [
    {
     "name": "stdout",
     "output_type": "stream",
     "text": [
      "nonzero wird eigentlich auf arrays angewandt und unterdrückt die Nullen\n",
      "Ausgangsarray für nonzero [12  6 14  8 12  0  0 12 14  8]\n"
     ]
    }
   ],
   "source": [
    "print(\"nonzero wird eigentlich auf arrays angewandt und unterdrückt die Nullen\")\n",
    "print(\"Ausgangsarray für nonzero\",a)"
   ]
  },
  {
   "cell_type": "code",
   "execution_count": 8,
   "id": "47da0d68",
   "metadata": {},
   "outputs": [
    {
     "name": "stdout",
     "output_type": "stream",
     "text": [
      "original [12  6 14  8 12  0  0 12 14  8]\n",
      "nonzero(a)= (array([0, 1, 2, 3, 4, 7, 8, 9], dtype=int64),) .\n",
      "\t    Dies sind Indizes !\n",
      "\n"
     ]
    }
   ],
   "source": [
    "print(\"original\",a)\n",
    "print(\"nonzero(a)=\",np.nonzero(a),\".\\n\\t    Dies sind Indizes !\")\n",
    "print()"
   ]
  },
  {
   "cell_type": "code",
   "execution_count": 9,
   "id": "3f8a2a63",
   "metadata": {},
   "outputs": [
    {
     "name": "stdout",
     "output_type": "stream",
     "text": [
      "Original [12  6 14  8 12  0  0 12 14  8]\n",
      "np.nonzero kann auch mit Wahrheitswerten gebraucht werden, nämlich da,wo der Boolsche Ausdruck =True\n",
      "'Die Indizes, wo a >10' = (array([0, 2, 4, 7, 8], dtype=int64),)\n",
      "Die Zahlen aus dem Original-Array, die größer als 10 sind [12 14 12 12 14]\n"
     ]
    }
   ],
   "source": [
    "print(\"Original\",a)\n",
    "i2=np.nonzero( a >10)\n",
    "print(\"np.nonzero kann auch mit Wahrheitswerten gebraucht werden, nämlich da,wo der Boolsche Ausdruck =True\")\n",
    "print(\"'Die Indizes, wo a >10' =\",i2)\n",
    "#Die Indizes werden überall dort zurückgegeben, \n",
    "#wo das Boolean in der Klammer != False ist, deswegen heißt die Funktion \"nonzero\"\n",
    "#Mit den Indizes alle Bestandtteile, die die Bedingung erfüllen herausfiltern.\n",
    "print(\"Die Zahlen aus dem Original-Array, die größer als 10 sind\",a[i2])\n",
    "# oder:\n",
    "#print(\"Die Zahlen aus dem Original-Array, die größer als 10 sind\",a[np.nonzero( a >3)])"
   ]
  },
  {
   "cell_type": "code",
   "execution_count": 10,
   "id": "5ade0a6e",
   "metadata": {},
   "outputs": [
    {
     "name": "stdout",
     "output_type": "stream",
     "text": [
      "mehrdimensional: b Original\n",
      " [[11  0 22]\n",
      " [ 0 33 44]]\n",
      "flatnonzero lässt die Nullen weg und macht aus dem Ganzen ein eindimensionales Array\n",
      "\n",
      "Dies sind die Indizes des flachen Arrays, wo keine Nullen stehen [0 2 4 5]\n",
      "Ergebnis für b nach Flattening [11  0 22  0 33 44]\n",
      "Ergebnis für b nach Flattening und Zero-Entfernung [11 22 33 44]\n"
     ]
    }
   ],
   "source": [
    "b=np.array([[11,0,22],[0,33,44]]);print(\"mehrdimensional: b Original\\n\",b)\n",
    "i3=np.flatnonzero(b)\n",
    "print(\"flatnonzero lässt die Nullen weg und macht aus dem Ganzen ein eindimensionales Array\")\n",
    "print()\n",
    "print(\"Dies sind die Indizes des flachen Arrays, wo keine Nullen stehen\",i3)\n",
    "print(\"Ergebnis für b nach Flattening\", b.flatten())\n",
    "print(\"Ergebnis für b nach Flattening und Zero-Entfernung\", b.flatten()[i3])"
   ]
  },
  {
   "cell_type": "markdown",
   "id": "8c9c4100",
   "metadata": {},
   "source": [
    "# Mehrdimensionales np.where "
   ]
  },
  {
   "cell_type": "markdown",
   "id": "66f0ae4b",
   "metadata": {},
   "source": [
    "### Achtung: hier müssen die Indizes kompliziert zusammengebaut werden."
   ]
  },
  {
   "cell_type": "code",
   "execution_count": 11,
   "id": "b708d784",
   "metadata": {},
   "outputs": [
    {
     "name": "stdout",
     "output_type": "stream",
     "text": [
      "A\n",
      "[[ 0  8 16]\n",
      " [10  0  6]]\n",
      "Indizes der Elemente, die größer als 2 sind (array([0, 0, 1, 1], dtype=int64), array([1, 2, 0, 2], dtype=int64))\n",
      "\n",
      "Die Elemente, die in A = > 2 sind: 16 , 10 , 0\n",
      "Die Elemente, die in A = > 2 sind: [ 8 16 10  6]\n"
     ]
    }
   ],
   "source": [
    "#A=np.array([[1,2,3],[4,5,1]])\n",
    "print(\"A\")\n",
    "print(A)\n",
    "#print()\n",
    "print(\"Indizes der Elemente, die größer als 2 sind\",np.where(A > 2))\n",
    "print()\n",
    "#hier werden 2 Arrays zurückgegeben, sie enthalten jeweils die Koordinaten für die erste und zweite Achse\n",
    "#Wenn man die Werte aus A herausholen will, muss je ein Wert aus dem ersten und dem 2. Index-Array kombiniert werden.\n",
    "#z.B\n",
    "print(\"Die Elemente, die in A = > 2 sind:\",A[0,2],\",\",A[1,0],\",\",A[1,1])\n",
    "print(\"Die Elemente, die in A = > 2 sind:\",A[np.where(A>2)])"
   ]
  },
  {
   "cell_type": "markdown",
   "id": "50f0a5bc",
   "metadata": {},
   "source": [
    "# Indizes, die von bestimmten Funktionen geliefert werden, z.B. min, max"
   ]
  },
  {
   "cell_type": "code",
   "execution_count": 12,
   "id": "coastal-spray",
   "metadata": {},
   "outputs": [
    {
     "name": "stdout",
     "output_type": "stream",
     "text": [
      "Steht vor einer Funktion die Vorsilbe arg, liefert sie ebenfalls Indizes\n",
      "Original [12  6 14  8 12  0  0 12 14  8]\n",
      "Minimaler Wert im Array: 0\n",
      "np.argmin liefert den frühesten Index des Minimums: 5\n"
     ]
    }
   ],
   "source": [
    "print(\"Steht vor einer Funktion die Vorsilbe arg, liefert sie ebenfalls Indizes\")\n",
    "i5=np.argmin(a)\n",
    "print(\"Original\",a)\n",
    "print(\"Minimaler Wert im Array:\",np.min(a))\n",
    "print(\"np.argmin liefert den frühesten Index des Minimums:\",i5)\n",
    "#analog np.argmax"
   ]
  },
  {
   "cell_type": "markdown",
   "id": "d048e41d",
   "metadata": {},
   "source": [
    "# Ersetzen von bestimmten Werten"
   ]
  },
  {
   "cell_type": "code",
   "execution_count": 13,
   "id": "8801c714",
   "metadata": {},
   "outputs": [
    {
     "name": "stdout",
     "output_type": "stream",
     "text": [
      "Original [12  6 14  8 12  0  0 12 14  8]\n",
      "alle Elemente von a, die größer als 3 sind [12  6 14  8 12 12 14  8]\n",
      "alle Elemente von a, die größer als 3 sind [12  6 14  8 12 12 14  8]\n"
     ]
    }
   ],
   "source": [
    "#Wiederholung \n",
    "#Aus den Indizes eine Teilmatrix zurückgewinnen\n",
    "print(\"Original\",a)\n",
    "indizes=np.where(a>3)\n",
    "print(\"alle Elemente von a, die größer als 3 sind\",a[indizes])\n",
    "print(\"alle Elemente von a, die größer als 3 sind\",a[np.where(a>3)])"
   ]
  },
  {
   "cell_type": "markdown",
   "id": "85386735",
   "metadata": {},
   "source": [
    "### Ersetzen mit Boolean Bedingungen (np.where)"
   ]
  },
  {
   "cell_type": "code",
   "execution_count": 14,
   "id": "4a58a7cd",
   "metadata": {},
   "outputs": [
    {
     "name": "stdout",
     "output_type": "stream",
     "text": [
      "Original [12  6 14  8 12  0  0 12 14  8]\n",
      "Ersetzen durch einfache Zahlenangabe\n",
      "alles was identisch mit 6 war, wird durch 'sechs' ersetzt, alles andere wird durch '--' ersetzt\n",
      " geänderter Array ['---' 'sechs' '---' '---' '---' '---' '---' '---' '---' '---']\n",
      "\n",
      "nur Werte, die eine bestimmte Bedingung erfüllen wurden geändert\n",
      " andere Werte bleiben erhalten\n",
      " [ 12 111  14   8  12   0   0  12  14   8]\n"
     ]
    }
   ],
   "source": [
    "print(\"Original\",a)\n",
    "print(\"Ersetzen durch einfache Zahlenangabe\")\n",
    "print(\"alles was identisch mit 6 war, wird durch 'sechs' ersetzt, alles andere wird durch '--' ersetzt\")\n",
    "a1=np.where(a == 6,\"sechs\",\"---\")\n",
    "print(\" geänderter Array\",a1)\n",
    "print()\n",
    "a2=np.where(a == 6,111,a)\n",
    "print(\"nur Werte, die eine bestimmte Bedingung erfüllen wurden geändert\\n\",\"andere Werte bleiben erhalten\\n\",a2)"
   ]
  },
  {
   "cell_type": "markdown",
   "id": "18f58b15",
   "metadata": {},
   "source": [
    "### Ersetzen durch Angabe von Indizes (np.put)"
   ]
  },
  {
   "cell_type": "code",
   "execution_count": 15,
   "id": "2ed6e1bf",
   "metadata": {},
   "outputs": [
    {
     "name": "stdout",
     "output_type": "stream",
     "text": [
      "[1 3 5 7]\n",
      "geändert [-44   3 -55   7]\n",
      "!!! Achtung: die Originalwerte wurden gelöscht !\n"
     ]
    }
   ],
   "source": [
    "#Werte ersetzen, wenn man schon weiß, an welchen Stellen die Ersatzwerte platziert werden.\n",
    "c=np.array([1,3,5,7]);\n",
    "print(c)\n",
    "indices=[0,2]\n",
    "ersatz_werte=[-44, -55]\n",
    "np.put(c, indices, ersatz_werte)\n",
    "print(\"geändert\",c)\n",
    "print(\"!!! Achtung: die Originalwerte wurden gelöscht !\")"
   ]
  },
  {
   "cell_type": "markdown",
   "id": "95a49a56",
   "metadata": {},
   "source": [
    "### Zusätze"
   ]
  },
  {
   "cell_type": "code",
   "execution_count": 16,
   "id": "0e7ed8b6",
   "metadata": {},
   "outputs": [
    {
     "name": "stdout",
     "output_type": "stream",
     "text": [
      "Original\n",
      " [[ 0  8 16]\n",
      " [10  0  6]]\n",
      "Indizes , wo der Inhalt =0\t........................... (array([0, 1], dtype=int64), array([0, 1], dtype=int64))\n",
      "Inhalte von a, angesprochen von den Indizes i1.................... [0 0]\n",
      "Index-Matrix, wo die Bedingung =True\n",
      " [[0 0]\n",
      " [1 1]]\n"
     ]
    }
   ],
   "source": [
    "\n",
    "print(\"Original\\n\",A)\n",
    "#where liefert ganz normale Indices\n",
    "i1=np.where(A ==0)\n",
    "print(\"Indizes , wo der Inhalt =0\\t...........................\",i1)\n",
    "print(\"Inhalte von a, angesprochen von den Indizes i1....................\",A[i1])\n",
    "#argwhere liefert eine Matrix aus Indizes\n",
    "i2=np.argwhere(A == 0)# a==0 definiert einen Array, von dem werden nur die Indizes zurückgegeben, die True sind.\n",
    "print(\"Index-Matrix, wo die Bedingung =True\\n\",i2)# Hier kann man Index-Tupel entnehmen\n"
   ]
  },
  {
   "cell_type": "markdown",
   "id": "2d309cf3",
   "metadata": {},
   "source": [
    "# Anwendung auf die Aufgabe"
   ]
  },
  {
   "cell_type": "code",
   "execution_count": 17,
   "id": "48d804c6",
   "metadata": {},
   "outputs": [
    {
     "data": {
      "text/plain": [
       "array([[ 0,  8, 16],\n",
       "       [10,  0,  6]])"
      ]
     },
     "execution_count": 17,
     "metadata": {},
     "output_type": "execute_result"
    }
   ],
   "source": [
    "A"
   ]
  },
  {
   "cell_type": "code",
   "execution_count": 18,
   "id": "0d68ddda",
   "metadata": {},
   "outputs": [
    {
     "name": "stdout",
     "output_type": "stream",
     "text": [
      "Means [ 5.  4. 11.]\n"
     ]
    }
   ],
   "source": [
    "Means=A.mean(axis=0)\n",
    "print(\"Means\",Means)"
   ]
  },
  {
   "cell_type": "code",
   "execution_count": 19,
   "id": "e6c4f7ca",
   "metadata": {},
   "outputs": [
    {
     "name": "stdout",
     "output_type": "stream",
     "text": [
      "nach der Ersetzung\n",
      "[[ 5.  8. 16.]\n",
      " [10.  4.  6.]]\n"
     ]
    }
   ],
   "source": [
    "B=np.where(A==0,Means,A)\n",
    "print(\"nach der Ersetzung\")\n",
    "print(B)"
   ]
  },
  {
   "cell_type": "code",
   "execution_count": null,
   "id": "21017040",
   "metadata": {},
   "outputs": [],
   "source": []
  }
 ],
 "metadata": {
  "kernelspec": {
   "display_name": "base",
   "language": "python",
   "name": "python3"
  },
  "language_info": {
   "codemirror_mode": {
    "name": "ipython",
    "version": 3
   },
   "file_extension": ".py",
   "mimetype": "text/x-python",
   "name": "python",
   "nbconvert_exporter": "python",
   "pygments_lexer": "ipython3",
   "version": "3.12.7"
  }
 },
 "nbformat": 4,
 "nbformat_minor": 5
}
