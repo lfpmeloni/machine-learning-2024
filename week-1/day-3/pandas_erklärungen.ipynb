{
 "cells": [
  {
   "cell_type": "markdown",
   "metadata": {},
   "source": [
    "# Erklärungen zur  Syntax in – \"End-to-end Machine Learning project\""
   ]
  },
  {
   "cell_type": "code",
   "execution_count": null,
   "metadata": {},
   "outputs": [],
   "source": []
  },
  {
   "cell_type": "markdown",
   "metadata": {},
   "source": [
    "## Vorbereitung\n"
   ]
  },
  {
   "cell_type": "code",
   "execution_count": 1,
   "metadata": {},
   "outputs": [],
   "source": [
    "#Angeben, unter welchen Systemvoraussetzungen das Notebook läuft\n",
    "\n",
    "import numpy as np\n",
    "import pandas as pd\n",
    "import matplotlib.pyplot as plt\n"
   ]
  },
  {
   "cell_type": "markdown",
   "metadata": {},
   "source": [
    "## Zugriff auf Pandas-Daten\n",
    "Das Ausgeben von Spalten, Zeilen und Zellen bei einem Pandas-Dataframe"
   ]
  },
  {
   "cell_type": "code",
   "execution_count": 2,
   "metadata": {},
   "outputs": [],
   "source": [
    "data =pd.DataFrame([[1,2,101],[3,4,102],[5,6,103],[7,8,104],[9,10,105],[11,12,106],\n",
    "                [13,14,107],[15,16,108],[17,18,109],[19,20,110]], \n",
    "                   columns=[\"A\",\"B\",\"C\"],\n",
    "                   index=[\"zeile1\",\"zeile2\",\"zeile3\",\"zeile4\",\"zeile5\",\"zeile6\",\"zeile7\",\"zeile8\",\"zeile9\",\"zeile10\",])\n"
   ]
  },
  {
   "cell_type": "code",
   "execution_count": 3,
   "metadata": {},
   "outputs": [
    {
     "data": {
      "text/html": [
       "<div>\n",
       "<style scoped>\n",
       "    .dataframe tbody tr th:only-of-type {\n",
       "        vertical-align: middle;\n",
       "    }\n",
       "\n",
       "    .dataframe tbody tr th {\n",
       "        vertical-align: top;\n",
       "    }\n",
       "\n",
       "    .dataframe thead th {\n",
       "        text-align: right;\n",
       "    }\n",
       "</style>\n",
       "<table border=\"1\" class=\"dataframe\">\n",
       "  <thead>\n",
       "    <tr style=\"text-align: right;\">\n",
       "      <th></th>\n",
       "      <th>A</th>\n",
       "      <th>B</th>\n",
       "      <th>C</th>\n",
       "    </tr>\n",
       "  </thead>\n",
       "  <tbody>\n",
       "    <tr>\n",
       "      <th>zeile1</th>\n",
       "      <td>1</td>\n",
       "      <td>2</td>\n",
       "      <td>101</td>\n",
       "    </tr>\n",
       "    <tr>\n",
       "      <th>zeile2</th>\n",
       "      <td>3</td>\n",
       "      <td>4</td>\n",
       "      <td>102</td>\n",
       "    </tr>\n",
       "    <tr>\n",
       "      <th>zeile3</th>\n",
       "      <td>5</td>\n",
       "      <td>6</td>\n",
       "      <td>103</td>\n",
       "    </tr>\n",
       "    <tr>\n",
       "      <th>zeile4</th>\n",
       "      <td>7</td>\n",
       "      <td>8</td>\n",
       "      <td>104</td>\n",
       "    </tr>\n",
       "    <tr>\n",
       "      <th>zeile5</th>\n",
       "      <td>9</td>\n",
       "      <td>10</td>\n",
       "      <td>105</td>\n",
       "    </tr>\n",
       "    <tr>\n",
       "      <th>zeile6</th>\n",
       "      <td>11</td>\n",
       "      <td>12</td>\n",
       "      <td>106</td>\n",
       "    </tr>\n",
       "    <tr>\n",
       "      <th>zeile7</th>\n",
       "      <td>13</td>\n",
       "      <td>14</td>\n",
       "      <td>107</td>\n",
       "    </tr>\n",
       "    <tr>\n",
       "      <th>zeile8</th>\n",
       "      <td>15</td>\n",
       "      <td>16</td>\n",
       "      <td>108</td>\n",
       "    </tr>\n",
       "    <tr>\n",
       "      <th>zeile9</th>\n",
       "      <td>17</td>\n",
       "      <td>18</td>\n",
       "      <td>109</td>\n",
       "    </tr>\n",
       "    <tr>\n",
       "      <th>zeile10</th>\n",
       "      <td>19</td>\n",
       "      <td>20</td>\n",
       "      <td>110</td>\n",
       "    </tr>\n",
       "  </tbody>\n",
       "</table>\n",
       "</div>"
      ],
      "text/plain": [
       "          A   B    C\n",
       "zeile1    1   2  101\n",
       "zeile2    3   4  102\n",
       "zeile3    5   6  103\n",
       "zeile4    7   8  104\n",
       "zeile5    9  10  105\n",
       "zeile6   11  12  106\n",
       "zeile7   13  14  107\n",
       "zeile8   15  16  108\n",
       "zeile9   17  18  109\n",
       "zeile10  19  20  110"
      ]
     },
     "execution_count": 3,
     "metadata": {},
     "output_type": "execute_result"
    }
   ],
   "source": [
    "data"
   ]
  },
  {
   "cell_type": "markdown",
   "metadata": {},
   "source": [
    "### Zugriff über iloc"
   ]
  },
  {
   "cell_type": "code",
   "execution_count": 4,
   "metadata": {},
   "outputs": [
    {
     "name": "stdout",
     "output_type": "stream",
     "text": [
      "Angabe von Inhalten mit Nummern, wie bei Listen\n",
      "1\n",
      "\n",
      "\n",
      "        A   B\n",
      "zeile2  3   4\n",
      "zeile3  5   6\n",
      "zeile4  7   8\n",
      "zeile5  9  10\n",
      "\n",
      "\n",
      "        A\n",
      "zeile1  1\n",
      "zeile2  3\n"
     ]
    }
   ],
   "source": [
    "print(\"Angabe von Inhalten mit Nummern, wie bei Listen\")\n",
    "print(data.iloc[0,0])\n",
    "print(\"\\n\")\n",
    "print(data.iloc[[1,2,3,4],[0,1] ])\n",
    "print(\"\\n\")\n",
    "print(data.iloc[[0,1],[0]])"
   ]
  },
  {
   "cell_type": "markdown",
   "metadata": {},
   "source": [
    "### Zugriff über loc"
   ]
  },
  {
   "cell_type": "code",
   "execution_count": 5,
   "metadata": {},
   "outputs": [
    {
     "name": "stdout",
     "output_type": "stream",
     "text": [
      "erste Zeile des pandas-Dataframes\n",
      "A      1\n",
      "B      2\n",
      "C    101\n",
      "Name: zeile1, dtype: int64\n",
      "\n",
      "\n",
      "die beiden AnfangsZeilen des pandas-Dataframes\n",
      "         A  B    C\n",
      "zeile1  1  2  101\n",
      "zeile2  3  4  102\n"
     ]
    }
   ],
   "source": [
    "print(\"erste Zeile des pandas-Dataframes\")\n",
    "print(data.loc[\"zeile1\"],end=\"\\n\\n\\n\")\n",
    "type(data.loc[\"zeile1\"])\n",
    "\n",
    "print(\"die beiden AnfangsZeilen des pandas-Dataframes\\n\",data.loc[  [\"zeile1\",\"zeile2\"]   ])"
   ]
  },
  {
   "cell_type": "markdown",
   "metadata": {},
   "source": [
    "### Zugriff über Spaltenbezeichnung"
   ]
  },
  {
   "cell_type": "code",
   "execution_count": 6,
   "metadata": {},
   "outputs": [
    {
     "name": "stdout",
     "output_type": "stream",
     "text": [
      "erste Spalte des pandas-Dataframes\n",
      "zeile1      1\n",
      "zeile2      3\n",
      "zeile3      5\n",
      "zeile4      7\n",
      "zeile5      9\n",
      "zeile6     11\n",
      "zeile7     13\n",
      "zeile8     15\n",
      "zeile9     17\n",
      "zeile10    19\n",
      "Name: A, dtype: int64\n",
      "\n",
      "\n",
      "die beiden Anfangsspalten des pandas-Dataframes\n",
      "           B   B\n",
      "zeile1    2   2\n",
      "zeile2    4   4\n",
      "zeile3    6   6\n",
      "zeile4    8   8\n",
      "zeile5   10  10\n",
      "zeile6   12  12\n",
      "zeile7   14  14\n",
      "zeile8   16  16\n",
      "zeile9   18  18\n",
      "zeile10  20  20\n"
     ]
    }
   ],
   "source": [
    "print(\"erste Spalte des pandas-Dataframes\")\n",
    "#print(data.loc[\"zeile1\"],end=\"\\n\\n\\n\")\n",
    "\n",
    "print(data[\"A\"],end=\"\\n\\n\\n\")\n",
    "type(data[\"A\"])\n",
    "print(\"die beiden Anfangsspalten des pandas-Dataframes\\n\",data[   [\"B\",\"B\"]   ])\n"
   ]
  },
  {
   "cell_type": "code",
   "execution_count": 7,
   "metadata": {},
   "outputs": [
    {
     "name": "stdout",
     "output_type": "stream",
     "text": [
      "\n"
     ]
    }
   ],
   "source": [
    "\"\"\"\n",
    "eindimensional : pandas.Series\n",
    "zweidimensional: pandas.DataFrame\n",
    "Inhalt: numpy.array\n",
    "\"\"\"\n",
    "print()"
   ]
  },
  {
   "cell_type": "markdown",
   "metadata": {},
   "source": [
    "## Das zufallsgetriebene Mischen eines Datensatzes"
   ]
  },
  {
   "cell_type": "code",
   "execution_count": 8,
   "metadata": {},
   "outputs": [
    {
     "name": "stdout",
     "output_type": "stream",
     "text": [
      "Größe der Gesamtmenge:\t 10\n"
     ]
    }
   ],
   "source": [
    "\n",
    "data\n",
    "print(\"Größe der Gesamtmenge:\\t\",len(data))"
   ]
  },
  {
   "cell_type": "code",
   "execution_count": 9,
   "metadata": {},
   "outputs": [
    {
     "name": "stdout",
     "output_type": "stream",
     "text": [
      "Permutation der Zeilenindizes:\t [7 5 3 0 6 8 2 1 4 9]\n",
      "Größe der Testmenge:\t 2\n",
      "Indizes für die Testmenge:\t [7 5]\n",
      "Testdaten\n"
     ]
    },
    {
     "data": {
      "text/html": [
       "<div>\n",
       "<style scoped>\n",
       "    .dataframe tbody tr th:only-of-type {\n",
       "        vertical-align: middle;\n",
       "    }\n",
       "\n",
       "    .dataframe tbody tr th {\n",
       "        vertical-align: top;\n",
       "    }\n",
       "\n",
       "    .dataframe thead th {\n",
       "        text-align: right;\n",
       "    }\n",
       "</style>\n",
       "<table border=\"1\" class=\"dataframe\">\n",
       "  <thead>\n",
       "    <tr style=\"text-align: right;\">\n",
       "      <th></th>\n",
       "      <th>A</th>\n",
       "      <th>B</th>\n",
       "      <th>C</th>\n",
       "    </tr>\n",
       "  </thead>\n",
       "  <tbody>\n",
       "    <tr>\n",
       "      <th>zeile8</th>\n",
       "      <td>15</td>\n",
       "      <td>16</td>\n",
       "      <td>108</td>\n",
       "    </tr>\n",
       "    <tr>\n",
       "      <th>zeile6</th>\n",
       "      <td>11</td>\n",
       "      <td>12</td>\n",
       "      <td>106</td>\n",
       "    </tr>\n",
       "  </tbody>\n",
       "</table>\n",
       "</div>"
      ],
      "text/plain": [
       "         A   B    C\n",
       "zeile8  15  16  108\n",
       "zeile6  11  12  106"
      ]
     },
     "execution_count": 9,
     "metadata": {},
     "output_type": "execute_result"
    }
   ],
   "source": [
    "# In dieser Zelle nach und nach die Zeilen aus dem Kommentar herausnehmen\n",
    "# Permutation 1,2,3,4...10------------4,2,1,3.10...---10,4,3,2,1....--1,10,4,2,3....\n",
    "\n",
    "test_set = \"\"\n",
    "\n",
    "#np.random.seed(42)\n",
    "shuffled_indices = np.random.permutation(len(data))#np.random.permutation(10)\n",
    "\n",
    "\n",
    "print(\"Permutation der Zeilenindizes:\\t\",shuffled_indices)\n",
    "test_set_size = int(len(data) * 0.2)\n",
    "print(\"Größe der Testmenge:\\t\",test_set_size)\n",
    "\n",
    "test_indices = shuffled_indices[:test_set_size]\n",
    "test_indices = shuffled_indices[:2]\n",
    "print(\"Indizes für die Testmenge:\\t\",test_indices)\n",
    "test_set = data.iloc[test_indices]\n",
    "print(\"Testdaten\")\n",
    "\n",
    "test_set\n"
   ]
  },
  {
   "cell_type": "code",
   "execution_count": 10,
   "metadata": {},
   "outputs": [
    {
     "data": {
      "text/plain": [
       "array([[ 19,  20, 110],\n",
       "       [  7,   8, 104],\n",
       "       [ 13,  14, 107],\n",
       "       [  1,   2, 101],\n",
       "       [ 15,  16, 108],\n",
       "       [  9,  10, 105],\n",
       "       [  3,   4, 102],\n",
       "       [  5,   6, 103],\n",
       "       [ 11,  12, 106],\n",
       "       [ 17,  18, 109]], dtype=int64)"
      ]
     },
     "execution_count": 10,
     "metadata": {},
     "output_type": "execute_result"
    }
   ],
   "source": [
    "# Alternative: den ganzen Content von data permutieren\n",
    "Z = np.random.permutation(data)\n",
    "Z"
   ]
  },
  {
   "cell_type": "markdown",
   "metadata": {},
   "source": [
    "## Code-Erklärung 3\n",
    "Nullwerte in einem Datensatz entdecken"
   ]
  },
  {
   "cell_type": "code",
   "execution_count": 11,
   "metadata": {},
   "outputs": [
    {
     "data": {
      "text/html": [
       "<div>\n",
       "<style scoped>\n",
       "    .dataframe tbody tr th:only-of-type {\n",
       "        vertical-align: middle;\n",
       "    }\n",
       "\n",
       "    .dataframe tbody tr th {\n",
       "        vertical-align: top;\n",
       "    }\n",
       "\n",
       "    .dataframe thead th {\n",
       "        text-align: right;\n",
       "    }\n",
       "</style>\n",
       "<table border=\"1\" class=\"dataframe\">\n",
       "  <thead>\n",
       "    <tr style=\"text-align: right;\">\n",
       "      <th></th>\n",
       "      <th>A</th>\n",
       "      <th>B</th>\n",
       "      <th>C</th>\n",
       "    </tr>\n",
       "  </thead>\n",
       "  <tbody>\n",
       "    <tr>\n",
       "      <th>zeile1</th>\n",
       "      <td>NaN</td>\n",
       "      <td>2</td>\n",
       "      <td>101.0</td>\n",
       "    </tr>\n",
       "    <tr>\n",
       "      <th>zeile2</th>\n",
       "      <td>3.0</td>\n",
       "      <td>4</td>\n",
       "      <td>102.0</td>\n",
       "    </tr>\n",
       "    <tr>\n",
       "      <th>zeile3</th>\n",
       "      <td>5.0</td>\n",
       "      <td>6</td>\n",
       "      <td>NaN</td>\n",
       "    </tr>\n",
       "    <tr>\n",
       "      <th>zeile4</th>\n",
       "      <td>7.0</td>\n",
       "      <td>8</td>\n",
       "      <td>NaN</td>\n",
       "    </tr>\n",
       "    <tr>\n",
       "      <th>zeile5</th>\n",
       "      <td>9.0</td>\n",
       "      <td>10</td>\n",
       "      <td>NaN</td>\n",
       "    </tr>\n",
       "    <tr>\n",
       "      <th>zeile6</th>\n",
       "      <td>11.0</td>\n",
       "      <td>12</td>\n",
       "      <td>106.0</td>\n",
       "    </tr>\n",
       "    <tr>\n",
       "      <th>zeile7</th>\n",
       "      <td>13.0</td>\n",
       "      <td>14</td>\n",
       "      <td>107.0</td>\n",
       "    </tr>\n",
       "    <tr>\n",
       "      <th>zeile8</th>\n",
       "      <td>15.0</td>\n",
       "      <td>16</td>\n",
       "      <td>108.0</td>\n",
       "    </tr>\n",
       "    <tr>\n",
       "      <th>zeile9</th>\n",
       "      <td>17.0</td>\n",
       "      <td>18</td>\n",
       "      <td>109.0</td>\n",
       "    </tr>\n",
       "    <tr>\n",
       "      <th>zeile10</th>\n",
       "      <td>19.0</td>\n",
       "      <td>20</td>\n",
       "      <td>110.0</td>\n",
       "    </tr>\n",
       "  </tbody>\n",
       "</table>\n",
       "</div>"
      ],
      "text/plain": [
       "            A   B      C\n",
       "zeile1    NaN   2  101.0\n",
       "zeile2    3.0   4  102.0\n",
       "zeile3    5.0   6    NaN\n",
       "zeile4    7.0   8    NaN\n",
       "zeile5    9.0  10    NaN\n",
       "zeile6   11.0  12  106.0\n",
       "zeile7   13.0  14  107.0\n",
       "zeile8   15.0  16  108.0\n",
       "zeile9   17.0  18  109.0\n",
       "zeile10  19.0  20  110.0"
      ]
     },
     "execution_count": 11,
     "metadata": {},
     "output_type": "execute_result"
    }
   ],
   "source": [
    "# Der Datensatz mit Nullwerten wird hier künstlich erzeugt\n",
    "data.iloc[0,0]=np.nan\n",
    "data.iloc[2,2]=data.iloc[3,2]=data.iloc[4,2]=pd.NA\n",
    "data"
   ]
  },
  {
   "cell_type": "code",
   "execution_count": 12,
   "metadata": {},
   "outputs": [
    {
     "data": {
      "text/html": [
       "<div>\n",
       "<style scoped>\n",
       "    .dataframe tbody tr th:only-of-type {\n",
       "        vertical-align: middle;\n",
       "    }\n",
       "\n",
       "    .dataframe tbody tr th {\n",
       "        vertical-align: top;\n",
       "    }\n",
       "\n",
       "    .dataframe thead th {\n",
       "        text-align: right;\n",
       "    }\n",
       "</style>\n",
       "<table border=\"1\" class=\"dataframe\">\n",
       "  <thead>\n",
       "    <tr style=\"text-align: right;\">\n",
       "      <th></th>\n",
       "      <th>A</th>\n",
       "      <th>B</th>\n",
       "      <th>C</th>\n",
       "    </tr>\n",
       "  </thead>\n",
       "  <tbody>\n",
       "    <tr>\n",
       "      <th>zeile1</th>\n",
       "      <td>True</td>\n",
       "      <td>False</td>\n",
       "      <td>False</td>\n",
       "    </tr>\n",
       "    <tr>\n",
       "      <th>zeile2</th>\n",
       "      <td>False</td>\n",
       "      <td>False</td>\n",
       "      <td>False</td>\n",
       "    </tr>\n",
       "    <tr>\n",
       "      <th>zeile3</th>\n",
       "      <td>False</td>\n",
       "      <td>False</td>\n",
       "      <td>True</td>\n",
       "    </tr>\n",
       "    <tr>\n",
       "      <th>zeile4</th>\n",
       "      <td>False</td>\n",
       "      <td>False</td>\n",
       "      <td>True</td>\n",
       "    </tr>\n",
       "    <tr>\n",
       "      <th>zeile5</th>\n",
       "      <td>False</td>\n",
       "      <td>False</td>\n",
       "      <td>True</td>\n",
       "    </tr>\n",
       "    <tr>\n",
       "      <th>zeile6</th>\n",
       "      <td>False</td>\n",
       "      <td>False</td>\n",
       "      <td>False</td>\n",
       "    </tr>\n",
       "    <tr>\n",
       "      <th>zeile7</th>\n",
       "      <td>False</td>\n",
       "      <td>False</td>\n",
       "      <td>False</td>\n",
       "    </tr>\n",
       "    <tr>\n",
       "      <th>zeile8</th>\n",
       "      <td>False</td>\n",
       "      <td>False</td>\n",
       "      <td>False</td>\n",
       "    </tr>\n",
       "    <tr>\n",
       "      <th>zeile9</th>\n",
       "      <td>False</td>\n",
       "      <td>False</td>\n",
       "      <td>False</td>\n",
       "    </tr>\n",
       "    <tr>\n",
       "      <th>zeile10</th>\n",
       "      <td>False</td>\n",
       "      <td>False</td>\n",
       "      <td>False</td>\n",
       "    </tr>\n",
       "  </tbody>\n",
       "</table>\n",
       "</div>"
      ],
      "text/plain": [
       "             A      B      C\n",
       "zeile1    True  False  False\n",
       "zeile2   False  False  False\n",
       "zeile3   False  False   True\n",
       "zeile4   False  False   True\n",
       "zeile5   False  False   True\n",
       "zeile6   False  False  False\n",
       "zeile7   False  False  False\n",
       "zeile8   False  False  False\n",
       "zeile9   False  False  False\n",
       "zeile10  False  False  False"
      ]
     },
     "execution_count": 12,
     "metadata": {},
     "output_type": "execute_result"
    }
   ],
   "source": [
    "# von jeder ZELLE wird gesagt, ob sie nan enthält oder nicht\n",
    "data.isnull()"
   ]
  },
  {
   "cell_type": "code",
   "execution_count": 13,
   "metadata": {},
   "outputs": [
    {
     "data": {
      "text/plain": [
       "zeile1      True\n",
       "zeile2     False\n",
       "zeile3      True\n",
       "zeile4      True\n",
       "zeile5      True\n",
       "zeile6     False\n",
       "zeile7     False\n",
       "zeile8     False\n",
       "zeile9     False\n",
       "zeile10    False\n",
       "dtype: bool"
      ]
     },
     "execution_count": 13,
     "metadata": {},
     "output_type": "execute_result"
    }
   ],
   "source": [
    "# von jeder ZEILE wird gesagt, ob sie nan enthält oder nicht\n",
    "data.isnull().any(axis = 1)"
   ]
  },
  {
   "cell_type": "code",
   "execution_count": 14,
   "metadata": {},
   "outputs": [
    {
     "data": {
      "text/html": [
       "<div>\n",
       "<style scoped>\n",
       "    .dataframe tbody tr th:only-of-type {\n",
       "        vertical-align: middle;\n",
       "    }\n",
       "\n",
       "    .dataframe tbody tr th {\n",
       "        vertical-align: top;\n",
       "    }\n",
       "\n",
       "    .dataframe thead th {\n",
       "        text-align: right;\n",
       "    }\n",
       "</style>\n",
       "<table border=\"1\" class=\"dataframe\">\n",
       "  <thead>\n",
       "    <tr style=\"text-align: right;\">\n",
       "      <th></th>\n",
       "      <th>A</th>\n",
       "      <th>B</th>\n",
       "      <th>C</th>\n",
       "    </tr>\n",
       "  </thead>\n",
       "  <tbody>\n",
       "    <tr>\n",
       "      <th>zeile1</th>\n",
       "      <td>NaN</td>\n",
       "      <td>2</td>\n",
       "      <td>101.0</td>\n",
       "    </tr>\n",
       "    <tr>\n",
       "      <th>zeile3</th>\n",
       "      <td>5.0</td>\n",
       "      <td>6</td>\n",
       "      <td>NaN</td>\n",
       "    </tr>\n",
       "    <tr>\n",
       "      <th>zeile4</th>\n",
       "      <td>7.0</td>\n",
       "      <td>8</td>\n",
       "      <td>NaN</td>\n",
       "    </tr>\n",
       "    <tr>\n",
       "      <th>zeile5</th>\n",
       "      <td>9.0</td>\n",
       "      <td>10</td>\n",
       "      <td>NaN</td>\n",
       "    </tr>\n",
       "  </tbody>\n",
       "</table>\n",
       "</div>"
      ],
      "text/plain": [
       "          A   B      C\n",
       "zeile1  NaN   2  101.0\n",
       "zeile3  5.0   6    NaN\n",
       "zeile4  7.0   8    NaN\n",
       "zeile5  9.0  10    NaN"
      ]
     },
     "execution_count": 14,
     "metadata": {},
     "output_type": "execute_result"
    }
   ],
   "source": [
    "# Nur die Zeilen anzeigen, wo isnull auf True steht\n",
    "# Die boolsche Beschreibung der Zeilen funktioniert wie ein Index. \n",
    "#          wir wollen nur die Zeilen sehen, wo isnull True geliefert hat\n",
    "null_zeilen = data.isnull().any(axis = 1)\n",
    "data[null_zeilen]"
   ]
  },
  {
   "cell_type": "code",
   "execution_count": 15,
   "metadata": {},
   "outputs": [
    {
     "data": {
      "text/html": [
       "<div>\n",
       "<style scoped>\n",
       "    .dataframe tbody tr th:only-of-type {\n",
       "        vertical-align: middle;\n",
       "    }\n",
       "\n",
       "    .dataframe tbody tr th {\n",
       "        vertical-align: top;\n",
       "    }\n",
       "\n",
       "    .dataframe thead th {\n",
       "        text-align: right;\n",
       "    }\n",
       "</style>\n",
       "<table border=\"1\" class=\"dataframe\">\n",
       "  <thead>\n",
       "    <tr style=\"text-align: right;\">\n",
       "      <th></th>\n",
       "      <th>A</th>\n",
       "      <th>B</th>\n",
       "      <th>C</th>\n",
       "    </tr>\n",
       "  </thead>\n",
       "  <tbody>\n",
       "    <tr>\n",
       "      <th>zeile1</th>\n",
       "      <td>NaN</td>\n",
       "      <td>2</td>\n",
       "      <td>101.0</td>\n",
       "    </tr>\n",
       "    <tr>\n",
       "      <th>zeile3</th>\n",
       "      <td>5.0</td>\n",
       "      <td>6</td>\n",
       "      <td>NaN</td>\n",
       "    </tr>\n",
       "    <tr>\n",
       "      <th>zeile4</th>\n",
       "      <td>7.0</td>\n",
       "      <td>8</td>\n",
       "      <td>NaN</td>\n",
       "    </tr>\n",
       "    <tr>\n",
       "      <th>zeile5</th>\n",
       "      <td>9.0</td>\n",
       "      <td>10</td>\n",
       "      <td>NaN</td>\n",
       "    </tr>\n",
       "  </tbody>\n",
       "</table>\n",
       "</div>"
      ],
      "text/plain": [
       "          A   B      C\n",
       "zeile1  NaN   2  101.0\n",
       "zeile3  5.0   6    NaN\n",
       "zeile4  7.0   8    NaN\n",
       "zeile5  9.0  10    NaN"
      ]
     },
     "execution_count": 15,
     "metadata": {},
     "output_type": "execute_result"
    }
   ],
   "source": [
    "# Der obige Code in einer Zeile\n",
    "data[data.isnull().any(axis = 1)]"
   ]
  },
  {
   "cell_type": "code",
   "execution_count": null,
   "metadata": {},
   "outputs": [],
   "source": []
  }
 ],
 "metadata": {
  "kernelspec": {
   "display_name": "base",
   "language": "python",
   "name": "python3"
  },
  "language_info": {
   "codemirror_mode": {
    "name": "ipython",
    "version": 3
   },
   "file_extension": ".py",
   "mimetype": "text/x-python",
   "name": "python",
   "nbconvert_exporter": "python",
   "pygments_lexer": "ipython3",
   "version": "3.12.7"
  },
  "nav_menu": {
   "height": "279px",
   "width": "309px"
  },
  "toc": {
   "nav_menu": {},
   "number_sections": true,
   "sideBar": true,
   "skip_h1_title": false,
   "toc_cell": false,
   "toc_position": {},
   "toc_section_display": "block",
   "toc_window_display": false
  }
 },
 "nbformat": 4,
 "nbformat_minor": 4
}
