{
 "cells": [
  {
   "cell_type": "markdown",
   "id": "178ac168",
   "metadata": {},
   "source": [
    "# Matrizen und Vektoren"
   ]
  },
  {
   "cell_type": "code",
   "execution_count": 5,
   "id": "infrared-success",
   "metadata": {},
   "outputs": [
    {
     "name": "stdout",
     "output_type": "stream",
     "text": [
      "A\n",
      " [[1 2]\n",
      " [3 4]]\n",
      "B\n",
      " [[5 6]\n",
      " [7 8]]\n"
     ]
    }
   ],
   "source": [
    "import numpy as np\n",
    "A=np.array([[1,2],[3,4]])\n",
    "B=np.array([[5,6],[7,8]])\n",
    "C=np.array([[1,2,3,4],[10,11,12,13]])\n",
    "\n",
    "V1=np.array([10,20])\n",
    "V2=np.array([11,22])\n",
    "print(\"A\\n\",A)\n",
    "print(\"B\\n\",B)"
   ]
  },
  {
   "cell_type": "code",
   "execution_count": 6,
   "id": "baf4820e",
   "metadata": {},
   "outputs": [
    {
     "name": "stdout",
     "output_type": "stream",
     "text": [
      "Matrix C\n",
      " [[ 1  2  3  4]\n",
      " [10 11 12 13]]\n",
      "Dimensionen von C: (2, 4)\n",
      "Anzahl der Zeilen: 2\n",
      "Anzahl der Spalten: 4\n",
      "\n",
      "Vektor V1 [10 20]\n",
      "Zeilen von V1: (2,)\n"
     ]
    }
   ],
   "source": [
    "#Shapes\n",
    "print(\"Matrix C\\n\",C)\n",
    "print(\"Dimensionen von C:\",C.shape)\n",
    "print(\"Anzahl der Zeilen:\",C.shape[0])#Zeilen\n",
    "print(\"Anzahl der Spalten:\", C.shape[1])#Spalten\n",
    "print()\n",
    "print(\"Vektor V1\",V1)\n",
    "print(\"Zeilen von V1:\",V1.shape)"
   ]
  },
  {
   "cell_type": "markdown",
   "id": "f5482ccc",
   "metadata": {},
   "source": [
    "# Rechenoperationen mit Arrays bei verschiedenen Dimensionen"
   ]
  },
  {
   "cell_type": "code",
   "execution_count": 7,
   "id": "hybrid-scene",
   "metadata": {},
   "outputs": [
    {
     "name": "stdout",
     "output_type": "stream",
     "text": [
      "V1 [10 20]   V2 [11 22]   V1 + V2 = [21 42]\n",
      "\n",
      "A + B=\n",
      " [[ 6  8]\n",
      " [10 12]]\n",
      "\n",
      "C [[ 1  2  3  4]\n",
      " [10 11 12 13]]\n",
      "A [[1 2]\n",
      " [3 4]]\n"
     ]
    }
   ],
   "source": [
    "#Addition von Vektoren oder Matrizen mit gleicher Dimension\n",
    "print(\"V1\",V1,\"  V2\",V2,\"  V1 + V2 =\",V1+V2)\n",
    "print()\n",
    "print(\"A + B=\\n\",A+B)\n",
    "print()\n",
    "print(\"C\",C)\n",
    "print(\"A\",A)\n",
    "# print(A+C)\n",
    "#Bei der Addition von mehrdimensionalen Gebilden, \n",
    "#werden die Werte an entsprechenden Stellen addiert."
   ]
  },
  {
   "cell_type": "code",
   "execution_count": 8,
   "id": "992da114",
   "metadata": {},
   "outputs": [
    {
     "name": "stdout",
     "output_type": "stream",
     "text": [
      "[[2 3]\n",
      " [4 5]]\n"
     ]
    }
   ],
   "source": [
    "#Addition von Matrizen und Zahlen\n",
    "print(A+1)"
   ]
  },
  {
   "cell_type": "code",
   "execution_count": 9,
   "id": "listed-publicity",
   "metadata": {},
   "outputs": [
    {
     "name": "stdout",
     "output_type": "stream",
     "text": [
      "5*V1 =  [ 50 100] \n",
      "\n",
      "A = \n",
      " [[1 2]\n",
      " [3 4]] \n",
      "\n",
      "5*A = \n",
      " [[ 5 10]\n",
      " [15 20]]\n"
     ]
    }
   ],
   "source": [
    "#Multiplikation\n",
    "print(\"5*V1 = \",5*V1,\"\\n\")\n",
    "print(\"A = \\n\",A,\"\\n\")\n",
    "print(\"5*A = \\n\",5*A)"
   ]
  },
  {
   "cell_type": "code",
   "execution_count": 10,
   "id": "clean-lender",
   "metadata": {},
   "outputs": [
    {
     "name": "stdout",
     "output_type": "stream",
     "text": [
      "A [1 2] \tV1[ 10\n",
      "  [3 4] \t    20 ]\n"
     ]
    }
   ],
   "source": [
    "#Hier noch einmal die Ausgabe von A und V1\n",
    "print(\"A\",A[0],\"\\tV1[\",V1[0])\n",
    "print(\" \",A[1],\"\\t   \",V1[1],\"]\")"
   ]
  },
  {
   "cell_type": "code",
   "execution_count": 11,
   "id": "brief-cheat",
   "metadata": {},
   "outputs": [
    {
     "data": {
      "text/plain": [
       "array([[10, 40],\n",
       "       [30, 80]])"
      ]
     },
     "execution_count": 11,
     "metadata": {},
     "output_type": "execute_result"
    }
   ],
   "source": [
    "#Multiplikation von Matrix und Vektor: meistens ungewollt\n",
    "A*V1"
   ]
  },
  {
   "cell_type": "code",
   "execution_count": 12,
   "id": "preliminary-immunology",
   "metadata": {},
   "outputs": [
    {
     "data": {
      "text/plain": [
       "array([[ -1,  -4],\n",
       "       [ -9, -16]])"
      ]
     },
     "execution_count": 12,
     "metadata": {},
     "output_type": "execute_result"
    }
   ],
   "source": [
    "A*np.array([[-1,-2],[-3,-4]])#Beispiel für  * - Multiplikation "
   ]
  },
  {
   "cell_type": "code",
   "execution_count": 13,
   "id": "proud-tiger",
   "metadata": {},
   "outputs": [
    {
     "name": "stdout",
     "output_type": "stream",
     "text": [
      "simple Multiplikation [100 400]\n",
      "Skalarmultiplikation 500\n"
     ]
    }
   ],
   "source": [
    "#Skalar-Multiplikation liefert einfache Werte\n",
    "print(\"simple Multiplikation\",V1 *V1)\n",
    "print(\"Skalarmultiplikation\",V1 @ V1)\n",
    "\n",
    "#Skalarmultiplikation:V1[0]*V2[0] + V1[1]*V2[1]"
   ]
  },
  {
   "cell_type": "code",
   "execution_count": 14,
   "id": "behavioral-nursing",
   "metadata": {},
   "outputs": [
    {
     "name": "stdout",
     "output_type": "stream",
     "text": [
      "simple Multiplikation [3 8]\n",
      "Skalarmultiplikation 11\n"
     ]
    }
   ],
   "source": [
    "#Skalar-Multiplikation liefert einfache Werte\n",
    "V1=np.array([1,2]); V2=np.array([3,4])\n",
    "print(\"simple Multiplikation\",V1 *V2)\n",
    "print(\"Skalarmultiplikation\",V1 @ V2)\n",
    "#Skalarmultiplikation:V1[0]*V2[0] + V1[1]*V2[1]"
   ]
  },
  {
   "cell_type": "markdown",
   "id": "6939a22e",
   "metadata": {},
   "source": [
    "# Wozu kann man den Operator @ benutzen ? (bei Vektoren)"
   ]
  },
  {
   "cell_type": "markdown",
   "id": "8e8ec511",
   "metadata": {},
   "source": [
    "### Winkel prüfen"
   ]
  },
  {
   "cell_type": "code",
   "execution_count": 15,
   "id": "instant-threshold",
   "metadata": {},
   "outputs": [
    {
     "data": {
      "text/plain": [
       "0"
      ]
     },
     "execution_count": 15,
     "metadata": {},
     "output_type": "execute_result"
    }
   ],
   "source": [
    "#Mit Skalarmultiplikation kann man prüfen, ob 2 Vektoren senkrecht aufeinander stehen\n",
    "np.array([1,1])@np.array([1,-1])\n",
    "#Bitte in ein Koordinatensystem einzeichnen und den rechten Winkel überprüfen"
   ]
  },
  {
   "cell_type": "markdown",
   "id": "66d8e287",
   "metadata": {},
   "source": [
    "### Länge berechnen"
   ]
  },
  {
   "cell_type": "code",
   "execution_count": 16,
   "id": "extreme-foundation",
   "metadata": {},
   "outputs": [
    {
     "name": "stdout",
     "output_type": "stream",
     "text": [
      "Länge von [3,4] = 5.0\n"
     ]
    }
   ],
   "source": [
    "#Skalarmultiplikation liefert die Länge eines Vektors\n",
    "V3=np.array([3,4])\n",
    "print(\"Länge von [3,4] =\",np.sqrt( V3@V3 ))"
   ]
  },
  {
   "cell_type": "markdown",
   "id": "bd3445b0",
   "metadata": {},
   "source": [
    "### Drehungen von geometrischen Vektoren"
   ]
  },
  {
   "cell_type": "code",
   "execution_count": 17,
   "id": "thorough-carpet",
   "metadata": {},
   "outputs": [
    {
     "name": "stdout",
     "output_type": "stream",
     "text": [
      "[0 1] gedreht um 90 Grad, ergibt [-1  0]\n"
     ]
    }
   ],
   "source": [
    "#Matrixmultiplikation bewirkt bei Vektoren manchmal eine Drehung\n",
    "Dreh90=np.array([[0,-1],[1,0]])\n",
    "V3=np.array([0,1])\n",
    "print(V3, \"gedreht um 90 Grad, ergibt\", Dreh90 @V3)"
   ]
  },
  {
   "cell_type": "code",
   "execution_count": 18,
   "id": "metallic-softball",
   "metadata": {},
   "outputs": [
    {
     "name": "stdout",
     "output_type": "stream",
     "text": [
      "[0 1] gedreht um 30 Grad, ergibt [-0.5        0.8660254]\n"
     ]
    }
   ],
   "source": [
    "#Matrixmultiplikation bewirkt bei Vektoren manchmal eine Drehung\n",
    "Dreh30=np.array([[np.sqrt(3)/2,-0.5],[0.5,np.sqrt(3)/2]])\n",
    "V3=np.array([0,1])\n",
    "print(V3, \"gedreht um 30 Grad, ergibt\", Dreh30 @ V3)"
   ]
  },
  {
   "cell_type": "markdown",
   "id": "7cf13022",
   "metadata": {},
   "source": [
    "# Weitere Rechenoperationen mit Matrizen"
   ]
  },
  {
   "cell_type": "markdown",
   "id": "449f6c79",
   "metadata": {},
   "source": [
    "### Multiplikation von 2 Matrizen"
   ]
  },
  {
   "cell_type": "code",
   "execution_count": 19,
   "id": "relative-found",
   "metadata": {},
   "outputs": [
    {
     "name": "stdout",
     "output_type": "stream",
     "text": [
      "[[1 2]\n",
      " [3 4]] \n",
      "multipliziert mit \n",
      " [[5 6]\n",
      " [7 8]] \n",
      "ist\n",
      " [[19 22]\n",
      " [43 50]]\n",
      "oder\n",
      " [[19 22]\n",
      " [43 50]]\n"
     ]
    }
   ],
   "source": [
    "# Matrizen kann man auch mit anderen Matrizen multiplizieren\n",
    "print (A,\"\\nmultipliziert mit \\n\",B, \"\\nist\\n\",A@B)\n",
    "#statt A@B kann man auch A.dot(B)schreiben\n",
    "print(\"oder\\n\",A.dot(B))"
   ]
  },
  {
   "cell_type": "code",
   "execution_count": 20,
   "id": "09346c97",
   "metadata": {},
   "outputs": [
    {
     "name": "stdout",
     "output_type": "stream",
     "text": [
      "A\n",
      " [[1 2]\n",
      " [3 4]]\n",
      "A @ E \n",
      " [[1 2]\n",
      " [3 4]]\n"
     ]
    }
   ],
   "source": [
    "# Bei Matrizen gibt es ein \"neutrales Element\"\n",
    "E=np.array([[1,0],[0,1]])\n",
    "print(\"A\\n\",A)\n",
    "print(\"A @ E \\n\",A@E)"
   ]
  },
  {
   "cell_type": "markdown",
   "id": "c0071702",
   "metadata": {},
   "source": [
    "### Inverse Matrix"
   ]
  },
  {
   "cell_type": "code",
   "execution_count": 21,
   "id": "compliant-delivery",
   "metadata": {},
   "outputs": [
    {
     "name": "stdout",
     "output_type": "stream",
     "text": [
      "A [[1 2]\n",
      " [3 4]]\n",
      "Inverses von A\n",
      "[[-2.   1. ]\n",
      " [ 1.5 -0.5]]\n",
      "\n",
      "Produkt der Matrix A mit ihrer inversen Matrix\n",
      "[[1. 0.]\n",
      " [0. 1.]]\n",
      "A@A_inv ergibt die Einheitsmatrix : True\n"
     ]
    }
   ],
   "source": [
    "#Manche Matrizen kann man \"umkehren\". \n",
    "print(\"A\",A)\n",
    "print(\"Inverses von A\")\n",
    "A_inv=np.linalg.inv(A)\n",
    "print(A_inv)\n",
    "print(\"\\nProdukt der Matrix A mit ihrer inversen Matrix\")\n",
    "print(np.round(A@A_inv))\n",
    "print (\"A@A_inv ergibt die Einheitsmatrix :\",np.allclose(A@A_inv , E))\n",
    "# Wenn man das Resultat von A@A_inv == E ermittelt, ist es nicht das gewünschte, \n",
    "# denn es berechnet eine 2x2 Matrix aus Wahrheitwerten.\n",
    "# Deswegen vergleicht man Matrizen über die Funktion allclose"
   ]
  },
  {
   "cell_type": "markdown",
   "id": "116db27c",
   "metadata": {},
   "source": [
    "### Transponierte Matrix"
   ]
  },
  {
   "cell_type": "code",
   "execution_count": 22,
   "id": "macro-literature",
   "metadata": {},
   "outputs": [
    {
     "name": "stdout",
     "output_type": "stream",
     "text": [
      "Original\n",
      "[[1 2]\n",
      " [3 4]]\n",
      "transponiert\n",
      "[[1 3]\n",
      " [2 4]]\n",
      "transponiert, Variante\n",
      "[[1 3]\n",
      " [2 4]]\n"
     ]
    }
   ],
   "source": [
    "#Alle Matrizen kann man transponieren(an der Diagonalen spiegeln)\n",
    "print(\"Original\")\n",
    "print(A)\n",
    "print(\"transponiert\")\n",
    "print(A.T)\n",
    "print(\"transponiert, Variante\")\n",
    "print(A.transpose())"
   ]
  },
  {
   "cell_type": "code",
   "execution_count": 23,
   "id": "indie-struggle",
   "metadata": {},
   "outputs": [
    {
     "name": "stdout",
     "output_type": "stream",
     "text": [
      "Original\n",
      "[[ 1  2  3  4]\n",
      " [10 11 12 13]]\n",
      "\n",
      "transponiert\n",
      "[[ 1 10]\n",
      " [ 2 11]\n",
      " [ 3 12]\n",
      " [ 4 13]]\n"
     ]
    }
   ],
   "source": [
    "#Alle Matrizen kann man transponieren, auch die unsymmetrischen\n",
    "print(\"Original\")\n",
    "print(C)\n",
    "print(\"\\ntransponiert\")\n",
    "print(C.T)"
   ]
  },
  {
   "cell_type": "code",
   "execution_count": 24,
   "id": "arbitrary-allen",
   "metadata": {},
   "outputs": [
    {
     "name": "stdout",
     "output_type": "stream",
     "text": [
      "Die Zeilen und Spalten von C (2, 4)\n",
      "Die Zeilen und Spalten von C_transponiert (4, 2)\n"
     ]
    }
   ],
   "source": [
    "#Die Gestalt der Matrizen abfragen\n",
    "print(\"Die Zeilen und Spalten von C\",C.shape)\n",
    "print(\"Die Zeilen und Spalten von C_transponiert\",C.T.shape)"
   ]
  },
  {
   "cell_type": "markdown",
   "id": "d155ec33",
   "metadata": {},
   "source": [
    "# Rechenoperationen, die sich nur auf Zeilen oder Spalten beziehen"
   ]
  },
  {
   "cell_type": "code",
   "execution_count": 25,
   "id": "living-hotel",
   "metadata": {},
   "outputs": [
    {
     "name": "stdout",
     "output_type": "stream",
     "text": [
      "A\n",
      " [[1 2]\n",
      " [3 4]]\n",
      "Summe aller Komponenten 10 , Spaltensumme [4 6] ,Zeilensumme [3 7]\n"
     ]
    }
   ],
   "source": [
    "#Rechenoperationen bei Matrizen\n",
    "#Bitte sehr gründlich nachvollziehen !!!\n",
    "summe1=np.sum(A)\n",
    "Summe2=np.sum(A,axis=0)\n",
    "Summe3=np.sum(A,axis=1)\n",
    "print(\"A\\n\",A)\n",
    "print(\"Summe aller Komponenten\",summe1,\", Spaltensumme\",Summe2,\",Zeilensumme\",Summe3)\n",
    "#Achtung: das ist nicht intuitiv: \n",
    "#wenn axis=0 geschrieben wird, dann handelt es sich um die Summe in Spalten"
   ]
  },
  {
   "cell_type": "code",
   "execution_count": 26,
   "id": "billion-minute",
   "metadata": {},
   "outputs": [],
   "source": [
    "#Bitte dasselbe noch einmal testen, mit np.prod"
   ]
  },
  {
   "cell_type": "code",
   "execution_count": 27,
   "id": "decimal-speed",
   "metadata": {},
   "outputs": [
    {
     "name": "stdout",
     "output_type": "stream",
     "text": [
      "C222\n",
      "[ [1 2]    [3 4] ]\n",
      "[ [10 11] [12 13] ]\n",
      "Summe aller Komponenten 56\n",
      "Summe, bei der die Zeilen verschwinden\n",
      "[[11 13]\n",
      " [15 17]]\n",
      "Summe , bei der innerhalb einer Zeile entsprechende Spaltenkomponenten verschwinden\n",
      "[[ 4  6]\n",
      " [22 24]]\n",
      "Summe, bei der die innerste Achse verschwindet\n",
      "[[ 3  7]\n",
      " [21 25]]\n"
     ]
    }
   ],
   "source": [
    "#Rechenoperationen bei dreidimensionalen Matrizen\n",
    "#Bitte sehr gründlich nachvollziehen !!!\n",
    "C222=C.reshape(2,2,2)\n",
    "summe1=np.sum(C222)\n",
    "Summe2=np.sum(C222,axis=0)\n",
    "Summe3=np.sum(C222,axis=1)\n",
    "Summe4=np.sum(C222,axis=2)\n",
    "print(\"C222\")\n",
    "print(\"[\",C222[0,0], \"  \",C222[0,1],\"]\")\n",
    "print(\"[\",C222[1,0], C222[1,1],\"]\")\n",
    "print(\"Summe aller Komponenten\",summe1)\n",
    "print(\"Summe, bei der die Zeilen verschwinden\")\n",
    "print(Summe2)\n",
    "print(\"Summe , bei der innerhalb einer Zeile entsprechende Spaltenkomponenten verschwinden\")\n",
    "print(Summe3)\n",
    "print(\"Summe, bei der die innerste Achse verschwindet\")\n",
    "print(Summe4)"
   ]
  }
 ],
 "metadata": {
  "kernelspec": {
   "display_name": "base",
   "language": "python",
   "name": "python3"
  },
  "language_info": {
   "codemirror_mode": {
    "name": "ipython",
    "version": 3
   },
   "file_extension": ".py",
   "mimetype": "text/x-python",
   "name": "python",
   "nbconvert_exporter": "python",
   "pygments_lexer": "ipython3",
   "version": "3.12.7"
  }
 },
 "nbformat": 4,
 "nbformat_minor": 5
}
