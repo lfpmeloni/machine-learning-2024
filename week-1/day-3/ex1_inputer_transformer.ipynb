{
 "cells": [
  {
   "cell_type": "markdown",
   "metadata": {},
   "source": [
    "# Exercises on Imputer / Transformer\n",
    "\n",
    "These exercises focus on creating and testing custom imputer classes in Python using NumPy and Pandas. The goal is to handle missing data in datasets by implementing different strategies for imputing missing values."
   ]
  },
  {
   "cell_type": "markdown",
   "metadata": {},
   "source": [
    "## Task a: Write a `MyImputer` Class\n",
    "\n",
    "Create a custom imputer class that handles missing values represented as 0. The class should support different imputation strategies based on the provided parameter."
   ]
  },
  {
   "cell_type": "code",
   "execution_count": 5,
   "metadata": {},
   "outputs": [],
   "source": [
    "import numpy as np\n",
    "import pandas as pd\n",
    "\n",
    "class MyImputer:\n",
    "    def __init__(self, strategy=\"mean\"):\n",
    "        self.strategy = strategy\n",
    "        self.mean_values = {}\n",
    "    \n",
    "    def fit(self, X):\n",
    "        if self.strategy == \"mean\":\n",
    "            # Calculate mean for each column, ignoring zeros\n",
    "            self.mean_values = X.replace(0, np.nan).mean()\n",
    "        elif self.strategy == \"feature\":\n",
    "            # No fitting required for 'feature' strategy\n",
    "            pass\n",
    "        else:\n",
    "            raise ValueError(\"Unsupported strategy\")\n",
    "    \n",
    "    def transform(self, X):\n",
    "        X_transformed = X.copy()\n",
    "        if self.strategy == \"mean\":\n",
    "            # Replace zeros with the mean of the column\n",
    "            for column in X_transformed.columns:\n",
    "                X_transformed[column] = X_transformed[column].replace(0, self.mean_values[column])\n",
    "        elif self.strategy == \"feature\":\n",
    "            # Replace zeros with the column number (starting from 1)\n",
    "            for idx, column in enumerate(X_transformed.columns, start=1):\n",
    "                X_transformed[column] = X_transformed[column].replace(0, idx)\n",
    "        else:\n",
    "            raise ValueError(\"Unsupported strategy\")\n",
    "        return X_transformed\n"
   ]
  },
  {
   "cell_type": "markdown",
   "metadata": {},
   "source": [
    "## Task c: Write a Test for `MyImputer`\n",
    "\n",
    "Test the MyImputer class by creating a sample dataset, introducing missing values (represented as 0), and verifying that the imputer correctly replaces these missing values based on the chosen strategy."
   ]
  },
  {
   "cell_type": "code",
   "execution_count": 6,
   "metadata": {},
   "outputs": [
    {
     "name": "stdout",
     "output_type": "stream",
     "text": [
      "Original DataFrame:\n",
      "   Age  Salary\n",
      "0   25   50000\n",
      "1    0   60000\n",
      "2   35       0\n",
      "3   40   80000\n",
      "4    0   90000\n"
     ]
    }
   ],
   "source": [
    "# Sample DataFrame with missing values represented as 0\n",
    "data = {\n",
    "    'Age': [25, 0, 35, 40, 0],\n",
    "    'Salary': [50000, 60000, 0, 80000, 90000]\n",
    "}\n",
    "df = pd.DataFrame(data)\n",
    "print(\"Original DataFrame:\")\n",
    "print(df)"
   ]
  },
  {
   "cell_type": "code",
   "execution_count": 7,
   "metadata": {},
   "outputs": [
    {
     "name": "stdout",
     "output_type": "stream",
     "text": [
      "\n",
      "DataFrame after Mean Imputation:\n",
      "         Age  Salary\n",
      "0  25.000000   50000\n",
      "1  33.333333   60000\n",
      "2  35.000000   70000\n",
      "3  40.000000   80000\n",
      "4  33.333333   90000\n"
     ]
    }
   ],
   "source": [
    "# Initialize the imputer with 'mean' strategy\n",
    "imputer_mean = MyImputer(strategy=\"mean\")\n",
    "\n",
    "# Fit the imputer to the data\n",
    "imputer_mean.fit(df)\n",
    "\n",
    "# Transform the data\n",
    "df_imputed_mean = imputer_mean.transform(df)\n",
    "print(\"\\nDataFrame after Mean Imputation:\")\n",
    "print(df_imputed_mean)\n"
   ]
  },
  {
   "cell_type": "code",
   "execution_count": 8,
   "metadata": {},
   "outputs": [
    {
     "name": "stdout",
     "output_type": "stream",
     "text": [
      "\n",
      "DataFrame after Feature Imputation:\n",
      "   Age  Salary\n",
      "0   25   50000\n",
      "1    1   60000\n",
      "2   35       2\n",
      "3   40   80000\n",
      "4    1   90000\n"
     ]
    }
   ],
   "source": [
    "# Initialize the imputer with 'feature' strategy\n",
    "imputer_feature = MyImputer(strategy=\"feature\")\n",
    "\n",
    "# Fit the imputer to the data\n",
    "imputer_feature.fit(df)\n",
    "\n",
    "# Transform the data\n",
    "df_imputed_feature = imputer_feature.transform(df)\n",
    "print(\"\\nDataFrame after Feature Imputation:\")\n",
    "print(df_imputed_feature)\n"
   ]
  },
  {
   "cell_type": "markdown",
   "metadata": {},
   "source": [
    "# Level 2\n",
    "\n",
    "## Task a: MyImputer with -999 as Missing Value Indicator\n",
    "\n",
    "Modify the MyImputer class to recognize -999 as the indicator for missing values instead of 0."
   ]
  },
  {
   "cell_type": "code",
   "execution_count": 9,
   "metadata": {},
   "outputs": [],
   "source": [
    "class MyImputer:\n",
    "    def __init__(self, strategy=\"mean\", missing_values=0):\n",
    "        self.strategy = strategy\n",
    "        self.missing_values = missing_values\n",
    "        self.mean_values = {}\n",
    "    \n",
    "    def fit(self, X):\n",
    "        if self.strategy == \"mean\":\n",
    "            # Calculate mean for each column, ignoring missing_values\n",
    "            X_replaced = X.replace(self.missing_values, np.nan)\n",
    "            self.mean_values = X_replaced.mean()\n",
    "        elif self.strategy == \"feature\":\n",
    "            # No fitting required for 'feature' strategy\n",
    "            pass\n",
    "        else:\n",
    "            raise ValueError(\"Unsupported strategy\")\n",
    "    \n",
    "    def transform(self, X):\n",
    "        X_transformed = X.copy()\n",
    "        if self.strategy == \"mean\":\n",
    "            # Replace missing_values with the mean of the column\n",
    "            for column in X_transformed.columns:\n",
    "                X_transformed[column] = X_transformed[column].replace(self.missing_values, self.mean_values[column])\n",
    "        elif self.strategy == \"feature\":\n",
    "            # Replace missing_values with the column number (starting from 1)\n",
    "            for idx, column in enumerate(X_transformed.columns, start=1):\n",
    "                X_transformed[column] = X_transformed[column].replace(self.missing_values, idx)\n",
    "        else:\n",
    "            raise ValueError(\"Unsupported strategy\")\n",
    "        return X_transformed\n"
   ]
  },
  {
   "cell_type": "code",
   "execution_count": 10,
   "metadata": {},
   "outputs": [
    {
     "name": "stdout",
     "output_type": "stream",
     "text": [
      "Original DataFrame:\n",
      "   Age  Salary\n",
      "0   25   50000\n",
      "1 -999   60000\n",
      "2   35    -999\n",
      "3   40   80000\n",
      "4 -999   90000\n",
      "\n",
      "DataFrame after Mean Imputation:\n",
      "         Age  Salary\n",
      "0  25.000000   50000\n",
      "1  33.333333   60000\n",
      "2  35.000000   70000\n",
      "3  40.000000   80000\n",
      "4  33.333333   90000\n"
     ]
    }
   ],
   "source": [
    "# Sample DataFrame with missing values represented as -999\n",
    "data = {\n",
    "    'Age': [25, -999, 35, 40, -999],\n",
    "    'Salary': [50000, 60000, -999, 80000, 90000]\n",
    "}\n",
    "df = pd.DataFrame(data)\n",
    "print(\"Original DataFrame:\")\n",
    "print(df)\n",
    "\n",
    "# Initialize the imputer with 'mean' strategy and missing_values=-999\n",
    "imputer_mean = MyImputer(strategy=\"mean\", missing_values=-999)\n",
    "\n",
    "# Fit and transform the data\n",
    "imputer_mean.fit(df)\n",
    "df_imputed_mean = imputer_mean.transform(df)\n",
    "print(\"\\nDataFrame after Mean Imputation:\")\n",
    "print(df_imputed_mean)\n"
   ]
  },
  {
   "cell_type": "markdown",
   "metadata": {},
   "source": [
    "## Task b: MyImputer with np.nan as Missing Value Indicator\n",
    "\n",
    "Further modify the MyImputer class to recognize np.nan as the indicator for missing values."
   ]
  },
  {
   "cell_type": "code",
   "execution_count": 11,
   "metadata": {},
   "outputs": [
    {
     "name": "stdout",
     "output_type": "stream",
     "text": [
      "Original DataFrame:\n",
      "    Age   Salary\n",
      "0  25.0  50000.0\n",
      "1   NaN  60000.0\n",
      "2  35.0      NaN\n",
      "3  40.0  80000.0\n",
      "4   NaN  90000.0\n",
      "\n",
      "DataFrame after Mean Imputation:\n",
      "         Age   Salary\n",
      "0  25.000000  50000.0\n",
      "1  33.333333  60000.0\n",
      "2  35.000000  70000.0\n",
      "3  40.000000  80000.0\n",
      "4  33.333333  90000.0\n"
     ]
    }
   ],
   "source": [
    "# Sample DataFrame with missing values as np.nan\n",
    "data = {\n",
    "    'Age': [25, np.nan, 35, 40, np.nan],\n",
    "    'Salary': [50000, 60000, np.nan, 80000, 90000]\n",
    "}\n",
    "df = pd.DataFrame(data)\n",
    "print(\"Original DataFrame:\")\n",
    "print(df)\n",
    "\n",
    "# Initialize the imputer with 'mean' strategy and missing_values=np.nan\n",
    "imputer_mean = MyImputer(strategy=\"mean\", missing_values=np.nan)\n",
    "\n",
    "# Fit and transform the data\n",
    "imputer_mean.fit(df)\n",
    "df_imputed_mean = imputer_mean.transform(df)\n",
    "print(\"\\nDataFrame after Mean Imputation:\")\n",
    "print(df_imputed_mean)\n"
   ]
  },
  {
   "cell_type": "markdown",
   "metadata": {},
   "source": [
    "## Task c: MyImputer with Multiple Missing Value Indicators\n",
    "\n",
    "Enhance the MyImputer class to handle a list of different missing value indicators. Each missing value should be replaced using the specified strategy."
   ]
  },
  {
   "cell_type": "code",
   "execution_count": 12,
   "metadata": {},
   "outputs": [],
   "source": [
    "class MyImputer:\n",
    "    def __init__(self, strategy=\"mean\", missing_values=[0]):\n",
    "        self.strategy = strategy\n",
    "        self.missing_values = missing_values\n",
    "        self.mean_values = {}\n",
    "    \n",
    "    def fit(self, X):\n",
    "        if self.strategy == \"mean\":\n",
    "            # Replace all missing_values with np.nan\n",
    "            X_replaced = X.replace(self.missing_values, np.nan)\n",
    "            self.mean_values = X_replaced.mean()\n",
    "        elif self.strategy == \"feature\":\n",
    "            # No fitting required for 'feature' strategy\n",
    "            pass\n",
    "        else:\n",
    "            raise ValueError(\"Unsupported strategy\")\n",
    "    \n",
    "    def transform(self, X):\n",
    "        X_transformed = X.copy()\n",
    "        if self.strategy == \"mean\":\n",
    "            # Replace all missing_values with the mean of the column\n",
    "            for column in X_transformed.columns:\n",
    "                X_transformed[column] = X_transformed[column].replace(self.missing_values, self.mean_values[column])\n",
    "        elif self.strategy == \"feature\":\n",
    "            # Replace all missing_values with the column number (starting from 1)\n",
    "            for idx, column in enumerate(X_transformed.columns, start=1):\n",
    "                X_transformed[column] = X_transformed[column].replace(self.missing_values, idx)\n",
    "        else:\n",
    "            raise ValueError(\"Unsupported strategy\")\n",
    "        return X_transformed\n"
   ]
  },
  {
   "cell_type": "code",
   "execution_count": 13,
   "metadata": {},
   "outputs": [
    {
     "name": "stdout",
     "output_type": "stream",
     "text": [
      "Original DataFrame:\n",
      "    Age  Salary\n",
      "0    25   50000\n",
      "1  -999   60000\n",
      "2    35    -999\n",
      "3    40   80000\n",
      "4    NA   90000\n",
      "\n",
      "DataFrame after Mean Imputation:\n",
      "         Age  Salary\n",
      "0  25.000000   50000\n",
      "1  33.333333   60000\n",
      "2  35.000000   70000\n",
      "3  40.000000   80000\n",
      "4  33.333333   90000\n"
     ]
    },
    {
     "name": "stderr",
     "output_type": "stream",
     "text": [
      "C:\\Users\\felip\\AppData\\Local\\Temp\\ipykernel_51408\\629691550.py:10: FutureWarning: Downcasting behavior in `replace` is deprecated and will be removed in a future version. To retain the old behavior, explicitly call `result.infer_objects(copy=False)`. To opt-in to the future behavior, set `pd.set_option('future.no_silent_downcasting', True)`\n",
      "  X_replaced = X.replace(self.missing_values, np.nan)\n",
      "C:\\Users\\felip\\AppData\\Local\\Temp\\ipykernel_51408\\629691550.py:23: FutureWarning: Downcasting behavior in `replace` is deprecated and will be removed in a future version. To retain the old behavior, explicitly call `result.infer_objects(copy=False)`. To opt-in to the future behavior, set `pd.set_option('future.no_silent_downcasting', True)`\n",
      "  X_transformed[column] = X_transformed[column].replace(self.missing_values, self.mean_values[column])\n"
     ]
    }
   ],
   "source": [
    "# Sample DataFrame with multiple missing value indicators\n",
    "data = {\n",
    "    'Age': [25, -999, 35, 40, 'NA'],\n",
    "    'Salary': [50000, 60000, -999, 80000, 90000]\n",
    "}\n",
    "df = pd.DataFrame(data)\n",
    "print(\"Original DataFrame:\")\n",
    "print(df)\n",
    "\n",
    "# Initialize the imputer with 'mean' strategy and multiple missing_values\n",
    "imputer_mean = MyImputer(strategy=\"mean\", missing_values=[0, -999, 'NA'])\n",
    "\n",
    "# Fit and transform the data\n",
    "imputer_mean.fit(df)\n",
    "df_imputed_mean = imputer_mean.transform(df)\n",
    "print(\"\\nDataFrame after Mean Imputation:\")\n",
    "print(df_imputed_mean)\n"
   ]
  },
  {
   "cell_type": "markdown",
   "metadata": {},
   "source": [
    "## Level 2d: Extend MyImputer with \"feature\" Strategy\n",
    "\n",
    "Modify the MyImputer class to handle the \"feature\" strategy, which replaces missing values with the respective column number."
   ]
  },
  {
   "cell_type": "code",
   "execution_count": 14,
   "metadata": {},
   "outputs": [
    {
     "name": "stdout",
     "output_type": "stream",
     "text": [
      "Original DataFrame:\n",
      "    Age  Salary\n",
      "0    25   50000\n",
      "1  -999   60000\n",
      "2    35    -999\n",
      "3    40   80000\n",
      "4    NA   90000\n",
      "\n",
      "DataFrame after Feature Imputation:\n",
      "   Age  Salary\n",
      "0   25   50000\n",
      "1    1   60000\n",
      "2   35       2\n",
      "3   40   80000\n",
      "4    1   90000\n"
     ]
    },
    {
     "name": "stderr",
     "output_type": "stream",
     "text": [
      "C:\\Users\\felip\\AppData\\Local\\Temp\\ipykernel_51408\\629691550.py:27: FutureWarning: Downcasting behavior in `replace` is deprecated and will be removed in a future version. To retain the old behavior, explicitly call `result.infer_objects(copy=False)`. To opt-in to the future behavior, set `pd.set_option('future.no_silent_downcasting', True)`\n",
      "  X_transformed[column] = X_transformed[column].replace(self.missing_values, idx)\n"
     ]
    }
   ],
   "source": [
    "# Sample DataFrame with multiple missing value indicators\n",
    "data = {\n",
    "    'Age': [25, -999, 35, 40, 'NA'],\n",
    "    'Salary': [50000, 60000, -999, 80000, 90000]\n",
    "}\n",
    "df = pd.DataFrame(data)\n",
    "print(\"Original DataFrame:\")\n",
    "print(df)\n",
    "\n",
    "# Initialize the imputer with 'feature' strategy and multiple missing_values\n",
    "imputer_feature = MyImputer(strategy=\"feature\", missing_values=[0, -999, 'NA'])\n",
    "\n",
    "# Fit and transform the data\n",
    "imputer_feature.fit(df)\n",
    "df_imputed_feature = imputer_feature.transform(df)\n",
    "print(\"\\nDataFrame after Feature Imputation:\")\n",
    "print(df_imputed_feature)\n"
   ]
  },
  {
   "cell_type": "markdown",
   "metadata": {},
   "source": [
    "## Level 3\n",
    "\n",
    "## Write a GroupImputer Class\n",
    "\n",
    "Create a custom imputer class that handles missing values by grouping the data based on a categorical target variable and imputing missing values with the mean of each group.\n",
    "\n",
    "Example Scenario: Imagine a dataset containing information about fruits with some missing values:\n",
    "\n",
    "Index\tFeature1\tFeature2\tCategory\n",
    "1\t10\tApfel\t3\n",
    "2\t12\tApfel\t2\n",
    "3\t??\tApfel\t\n",
    "4\t??\tBirne\t50\n",
    "5\t55\tBirne\t60\n",
    "6\t56\tBirne\t\n",
    "Missing values are represented by ??. The GroupImputer will replace these missing values with the mean of their respective categories (Apfel or Birne)."
   ]
  },
  {
   "cell_type": "code",
   "execution_count": 15,
   "metadata": {},
   "outputs": [],
   "source": [
    "import numpy as np\n",
    "import pandas as pd\n",
    "\n",
    "\n",
    "class GroupImputer:\n",
    "    def __init__(self, target_column, missing_values=[0, -999, 'NA', '??']):\n",
    "        self.target_column = target_column\n",
    "        self.missing_values = missing_values\n",
    "        self.group_means = {}\n",
    "    \n",
    "    def fit(self, X):\n",
    "        # Replace missing values with np.nan\n",
    "        X_replaced = X.replace(self.missing_values, np.nan)\n",
    "        # Calculate mean for each group\n",
    "        self.group_means = X_replaced.groupby(self.target_column).mean()\n",
    "    \n",
    "    def transform(self, X):\n",
    "        X_transformed = X.copy()\n",
    "        for category in X_transformed[self.target_column].unique():\n",
    "            # Get mean values for the category\n",
    "            means = self.group_means.loc[category]\n",
    "            # Replace missing values with group means\n",
    "            X_transformed.loc[X_transformed[self.target_column] == category] = X_transformed.loc[X_transformed[self.target_column] == category].replace(self.missing_values, means)\n",
    "        return X_transformed\n",
    "\n"
   ]
  },
  {
   "cell_type": "code",
   "execution_count": 16,
   "metadata": {},
   "outputs": [
    {
     "name": "stdout",
     "output_type": "stream",
     "text": [
      "Original DataFrame:\n",
      "  Feature1 Category\n",
      "0       10    Apfel\n",
      "1       12    Apfel\n",
      "2       ??    Apfel\n",
      "3       ??    Birne\n",
      "4       55    Birne\n",
      "5       56    Birne\n",
      "\n",
      "DataFrame after Group Imputation:\n",
      "   Feature1 Category\n",
      "0      10.0    Apfel\n",
      "1      12.0    Apfel\n",
      "2       NaN    Apfel\n",
      "3       NaN    Birne\n",
      "4      55.0    Birne\n",
      "5      56.0    Birne\n"
     ]
    }
   ],
   "source": [
    "# Sample DataFrame with missing values represented as '??'\n",
    "data = {\n",
    "    'Feature1': [10, 12, '??', '??', 55, 56],\n",
    "    'Category': ['Apfel', 'Apfel', 'Apfel', 'Birne', 'Birne', 'Birne']\n",
    "}\n",
    "df = pd.DataFrame(data)\n",
    "print(\"Original DataFrame:\")\n",
    "print(df)\n",
    "\n",
    "# Convert 'Feature1' to numeric, coercing errors to NaN\n",
    "df['Feature1'] = pd.to_numeric(df['Feature1'], errors='coerce')\n",
    "\n",
    "# Initialize the GroupImputer\n",
    "group_imputer = GroupImputer(target_column='Category', missing_values=['??'])\n",
    "\n",
    "# Fit the imputer to the data\n",
    "group_imputer.fit(df)\n",
    "\n",
    "# Transform the data\n",
    "df_imputed = group_imputer.transform(df)\n",
    "print(\"\\nDataFrame after Group Imputation:\")\n",
    "print(df_imputed)\n"
   ]
  }
 ],
 "metadata": {
  "kernelspec": {
   "display_name": "base",
   "language": "python",
   "name": "python3"
  },
  "language_info": {
   "codemirror_mode": {
    "name": "ipython",
    "version": 3
   },
   "file_extension": ".py",
   "mimetype": "text/x-python",
   "name": "python",
   "nbconvert_exporter": "python",
   "pygments_lexer": "ipython3",
   "version": "3.12.7"
  }
 },
 "nbformat": 4,
 "nbformat_minor": 2
}
