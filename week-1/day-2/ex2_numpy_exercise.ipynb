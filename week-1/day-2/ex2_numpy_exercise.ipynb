{
 "cells": [
  {
   "cell_type": "markdown",
   "id": "49d0561f",
   "metadata": {},
   "source": [
    "# Class Exercise: Array Generation and Manipulation\n",
    "\n",
    "In this exercise, you will practice creating and manipulating NumPy arrays. Follow the step-by-step instructions below to complete the tasks."
   ]
  },
  {
   "cell_type": "markdown",
   "id": "345c2834",
   "metadata": {},
   "source": [
    "## Important Notes from Chapter 3.3.2\n",
    "\n",
    "- **Next Week's Objective:** You should be able to generate test data to study various aspects of machine learning algorithms more closely.\n",
    "- **Key Functions to Learn:** `np.ones`, `np.zeros`, `np.random.rand`, `np.random.randint`, `np.random.randn`, `np.array`\n",
    "  - `np.random.choice` is similar to the above functions.\n",
    "- **Additional Functions:** `np.arange` and `np.linspace` perform similar tasks.\n",
    "- **Other Concepts:** Slicing, `np.reshape`, and the difference between `size` and `shape`.\n",
    "\n",
    "### Less Important Topics in Chapter 3.3.2\n",
    "\n",
    "- **`ix_`:** Can be omitted.\n",
    "- **`flatnonzero`:** You should only be able to roughly categorize it.\n",
    "  - *(See Jupyter Notebook on \"Selecting Elements\")*"
   ]
  },
  {
   "cell_type": "markdown",
   "id": "cd395094",
   "metadata": {},
   "source": [
    "## Task a: Creating Arrays\n",
    "\n",
    "Read Frochte Chapter 3.3.2 (p.54) and perform the following tasks in parallel."
   ]
  },
  {
   "cell_type": "markdown",
   "id": "b5583360",
   "metadata": {},
   "source": [
    "### a.1 Create an array with 3 rows and 4 columns filled with ones."
   ]
  },
  {
   "cell_type": "code",
   "execution_count": 6,
   "id": "af0330e8",
   "metadata": {},
   "outputs": [
    {
     "name": "stdout",
     "output_type": "stream",
     "text": [
      "Array filled with ones:\n",
      "[[1. 1. 1. 1.]\n",
      " [1. 1. 1. 1.]\n",
      " [1. 1. 1. 1.]]\n"
     ]
    }
   ],
   "source": [
    "import numpy as np\n",
    "import pandas as pd\n",
    "\n",
    "# Create an array with 3 rows and 4 columns filled with ones\n",
    "array_ones = np.ones((3, 4))\n",
    "print(\"Array filled with ones:\")\n",
    "print(array_ones)"
   ]
  },
  {
   "cell_type": "markdown",
   "id": "af754728",
   "metadata": {},
   "source": [
    "### a.2 Create an array with 2 rows and 4 columns filled with zeros."
   ]
  },
  {
   "cell_type": "code",
   "execution_count": 7,
   "id": "f4d0edc4",
   "metadata": {},
   "outputs": [
    {
     "name": "stdout",
     "output_type": "stream",
     "text": [
      "Array filled with zeros:\n",
      "[[0. 0. 0. 0.]\n",
      " [0. 0. 0. 0.]]\n"
     ]
    }
   ],
   "source": [
    "# Create an array with 2 rows and 4 columns filled with zeros\n",
    "array_zeros = np.zeros((2, 4))\n",
    "print(\"Array filled with zeros:\")\n",
    "print(array_zeros)"
   ]
  },
  {
   "cell_type": "markdown",
   "id": "93e32ad9",
   "metadata": {},
   "source": [
    "### a.3 Create an array with 20 rows and 2 columns filled with random numbers."
   ]
  },
  {
   "cell_type": "code",
   "execution_count": 8,
   "id": "91f677f6",
   "metadata": {},
   "outputs": [
    {
     "name": "stdout",
     "output_type": "stream",
     "text": [
      "Array filled with random numbers:\n",
      "[[6.69979899e-01 6.59061284e-02]\n",
      " [7.26210894e-01 4.40606613e-01]\n",
      " [4.78069980e-01 3.64052842e-01]\n",
      " [8.35148184e-01 4.51215437e-01]\n",
      " [9.32095038e-01 5.75894036e-01]\n",
      " [6.69949312e-01 2.33868052e-01]\n",
      " [5.37955752e-01 1.40102568e-01]\n",
      " [1.17638593e-02 1.53408930e-01]\n",
      " [4.56423766e-02 9.39318823e-01]\n",
      " [9.76252187e-01 7.33812072e-01]\n",
      " [8.25089763e-01 6.92600797e-01]\n",
      " [8.89270896e-02 6.39102894e-01]\n",
      " [6.18354418e-01 9.81052216e-01]\n",
      " [1.08722748e-01 1.31387783e-01]\n",
      " [9.39742252e-01 1.48424121e-01]\n",
      " [4.78257462e-02 3.69623943e-01]\n",
      " [8.80165145e-01 3.47500478e-01]\n",
      " [3.36897745e-01 8.19661978e-01]\n",
      " [2.22954542e-01 3.31289866e-04]\n",
      " [8.97151645e-01 1.43077121e-01]]\n"
     ]
    }
   ],
   "source": [
    "# Create an array with 20 rows and 2 columns filled with random numbers\n",
    "array_random = np.random.rand(20, 2)\n",
    "print(\"Array filled with random numbers:\")\n",
    "print(array_random)"
   ]
  },
  {
   "cell_type": "markdown",
   "id": "0acb0848",
   "metadata": {},
   "source": [
    "### a.4 Create an array with 20 rows and 2 columns with uniformly distributed random numbers between 0 and 10."
   ]
  },
  {
   "cell_type": "code",
   "execution_count": 9,
   "id": "11ea659e",
   "metadata": {},
   "outputs": [
    {
     "name": "stdout",
     "output_type": "stream",
     "text": [
      "Array with uniformly distributed random numbers between 0 and 10:\n",
      "[[4.35578928 4.03400373]\n",
      " [0.62204983 7.80294534]\n",
      " [4.39728817 7.00005107]\n",
      " [1.66123019 1.62739573]\n",
      " [5.9500924  9.10168236]\n",
      " [6.60299594 7.31278029]\n",
      " [6.02262434 0.82537212]\n",
      " [0.42696616 6.66623124]\n",
      " [9.09414245 1.1234418 ]\n",
      " [2.33221871 0.17584002]\n",
      " [8.73205688 7.47687725]\n",
      " [3.63563194 4.82680384]\n",
      " [9.829561   9.99903206]\n",
      " [2.36090786 7.01627271]\n",
      " [0.29594921 0.98188147]\n",
      " [1.61766229 7.95636148]\n",
      " [9.80785522 7.35173587]\n",
      " [8.90900256 8.29386927]\n",
      " [7.23148609 3.76497794]\n",
      " [6.64863406 5.64903208]]\n"
     ]
    }
   ],
   "source": [
    "# Create an array with uniformly distributed random numbers between 0 and 10\n",
    "array_uniform = np.random.uniform(0, 10, (20, 2))\n",
    "print(\"Array with uniformly distributed random numbers between 0 and 10:\")\n",
    "print(array_uniform)"
   ]
  },
  {
   "cell_type": "markdown",
   "id": "f6df1b66",
   "metadata": {},
   "source": [
    "### a.5 Create an array with 20 rows and 2 columns with normally distributed random numbers, almost always above 1."
   ]
  },
  {
   "cell_type": "code",
   "execution_count": 10,
   "id": "141e3065",
   "metadata": {},
   "outputs": [
    {
     "name": "stdout",
     "output_type": "stream",
     "text": [
      "Array with normally distributed random numbers (mean=2, std=0.5):\n",
      "[[2.16198257 2.32589421]\n",
      " [1.42217175 1.45465789]\n",
      " [1.2441399  1.2259381 ]\n",
      " [2.17293218 1.51882222]\n",
      " [1.87010337 2.5818839 ]\n",
      " [1.85312096 1.60335204]\n",
      " [3.19083442 2.72157666]\n",
      " [1.45481963 1.18835434]\n",
      " [2.4447518  2.80902657]\n",
      " [2.43647346 1.66448417]\n",
      " [1.06013725 2.54682896]\n",
      " [2.17303518 1.36902854]\n",
      " [2.3385279  2.16066394]\n",
      " [1.11394803 2.33992263]\n",
      " [2.51657289 1.65728441]\n",
      " [1.42474843 1.8052829 ]\n",
      " [2.03311003 1.43619883]\n",
      " [1.51108461 2.03969076]\n",
      " [1.11274915 1.17772738]\n",
      " [2.51935348 1.49988854]]\n"
     ]
    }
   ],
   "source": [
    "# Create an array with normally distributed random numbers (mean=2, std=0.5)\n",
    "array_normal = np.random.normal(2, 0.5, (20, 2))\n",
    "print(\"Array with normally distributed random numbers (mean=2, std=0.5):\")\n",
    "print(array_normal)"
   ]
  },
  {
   "cell_type": "markdown",
   "id": "5fb78c53",
   "metadata": {},
   "source": [
    "## Task b: Memorize Random Functions\n",
    "\n",
    "Memorize the input parameters and output structure of the following NumPy random functions. Create a table as a memory aid."
   ]
  },
  {
   "cell_type": "markdown",
   "id": "34288d79",
   "metadata": {},
   "source": [
    "### b.1 Input Parameters and Output Structure\n",
    "\n",
    "| Function           | Input Parameters                          | Output Structure                                                                             |\n",
    "|--------------------|-------------------------------------------|----------------------------------------------------------------------------------------------|\n",
    "| `np.random.rand`   | `d0, d1, ..., dn` (dimensions)            | Array of shape `(d0, d1, ..., dn)` with uniform distribution over [0, 1).                  |\n",
    "| `np.random.randn`  | `d0, d1, ..., dn` (dimensions)            | Array of shape `(d0, d1, ..., dn)` with standard normal distribution.                        |\n",
    "| `np.random.randint`| `low, high=None, size=None, dtype=int`  | Integers from `low` (inclusive) to `high` (exclusive) if `high` is provided; otherwise from 0 to `low`.\n",
    "| `np.random_sample`| `size=None`                              | Array of given shape with floats in the half-open interval [0.0, 1.0).                         |"
   ]
  },
  {
   "cell_type": "markdown",
   "id": "dd9f6f2c",
   "metadata": {},
   "source": [
    "## Task c: Working with `np.linspace` and `np.arange`\n",
    "\n",
    "Read Frochte Chapter 3.3.2 (pp.54-55) and perform the following tasks."
   ]
  },
  {
   "cell_type": "markdown",
   "id": "af0c836d",
   "metadata": {},
   "source": [
    "### c.1 Documentation Review\n",
    "\n",
    "Review the documentation for `numpy.linspace` and `numpy.arange`. Create a table of input and output parameters as a memory aid."
   ]
  },
  {
   "cell_type": "markdown",
   "id": "803708c3",
   "metadata": {},
   "source": [
    "### c.2 Create and Reshape Array `a1`\n",
    "\n",
    "1. **Create the array `a1`:**"
   ]
  },
  {
   "cell_type": "code",
   "execution_count": 11,
   "id": "code-cell-1",
   "metadata": {},
   "outputs": [
    {
     "name": "stdout",
     "output_type": "stream",
     "text": [
      "[ 0  1  2  3  4  5  6  7  8  9 10 11]\n"
     ]
    }
   ],
   "source": [
    "a1 = np.array([0, 1, 2, 3, 4, 5, 6, 7, 8, 9, 10, 11])\n",
    "print(a1)"
   ]
  },
  {
   "cell_type": "markdown",
   "id": "code-cell-2",
   "metadata": {},
   "source": [
    "2. **Reshape `a1` into a 4x3 matrix:**"
   ]
  },
  {
   "cell_type": "code",
   "execution_count": 12,
   "id": "code-cell-3",
   "metadata": {},
   "outputs": [
    {
     "name": "stdout",
     "output_type": "stream",
     "text": [
      "4x3 Matrix:\n",
      "[[ 0  1  2]\n",
      " [ 3  4  5]\n",
      " [ 6  7  8]\n",
      " [ 9 10 11]]\n"
     ]
    }
   ],
   "source": [
    "matrix_4x3 = a1.reshape((4, 3))\n",
    "print(\"4x3 Matrix:\")\n",
    "print(matrix_4x3)"
   ]
  },
  {
   "cell_type": "markdown",
   "id": "code-cell-4",
   "metadata": {},
   "source": [
    "3. **Reshape `a1` into a 2x6 matrix:**"
   ]
  },
  {
   "cell_type": "code",
   "execution_count": 13,
   "id": "code-cell-5",
   "metadata": {},
   "outputs": [
    {
     "name": "stdout",
     "output_type": "stream",
     "text": [
      "2x6 Matrix:\n",
      "[[ 0  1  2  3  4  5]\n",
      " [ 6  7  8  9 10 11]]\n"
     ]
    }
   ],
   "source": [
    "matrix_2x6 = a1.reshape((2, 6))\n",
    "print(\"2x6 Matrix:\")\n",
    "print(matrix_2x6)"
   ]
  },
  {
   "cell_type": "markdown",
   "id": "code-cell-6",
   "metadata": {},
   "source": [
    "4. **Reshape `a1` into a 3x4 matrix:**"
   ]
  },
  {
   "cell_type": "code",
   "execution_count": 14,
   "id": "code-cell-7",
   "metadata": {},
   "outputs": [
    {
     "name": "stdout",
     "output_type": "stream",
     "text": [
      "3x4 Matrix:\n",
      "[[ 0  1  2  3]\n",
      " [ 4  5  6  7]\n",
      " [ 8  9 10 11]]\n"
     ]
    }
   ],
   "source": [
    "matrix_3x4 = a1.reshape((3, 4))\n",
    "print(\"3x4 Matrix:\")\n",
    "print(matrix_3x4)"
   ]
  },
  {
   "cell_type": "markdown",
   "id": "code-cell-8",
   "metadata": {},
   "source": [
    "5. **Attempt to reshape `a1` into a 3x5 matrix and observe what happens:**"
   ]
  },
  {
   "cell_type": "code",
   "execution_count": 15,
   "id": "code-cell-9",
   "metadata": {},
   "outputs": [
    {
     "name": "stdout",
     "output_type": "stream",
     "text": [
      "Error: cannot reshape array of size 12 into shape (3,5)\n"
     ]
    }
   ],
   "source": [
    "try:\n",
    "    matrix_3x5 = a1.reshape((3, 5))\n",
    "    print(\"3x5 Matrix:\")\n",
    "    print(matrix_3x5)\n",
    "except ValueError as e:\n",
    "    print(\"Error:\", e)"
   ]
  },
  {
   "cell_type": "markdown",
   "id": "code-cell-10",
   "metadata": {},
   "source": [
    "*What happens?* The reshape operation will fail because the total number of elements (12) does not match the desired shape (15)."
   ]
  },
  {
   "cell_type": "markdown",
   "id": "209a4dae",
   "metadata": {},
   "source": [
    "## Task d: Advanced - Using `np.logspace`\n",
    "\n",
    "### d.1 Create `a2` with 6 numbers from 10 to 1,000,000 with increasing intervals."
   ]
  },
  {
   "cell_type": "code",
   "execution_count": 16,
   "id": "35c475be",
   "metadata": {},
   "outputs": [
    {
     "name": "stdout",
     "output_type": "stream",
     "text": [
      "Array a2 with 6 numbers from 10 to 1,000,000:\n",
      "[1.e+01 1.e+02 1.e+03 1.e+04 1.e+05 1.e+06]\n"
     ]
    }
   ],
   "source": [
    "# Create an array with 6 numbers from 10 to 1,000,000 using logspace\n",
    "a2_logspace_6 = np.logspace(1, 6, num=6, base=10)\n",
    "print(\"Array a2 with 6 numbers from 10 to 1,000,000:\")\n",
    "print(a2_logspace_6)"
   ]
  },
  {
   "cell_type": "markdown",
   "id": "b160597b",
   "metadata": {},
   "source": [
    "### d.2 Create `a2` with 9 numbers from 10 to 1,000 with increasing intervals."
   ]
  },
  {
   "cell_type": "code",
   "execution_count": 17,
   "id": "2a81bec8",
   "metadata": {},
   "outputs": [
    {
     "name": "stdout",
     "output_type": "stream",
     "text": [
      "Array a2 with 9 numbers from 10 to 1,000:\n",
      "[  10.           17.7827941    31.6227766    56.23413252  100.\n",
      "  177.827941    316.22776602  562.34132519 1000.        ]\n"
     ]
    }
   ],
   "source": [
    "# Create an array with 9 numbers from 10 to 1,000 using logspace\n",
    "a2_logspace_9 = np.logspace(1, 3, num=9, base=10)\n",
    "print(\"Array a2 with 9 numbers from 10 to 1,000:\")\n",
    "print(a2_logspace_9)"
   ]
  },
  {
   "cell_type": "markdown",
   "id": "457d9294",
   "metadata": {},
   "source": [
    "## Summary\n",
    "\n",
    "- **Task a:** Practiced creating arrays with specific shapes and filled with ones, zeros, and random numbers.\n",
    "- **Task b:** Memorized key NumPy random functions and their parameters.\n",
    "- **Task c:** Explored `np.linspace` and `np.arange`, and practiced reshaping arrays.\n",
    "- **Task d:** Learned to use `np.logspace` for generating arrays with logarithmically spaced numbers."
   ]
  }
 ],
 "metadata": {
  "kernelspec": {
   "display_name": "Python 3",
   "language": "python",
   "name": "python3"
  },
  "language_info": {
   "codemirror_mode": {
    "name": "ipython",
    "version": 3
   },
   "file_extension": ".py",
   "mimetype": "text/x-python",
   "name": "python",
   "nbconvert_exporter": "python",
   "pygments_lexer": "ipython3",
   "version": "3.12.7"
  }
 },
 "nbformat": 4,
 "nbformat_minor": 5
}
