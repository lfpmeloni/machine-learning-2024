{
 "cells": [
  {
   "cell_type": "markdown",
   "id": "intro",
   "metadata": {},
   "source": [
    "# Class Exercise 3: File Operations and Plotting\n",
    "\n",
    "In this exercise, you will work with file operations, array manipulations, and plotting using Matplotlib."
   ]
  },
  {
   "cell_type": "markdown",
   "id": "task-a-description",
   "metadata": {},
   "source": [
    "## Task a: Read a File with 2 Columns and Print the Data\n",
    "\n",
    "In this task, you will read a file containing two columns of data and print its contents. This is a fundamental step in data preprocessing for machine learning."
   ]
  },
  {
   "cell_type": "markdown",
   "id": "task-a-code-description",
   "metadata": {},
   "source": [
    "### a.1 Code Example: Reading and Processing a File\n",
    "\n",
    "The following code demonstrates how to read a file named `iris.data` and then load it using NumPy."
   ]
  },
  {
   "cell_type": "code",
   "execution_count": 4,
   "id": "task-a-code",
   "metadata": {},
   "outputs": [
    {
     "name": "stdout",
     "output_type": "stream",
     "text": [
      "Data from data.csv:\n",
      "[1.0, 2.0]\n",
      "[3.0, 4.0]\n",
      "[5.0, 6.0]\n",
      "[7.0, 8.0]\n",
      "[9.0, 10.0]\n"
     ]
    }
   ],
   "source": [
    "import csv\n",
    "\n",
    "# Define the input file name\n",
    "input_file = \"data.csv\"\n",
    "\n",
    "try:\n",
    "    # Open and read the CSV file\n",
    "    with open(input_file, mode='r', newline='') as file:\n",
    "        reader = csv.reader(file)\n",
    "        data = []\n",
    "        for row in reader:\n",
    "            # Convert each value to float (or int if appropriate)\n",
    "            data.append([float(value) for value in row])\n",
    "    \n",
    "    # Print the data\n",
    "    print(\"Data from data.csv:\")\n",
    "    for row in data:\n",
    "        print(row)\n",
    "\n",
    "except FileNotFoundError:\n",
    "    print(f\"Error: The file '{input_file}' was not found. Please check the file name and path.\")\n",
    "except Exception as e:\n",
    "    print(f\"An unexpected error occurred: {e}\")\n"
   ]
  },
  {
   "cell_type": "markdown",
   "id": "task-b-description",
   "metadata": {},
   "source": [
    "## Task b: NumPy Array Operations and Plotting\n",
    "\n",
    "In this task, you will perform several operations using NumPy arrays and visualize the results using Matplotlib."
   ]
  },
  {
   "cell_type": "markdown",
   "id": "task-b-step1",
   "metadata": {},
   "source": [
    "### b.1 Import NumPy and Create a List of 20 Uniformly Distributed Numbers"
   ]
  },
  {
   "cell_type": "code",
   "execution_count": 5,
   "id": "task-b-code-1",
   "metadata": {},
   "outputs": [
    {
     "name": "stdout",
     "output_type": "stream",
     "text": [
      "Uniformly distributed list: [0.0, 0.05263157894736842, 0.10526315789473684, 0.15789473684210525, 0.21052631578947367, 0.2631578947368421, 0.3157894736842105, 0.3684210526315789, 0.42105263157894735, 0.47368421052631576, 0.5263157894736842, 0.5789473684210527, 0.631578947368421, 0.6842105263157894, 0.7368421052631579, 0.7894736842105263, 0.8421052631578947, 0.894736842105263, 0.9473684210526315, 1.0]\n",
      "NumPy array x: [0.         0.05263158 0.10526316 0.15789474 0.21052632 0.26315789\n",
      " 0.31578947 0.36842105 0.42105263 0.47368421 0.52631579 0.57894737\n",
      " 0.63157895 0.68421053 0.73684211 0.78947368 0.84210526 0.89473684\n",
      " 0.94736842 1.        ]\n",
      "Initial y-values (y = x^2): [0.         0.00277008 0.01108033 0.02493075 0.04432133 0.06925208\n",
      " 0.09972299 0.13573407 0.17728532 0.22437673 0.27700831 0.33518006\n",
      " 0.39889197 0.46814404 0.54293629 0.6232687  0.70914127 0.80055402\n",
      " 0.89750693 1.        ]\n",
      "Modified y-values: [0.05       0.05277008 0.01108033 0.02493075 0.04432133 0.06925208\n",
      " 0.09972299 0.13573407 0.17728532 0.22437673 0.27700831 0.33518006\n",
      " 0.39889197 0.46814404 0.54293629 0.6232687  0.70914127 0.80055402\n",
      " 0.89750693 1.        ]\n"
     ]
    },
    {
     "data": {
      "image/png": "[encoded data removed]",
      "text/plain": [
       "<Figure size 640x480 with 1 Axes>"
      ]
     },
     "metadata": {},
     "output_type": "display_data"
    }
   ],
   "source": [
    "import numpy as np\n",
    "import matplotlib.pyplot as plt\n",
    "\n",
    "# Step 2: Create a list of 20 uniformly distributed numbers between 0 and 1\n",
    "uniform_list = list(np.linspace(0, 1, 20))\n",
    "print(\"Uniformly distributed list:\", uniform_list)\n",
    "\n",
    "# Step 3: Convert the list to a NumPy array\n",
    "x = np.array(uniform_list)\n",
    "print(\"NumPy array x:\", x)\n",
    "\n",
    "# Step 4: Calculate y as the square of x\n",
    "y = x ** 2\n",
    "print(\"Initial y-values (y = x^2):\", y)\n",
    "\n",
    "# Step 5: Modify 2 y-values slightly\n",
    "# For example, add a small random number to the first two elements\n",
    "y_modified = y.copy()\n",
    "y_modified[:2] += 0.05  # Modify the first two y-values\n",
    "print(\"Modified y-values:\", y_modified)\n",
    "\n",
    "# Step 6: Create a scatter plot\n",
    "plt.scatter(x, y_modified, color='blue', label='y = x^2 (modified)')\n",
    "plt.title('Scatter Plot of y = x^2 with Modified Values')\n",
    "plt.xlabel('x')\n",
    "plt.ylabel('y')\n",
    "plt.legend()\n",
    "plt.grid(True)\n",
    "plt.show()\n"
   ]
  },
  {
   "cell_type": "markdown",
   "id": "task-b-step2",
   "metadata": {},
   "source": [
    "### b.2 Convert the List to a NumPy Array"
   ]
  },
  {
   "cell_type": "code",
   "execution_count": 6,
   "id": "task-b-code-2",
   "metadata": {},
   "outputs": [
    {
     "name": "stdout",
     "output_type": "stream",
     "text": [
      "NumPy array x:\n",
      "[0.         0.05263158 0.10526316 0.15789474 0.21052632 0.26315789\n",
      " 0.31578947 0.36842105 0.42105263 0.47368421 0.52631579 0.57894737\n",
      " 0.63157895 0.68421053 0.73684211 0.78947368 0.84210526 0.89473684\n",
      " 0.94736842 1.        ]\n"
     ]
    }
   ],
   "source": [
    "# Convert the list to a NumPy array\n",
    "x = np.array(uniform_list)\n",
    "print(\"NumPy array x:\")\n",
    "print(x)"
   ]
  },
  {
   "cell_type": "markdown",
   "id": "task-b-step3",
   "metadata": {},
   "source": [
    "### b.3 Compute y-values as Squares of x-values"
   ]
  },
  {
   "cell_type": "code",
   "execution_count": 7,
   "id": "task-b-code-3",
   "metadata": {},
   "outputs": [
    {
     "name": "stdout",
     "output_type": "stream",
     "text": [
      "y-values (x squared):\n",
      "[0.         0.00277008 0.01108033 0.02493075 0.04432133 0.06925208\n",
      " 0.09972299 0.13573407 0.17728532 0.22437673 0.27700831 0.33518006\n",
      " 0.39889197 0.46814404 0.54293629 0.6232687  0.70914127 0.80055402\n",
      " 0.89750693 1.        ]\n"
     ]
    }
   ],
   "source": [
    "# Calculate y-values as squares of x-values\n",
    "y = x ** 2\n",
    "print(\"y-values (x squared):\")\n",
    "print(y)"
   ]
  },
  {
   "cell_type": "markdown",
   "id": "task-b-step4",
   "metadata": {},
   "source": [
    "### b.4 Modify Two y-values Slightly"
   ]
  },
  {
   "cell_type": "code",
   "execution_count": 8,
   "id": "task-b-code-4",
   "metadata": {},
   "outputs": [
    {
     "name": "stdout",
     "output_type": "stream",
     "text": [
      "Modified y-values:\n",
      "[ 0.          0.00277008  0.01108033  0.02493075  0.04432133  1.06925208\n",
      "  0.09972299  0.13573407  0.17728532  0.22437673  0.27700831  0.33518006\n",
      "  0.39889197  0.46814404  0.54293629 -0.3767313   0.70914127  0.80055402\n",
      "  0.89750693  1.        ]\n"
     ]
    }
   ],
   "source": [
    "# Modify 2 y-values slightly\n",
    "y[5] += 1  # Modify the 6th element\n",
    "y[15] -= 1  # Modify the 16th element\n",
    "print(\"Modified y-values:\")\n",
    "print(y)"
   ]
  },
  {
   "cell_type": "markdown",
   "id": "task-b-step5",
   "metadata": {},
   "source": [
    "### b.5 Plot a Scatterplot Using Matplotlib"
   ]
  },
  {
   "cell_type": "code",
   "execution_count": 9,
   "id": "task-b-code-5",
   "metadata": {},
   "outputs": [
    {
     "data": {
      "image/png": "[encoded data removed]",
      "text/plain": [
       "<Figure size 640x480 with 1 Axes>"
      ]
     },
     "metadata": {},
     "output_type": "display_data"
    }
   ],
   "source": [
    "# Plot a scatter plot using matplotlib\n",
    "plt.scatter(x, y, color='blue', marker='o')\n",
    "plt.title('Scatter Plot of y = x^2 with Modified Points')\n",
    "plt.xlabel('x')\n",
    "plt.ylabel('y')\n",
    "plt.grid(True)\n",
    "plt.show()"
   ]
  },
  {
   "cell_type": "markdown",
   "id": "task-c-description",
   "metadata": {},
   "source": [
    "## Task c: Advanced - Broadcasting and Vectorization\n",
    "\n",
    "For those who have mastered the above tasks, delve deeper into the concepts of **broadcasting** and **vectorization** in NumPy. These techniques allow for efficient mathematical operations without explicit loops."
   ]
  },
  {
   "cell_type": "markdown",
   "id": "task-c-resources",
   "metadata": {},
   "source": [
    "**Concepts Explained:**\n",
    "\n",
    "- **Broadcasting:** Allows NumPy to perform operations on arrays of different shapes in a memory-efficient manner.\n",
    "- **Vectorization:** Enables element-wise operations on arrays, leading to more readable and faster code compared to using loops.\n",
    "\n",
    "**Additional Resources:**\n",
    "- [NumPy Broadcasting](https://numpy.org/doc/stable/user/basics.broadcasting.html)\n",
    "- [NumPy Vectorization](https://numpy.org/doc/stable/reference/ufuncs.html#vectorization)"
   ]
  },
  {
   "cell_type": "markdown",
   "id": "summary",
   "metadata": {},
   "source": [
    "## Summary\n",
    "\n",
    "- **Task a:** Learned how to read and process a file with two columns using NumPy.\n",
    "- **Task b:** Practiced creating lists and NumPy arrays, performing vectorized operations, modifying array elements, and visualizing data with Matplotlib.\n",
    "- **Task c:** Explored advanced NumPy concepts of broadcasting and vectorization to enhance computational efficiency."
   ]
  }
 ],
 "metadata": {
  "kernelspec": {
   "display_name": "base",
   "language": "python",
   "name": "python3"
  },
  "language_info": {
   "codemirror_mode": {
    "name": "ipython",
    "version": 3
   },
   "file_extension": ".py",
   "mimetype": "text/x-python",
   "name": "python",
   "nbconvert_exporter": "python",
   "pygments_lexer": "ipython3",
   "version": "3.12.7"
  }
 },
 "nbformat": 4,
 "nbformat_minor": 5
}
