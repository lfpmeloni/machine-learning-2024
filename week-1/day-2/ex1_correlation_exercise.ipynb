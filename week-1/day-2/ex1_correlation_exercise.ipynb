{
 "cells": [
  {
   "cell_type": "markdown",
   "id": "c054a325",
   "metadata": {},
   "source": [
    "# Class Exercise: Correlation Coefficient Calculation\n",
    "\n",
    "In this exercise, you will create a matrix using NumPy, convert it to a pandas DataFrame, and calculate the correlation coefficients between different columns using both `numpy` and `pandas` functions."
   ]
  },
  {
   "cell_type": "markdown",
   "id": "988f4825",
   "metadata": {},
   "source": [
    "## Step 1: Import Necessary Libraries\n",
    "\n",
    "First, import the required libraries: `numpy` for numerical operations and `pandas` for data manipulation."
   ]
  },
  {
   "cell_type": "code",
   "execution_count": 1,
   "id": "979ec2b8",
   "metadata": {},
   "outputs": [],
   "source": [
    "import numpy as np\n",
    "import pandas as pd"
   ]
  },
  {
   "cell_type": "markdown",
   "id": "b6e23980",
   "metadata": {},
   "source": [
    "## Step 2: Create the Matrix\n",
    "\n",
    "Create a NumPy array `M` with the following structure and convert it into a pandas DataFrame `P`."
   ]
  },
  {
   "cell_type": "code",
   "execution_count": 2,
   "id": "28a9c344",
   "metadata": {},
   "outputs": [
    {
     "name": "stdout",
     "output_type": "stream",
     "text": [
      "DataFrame P:\n",
      "   Column 1  Column 2  Column 3\n",
      "0         1         1         1\n",
      "1         2         4         8\n",
      "2         3         9        27\n",
      "3         4        16        64\n"
     ]
    }
   ],
   "source": [
    "# Create the NumPy array\n",
    "M = np.array([[1, 1, 1],\n",
    "              [2, 4, 8],\n",
    "              [3, 9, 27],\n",
    "              [4, 16, 64]])\n",
    "\n",
    "# Convert to pandas DataFrame\n",
    "P = pd.DataFrame(M, columns=['Column 1', 'Column 2', 'Column 3'])\n",
    "\n",
    "# Display the DataFrame\n",
    "print(\"DataFrame P:\")\n",
    "print(P)"
   ]
  },
  {
   "cell_type": "markdown",
   "id": "7ad0545c",
   "metadata": {},
   "source": [
    "## Step 3: Calculate Correlation Coefficients Using NumPy\n",
    "\n",
    "Calculate the correlation coefficients between the specified columns using `numpy.corrcoef`. The correlation coefficient measures the strength and direction of the linear relationship between two variables."
   ]
  },
  {
   "cell_type": "code",
   "execution_count": 3,
   "id": "3028878c",
   "metadata": {},
   "outputs": [
    {
     "name": "stdout",
     "output_type": "stream",
     "text": [
      "Correlation between Column 1 and Column 1: 1.0\n",
      "Correlation between Column 1 and Column 2: 0.9843740386976972\n",
      "Correlation between Column 1 and Column 3: 0.9513698557924043\n",
      "Correlation between Column 2 and Column 3: 0.9905328518901695\n"
     ]
    }
   ],
   "source": [
    "# Correlation of Column 1 with itself\n",
    "corr_1_1 = np.corrcoef(P['Column 1'], P['Column 1'])[0, 1]\n",
    "print(\"Correlation between Column 1 and Column 1:\", corr_1_1)\n",
    "\n",
    "# Correlation of Column 1 with Column 2\n",
    "corr_1_2 = np.corrcoef(P['Column 1'], P['Column 2'])[0, 1]\n",
    "print(\"Correlation between Column 1 and Column 2:\", corr_1_2)\n",
    "\n",
    "# Correlation of Column 1 with Column 3\n",
    "corr_1_3 = np.corrcoef(P['Column 1'], P['Column 3'])[0, 1]\n",
    "print(\"Correlation between Column 1 and Column 3:\", corr_1_3)\n",
    "\n",
    "# Correlation of Column 2 with Column 3\n",
    "corr_2_3 = np.corrcoef(P['Column 2'], P['Column 3'])[0, 1]\n",
    "print(\"Correlation between Column 2 and Column 3:\", corr_2_3)"
   ]
  },
  {
   "cell_type": "markdown",
   "id": "9f3dd2c4",
   "metadata": {},
   "source": [
    "## Step 4: Calculate Correlation Matrix Using pandas\n",
    "\n",
    "Use the `corr()` function from pandas to compute the correlation matrix for the DataFrame `P`. This provides a convenient overview of the correlations between all pairs of columns."
   ]
  },
  {
   "cell_type": "code",
   "execution_count": 4,
   "id": "487320a3",
   "metadata": {},
   "outputs": [
    {
     "name": "stdout",
     "output_type": "stream",
     "text": [
      "\n",
      "Correlation Matrix using pandas:\n",
      "          Column 1  Column 2  Column 3\n",
      "Column 1  1.000000  0.984374  0.951370\n",
      "Column 2  0.984374  1.000000  0.990533\n",
      "Column 3  0.951370  0.990533  1.000000\n"
     ]
    }
   ],
   "source": [
    "# Calculate and print the correlation matrix using pandas\n",
    "corr_matrix = P.corr()\n",
    "print(\"\\nCorrelation Matrix using pandas:\")\n",
    "print(corr_matrix)"
   ]
  },
  {
   "cell_type": "markdown",
   "id": "eaafc3e5",
   "metadata": {},
   "source": [
    "## Summary\n",
    "\n",
    "- **NumPy Correlation Coefficients:** Calculated individual correlations between specified pairs of columns.\n",
    "- **pandas Correlation Matrix:** Provided a complete correlation matrix for all column pairs in the DataFrame.\n",
    "\n",
    "This exercise demonstrates how to compute and interpret correlation coefficients using both NumPy and pandas libraries in Python."
   ]
  }
 ],
 "metadata": {
  "kernelspec": {
   "display_name": "base",
   "language": "python",
   "name": "python3"
  },
  "language_info": {
   "codemirror_mode": {
    "name": "ipython",
    "version": 3
   },
   "file_extension": ".py",
   "mimetype": "text/x-python",
   "name": "python",
   "nbconvert_exporter": "python",
   "pygments_lexer": "ipython3",
   "version": "3.12.7"
  }
 },
 "nbformat": 4,
 "nbformat_minor": 5
}
