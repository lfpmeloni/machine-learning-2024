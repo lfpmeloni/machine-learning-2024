{
 "cells": [
  {
   "cell_type": "markdown",
   "id": "13f56fd1-d7fa-4647-94a1-111b59fa8c1f",
   "metadata": {},
   "source": [
    "## Shape und Indizes"
   ]
  },
  {
   "cell_type": "markdown",
   "id": "1e3d7dbf-3eb4-490a-943a-34fddbca2447",
   "metadata": {},
   "source": [
    "### Zugriff auf Datenstrukturen"
   ]
  },
  {
   "cell_type": "markdown",
   "id": "37087fcd",
   "metadata": {},
   "source": [
    "###### Erinnerung an die Shape"
   ]
  },
  {
   "cell_type": "code",
   "execution_count": 1,
   "id": "arranged-oxide",
   "metadata": {},
   "outputs": [],
   "source": [
    "import numpy as np"
   ]
  },
  {
   "cell_type": "code",
   "execution_count": 2,
   "id": "c511aaf5",
   "metadata": {},
   "outputs": [
    {
     "name": "stdout",
     "output_type": "stream",
     "text": [
      "X\n",
      " [[ 1  2]\n",
      " [ 3  4]\n",
      " [ 5  6]\n",
      " [ 7  8]\n",
      " [ 9 10]]\n",
      "(5, 2)\n",
      "5\n"
     ]
    }
   ],
   "source": [
    "######### Shape\n",
    "X=np.array([[1,2],[3,4],[5,6],[7,8],[9,10]])\n",
    "print(\"X\\n\",X)\n",
    "print(X.shape)\n",
    "print(X.shape[0])\n"
   ]
  },
  {
   "cell_type": "markdown",
   "id": "c0d4e2b0",
   "metadata": {},
   "source": [
    "###### Erinnerung: Zugriffsmethoden bei Arrays"
   ]
  },
  {
   "cell_type": "code",
   "execution_count": 3,
   "id": "fe82cd0f",
   "metadata": {},
   "outputs": [
    {
     "data": {
      "text/plain": [
       "array([10, 11, 12, 13, 14, 15, 16, 17, 18, 19])"
      ]
     },
     "execution_count": 3,
     "metadata": {},
     "output_type": "execute_result"
    }
   ],
   "source": [
    "V=np.arange(10,20)\n",
    "V"
   ]
  },
  {
   "cell_type": "code",
   "execution_count": 4,
   "id": "b8a1c044",
   "metadata": {},
   "outputs": [
    {
     "name": "stdout",
     "output_type": "stream",
     "text": [
      "10\n",
      "[10 11 12]\n",
      "[10 11 12]\n",
      "[10 11 12 13 14 15 16 17 18 19]\n"
     ]
    }
   ],
   "source": [
    "print(V[0])\n",
    "print(V[0:3])\n",
    "print(V[[0,1,2]])\n",
    "print(V)"
   ]
  },
  {
   "cell_type": "code",
   "execution_count": 5,
   "id": "f23dd2c7",
   "metadata": {},
   "outputs": [
    {
     "name": "stdout",
     "output_type": "stream",
     "text": [
      "Inhalte von X\n",
      " [[ 1  2]\n",
      " [ 3  4]\n",
      " [ 5  6]\n",
      " [ 7  8]\n",
      " [ 9 10]]\n",
      "Liste [0, 1]\n",
      "X wurde gefiltert\n",
      " [[1 2]\n",
      " [3 4]]\n"
     ]
    }
   ],
   "source": [
    "#Exkurs\n",
    "#bei mehrdimensionalen Strukturen \n",
    "# bezieht sich die Liste auf die Zeilenwird vorher vektorisiert.\n",
    "\n",
    "print(\"Inhalte von X\\n\",X)\n",
    "liste=[0,1]\n",
    "print(\"Liste\",liste)\n",
    "print(\"X wurde gefiltert\\n\",X[liste])\n"
   ]
  },
  {
   "cell_type": "markdown",
   "id": "63f9d630",
   "metadata": {},
   "source": [
    "### Wie kann man aus vielen Zeilen einige auswählen?"
   ]
  },
  {
   "cell_type": "markdown",
   "id": "1c76de91",
   "metadata": {},
   "source": [
    "#### np.choice"
   ]
  },
  {
   "cell_type": "code",
   "execution_count": 6,
   "id": "813290c0",
   "metadata": {},
   "outputs": [
    {
     "name": "stdout",
     "output_type": "stream",
     "text": [
      "Zeilennummern [0, 1, 2, 3, 4]\n",
      "auswahl [1 3 2]\n"
     ]
    }
   ],
   "source": [
    "zeilennummern=[0,1,2,3,4]\n",
    "print(\"Zeilennummern\",zeilennummern)\n",
    "auswahl=np.random.choice(zeilennummern,3, replace=False)\n",
    "print(\"auswahl\",auswahl)"
   ]
  },
  {
   "cell_type": "code",
   "execution_count": 7,
   "id": "397013b5",
   "metadata": {},
   "outputs": [
    {
     "name": "stdout",
     "output_type": "stream",
     "text": [
      "Zeilennummern [0, 1, 2, 3, 4]\n",
      "[3 1 0]\n"
     ]
    }
   ],
   "source": [
    "#choice mit Konstanten\n",
    "zeilennummern=[0,1,2,3,4]\n",
    "print(\"Zeilennummern\",zeilennummern)\n",
    "#auswahl=np.random.choice(zeilennummern,3., replace=False)\n",
    "# 2.Parameter darf nicht float sein\n",
    "#korrekt ist:\n",
    "auswahl=\\\n",
    "np.random.choice(zeilennummern,int(3.), replace=False)\n",
    "print(auswahl)"
   ]
  },
  {
   "cell_type": "code",
   "execution_count": 8,
   "id": "weird-illness",
   "metadata": {
    "scrolled": true
   },
   "outputs": [
    {
     "name": "stdout",
     "output_type": "stream",
     "text": [
      "Zeilennummern [0, 1, 2, 3, 4]\n",
      "auswahl [2 1 3]\n"
     ]
    }
   ],
   "source": [
    "#choice mit shapes\n",
    "#zeilennummern=np.arange(X.shape[0])\n",
    "print(\"Zeilennummern\",zeilennummern)\n",
    "auswahl=np.random.choice(X.shape[0],3, replace=False)\n",
    "print(\"auswahl\",auswahl)"
   ]
  },
  {
   "cell_type": "code",
   "execution_count": 9,
   "id": "60655d68",
   "metadata": {
    "scrolled": true
   },
   "outputs": [
    {
     "name": "stdout",
     "output_type": "stream",
     "text": [
      "Trainingsindizes [2 4 0 3]\n",
      "Trainingsmenge\n",
      " [[ 5  6]\n",
      " [ 9 10]\n",
      " [ 1  2]\n",
      " [ 7  8]]\n"
     ]
    }
   ],
   "source": [
    "#Anwendungsbeispiel\n",
    "#trainings_indizes=np.random.choice(6,3,replace=False)\n",
    "trainings_indizes=np.random.choice(X.shape[0],int(0.8*X.shape[0]),replace =False)\n",
    "print(\"Trainingsindizes\",trainings_indizes)\n",
    "Xtrain=X[trainings_indizes]\n",
    "print(\"Trainingsmenge\\n\",Xtrain)"
   ]
  },
  {
   "cell_type": "markdown",
   "id": "1cba8981",
   "metadata": {},
   "source": [
    "#### np.delete"
   ]
  },
  {
   "cell_type": "code",
   "execution_count": 10,
   "id": "eae2bc00",
   "metadata": {},
   "outputs": [
    {
     "name": "stdout",
     "output_type": "stream",
     "text": [
      "behalten\n",
      " [10 12 14]\n",
      "löschen\n",
      " [11 13 15 16 17 18 19]\n"
     ]
    }
   ],
   "source": [
    "V=np.array([10,11,12,13,14,15,16,17,18,19])\n",
    "indexliste=[0,2,4]\n",
    "print(\"behalten\\n\",V[indexliste])\n",
    "print(\"löschen\\n\",np.delete(V,indexliste))\n",
    "#Ausgangsvektor ist V, der enthält die relevanten Einträge\n",
    "#indexliste bezeichnet die Indizes (Positionen) von den Elementen, die in V gelöscht werden"
   ]
  },
  {
   "cell_type": "code",
   "execution_count": 11,
   "id": "decent-kazakhstan",
   "metadata": {},
   "outputs": [
    {
     "name": "stdout",
     "output_type": "stream",
     "text": [
      "V [10 11 12 13 14 15 16 17 18 19]\n",
      "Indexliste [0, 1]\n",
      "anhand der Indizes einen Teil von V behalten\t [10 11]\n",
      "anhand der Indizes einen Teil von V löschen\t [12 13 14 15 16 17 18 19]\n"
     ]
    }
   ],
   "source": [
    "print(\"V\",V)\n",
    "print(\"Indexliste\",liste)\n",
    "print(\"anhand der Indizes einen Teil von V behalten\\t\",V[liste])\n",
    "print(\"anhand der Indizes einen Teil von V löschen\\t\",np.delete(V,liste))"
   ]
  },
  {
   "cell_type": "markdown",
   "id": "70b0f205-c1b1-48e7-8681-a1b58c193cfa",
   "metadata": {},
   "source": [
    "## Gefäße aufbauen"
   ]
  },
  {
   "cell_type": "code",
   "execution_count": 12,
   "id": "715430b5-4d19-4c54-aadd-3cf828a8613b",
   "metadata": {},
   "outputs": [
    {
     "data": {
      "text/plain": [
       "array([[ 1,  2],\n",
       "       [ 3,  4],\n",
       "       [ 5,  6],\n",
       "       [ 7,  8],\n",
       "       [ 9, 10]])"
      ]
     },
     "execution_count": 12,
     "metadata": {},
     "output_type": "execute_result"
    }
   ],
   "source": [
    "X"
   ]
  },
  {
   "cell_type": "code",
   "execution_count": 13,
   "id": "91bbe2aa-6eb4-4715-84a5-9ad7e5b3b0d3",
   "metadata": {},
   "outputs": [
    {
     "name": "stdout",
     "output_type": "stream",
     "text": [
      "Array mit 60 Nullen\n",
      " [[0. 0. 0. 0. 0.]\n",
      " [0. 0. 0. 0. 0.]\n",
      " [0. 0. 0. 0. 0.]\n",
      " [0. 0. 0. 0. 0.]\n",
      " [0. 0. 0. 0. 0.]\n",
      " [0. 0. 0. 0. 0.]\n",
      " [0. 0. 0. 0. 0.]\n",
      " [0. 0. 0. 0. 0.]\n",
      " [0. 0. 0. 0. 0.]\n",
      " [0. 0. 0. 0. 0.]\n",
      " [0. 0. 0. 0. 0.]\n",
      " [0. 0. 0. 0. 0.]]\n",
      "neuer Array, genauso groß wie X\n",
      " [[0 0]\n",
      " [0 0]\n",
      " [0 0]\n",
      " [0 0]\n",
      " [0 0]]\n",
      "XX2 verändert\n",
      " [[ 0  0]\n",
      " [ 0  0]\n",
      " [ 0 99]\n",
      " [ 0  0]\n",
      " [ 0  0]]\n"
     ]
    }
   ],
   "source": [
    "####Arrays aufbauen\n",
    "#dies nimmt man, \n",
    "#wenn man einen Array komplett aufbauen will\n",
    "XX1=np.zeros((12,5))\n",
    "print(\"Array mit 60 Nullen\\n\",XX1)\n",
    "\n",
    "# Dies nimmt man, wenn man einen Array aufbauen will,\n",
    "# der genauso groß, wie ein schon bekannter Array ist.\n",
    "XX2=np.zeros((X.shape[0],X.shape[1]))\n",
    "XX2=np.zeros(X.shape)\n",
    "XX2=np.zeros_like(X)\n",
    "print(\"neuer Array, genauso groß wie X\\n\",XX2)\n",
    "\n",
    "# und jetzt kann man die Matrix verändern\n",
    "XX2[2,1] =99\n",
    "print(\"XX2 verändert\\n\",XX2)"
   ]
  },
  {
   "cell_type": "markdown",
   "id": "ab34dfc9",
   "metadata": {},
   "source": [
    "##############################\n",
    "## logische Funktionen"
   ]
  },
  {
   "cell_type": "markdown",
   "id": "9b703d5b",
   "metadata": {},
   "source": [
    "### np.logical_and, np.logical_not , np.logical_or"
   ]
  },
  {
   "cell_type": "code",
   "execution_count": 14,
   "id": "prepared-machinery",
   "metadata": {},
   "outputs": [
    {
     "name": "stdout",
     "output_type": "stream",
     "text": [
      "[False False  True  True False]\n",
      "[ True  True False False  True]\n"
     ]
    }
   ],
   "source": [
    "import numpy as np\n",
    "V1=np.array([0.,0.,1.,1.,1])\n",
    "V2=np.array([0.,1.,1.,1.,0.])\n",
    "V3=np.logical_and(V1,V2)\n",
    "#Logische Funktionen arbeiten auch auf einer Reihe von Einsen und Nullen\n",
    "#Sie geben dann einen Vektor mit True und False zurück\n",
    "print(V3)\n",
    "print(np.logical_not(V3))\n"
   ]
  },
  {
   "cell_type": "code",
   "execution_count": 15,
   "id": "dense-shelter",
   "metadata": {},
   "outputs": [
    {
     "name": "stdout",
     "output_type": "stream",
     "text": [
      "[False  True  True  True  True]\n"
     ]
    },
    {
     "data": {
      "text/plain": [
       "array([ True, False, False, False, False])"
      ]
     },
     "execution_count": 15,
     "metadata": {},
     "output_type": "execute_result"
    }
   ],
   "source": [
    "import numpy as np\n",
    "V1=np.array([0.,0.,1.,1.,1])\n",
    "V2=np.array([0.,1.,1.,1.,0.])\n",
    "V4=np.logical_or(V1,V2)\n",
    "#Logische Funktionen arbeiten auch auf einer Reihe von Einsen und Nullen\n",
    "#Sie geben dann einen Vektor mit True und False zurück\n",
    "print(V4)\n",
    "np.logical_not(V4)"
   ]
  },
  {
   "cell_type": "markdown",
   "id": "3851bdf2",
   "metadata": {},
   "source": [
    "### Einsen und Nullen zählen"
   ]
  },
  {
   "cell_type": "code",
   "execution_count": 16,
   "id": "accompanied-halloween",
   "metadata": {},
   "outputs": [
    {
     "name": "stdout",
     "output_type": "stream",
     "text": [
      "Array [False False  True  True False]\n",
      "Anzahl der True 2\n",
      "Anzahl der False 3\n",
      "Anzahl der False 3\n"
     ]
    }
   ],
   "source": [
    "print(\"Array\",V3)\n",
    "anzahl_einsen=np.sum(V3)\n",
    "#Arithmetische Funktionen arbeiten auch auf einer Reihe von True und False\n",
    "#Sie geben dann eine Zahl zurück\n",
    "print(\"Anzahl der True\",anzahl_einsen)\n",
    "anzahl_nullen=V3.shape[0]- anzahl_einsen\n",
    "print(\"Anzahl der False\",anzahl_nullen)\n",
    "zahl3=np.logical_not(V3).sum()\n",
    "print(\"Anzahl der False\",zahl3)\n"
   ]
  },
  {
   "cell_type": "code",
   "execution_count": 17,
   "id": "0ae26fb6",
   "metadata": {},
   "outputs": [
    {
     "data": {
      "text/plain": [
       "array([0, 3, 2, 0, 0, 0, 0, 0, 0, 0, 1], dtype=int64)"
      ]
     },
     "execution_count": 17,
     "metadata": {},
     "output_type": "execute_result"
    }
   ],
   "source": [
    "#als Alternative eventuell\n",
    "\n",
    "\n",
    "np.bincount([1,1,1,2,2,10])"
   ]
  },
  {
   "cell_type": "code",
   "execution_count": 18,
   "id": "7f694218",
   "metadata": {},
   "outputs": [
    {
     "data": {
      "text/plain": [
       "6"
      ]
     },
     "execution_count": 18,
     "metadata": {},
     "output_type": "execute_result"
    }
   ],
   "source": [
    "#als Alternative auch möglich\n",
    "np.count_nonzero([1,1,1,2,2,10,0,0])"
   ]
  },
  {
   "cell_type": "code",
   "execution_count": 19,
   "id": "dd9349e5",
   "metadata": {},
   "outputs": [
    {
     "name": "stdout",
     "output_type": "stream",
     "text": [
      "[[0. 0. 0.]\n",
      " [0. 1. 1.]\n",
      " [1. 1. 1.]\n",
      " [1. 0. 0.]]\n",
      "y und Spalte k werden verbunden\n",
      " [False  True  True False]\n",
      "Zählen der Einsen in X in der k-ten Spalte, unter der Voraussetzung, das y=1\n",
      "2\n",
      "Zählen der Nullen in X in der k-ten Spalte, unter der Voraussetzung, das y=1\n",
      "0\n",
      "nicht_X2 [ True False False  True]\n",
      "nicht y [ True False False  True]\n",
      "und [ True False False  True]\n"
     ]
    }
   ],
   "source": [
    "# Dieses nicht lesen, es ist vielleicht unverständlich\n",
    "import numpy as np\n",
    "X2=np.array([[0,0],\n",
    "             [0.,1],\n",
    "             [1.,1],\n",
    "             [1,0]])\n",
    "y=np.array([0.\n",
    "            ,1.,\n",
    "            1.,\n",
    "            0.])\n",
    "print (np.c_[X2,y])\n",
    "\n",
    "k=1 #Spalte\n",
    "#Zähle die Einsen in der Spalte k, wobei y =1 sein soll\n",
    "print(\"y und Spalte k werden verbunden\\n\",np.logical_and(X2[:,k],y))\n",
    "print(\"Zählen der Einsen in X in der k-ten Spalte, unter der Voraussetzung, das y=1\")\n",
    "print(np.sum(np.logical_and(X2[:,k],y)))\n",
    "print(\"Zählen der Nullen in X in der k-ten Spalte, unter der Voraussetzung, das y=1\")\n",
    "print(np.sum(np.logical_and(np.logical_not(X2[:,k]),y)))\n",
    "# prüfen, ob beide 0 sind\n",
    "nicht_X2 =np.logical_not(X2[:,k])\n",
    "print(\"nicht_X2\",nicht_X2)\n",
    "nicht_y =  np.logical_not(y)\n",
    "print(\"nicht y\",nicht_y)\n",
    "und =np.logical_and(nicht_y, nicht_X2)\n",
    "print(\"und\",und)"
   ]
  },
  {
   "cell_type": "markdown",
   "id": "1c454526",
   "metadata": {},
   "source": [
    "## Häufigkeiten und bedingte Wahrscheinlichkeiten"
   ]
  },
  {
   "cell_type": "markdown",
   "id": "48e3346d-64dc-46bb-ad64-d21d0ec67950",
   "metadata": {},
   "source": [
    "#### bedingte Wahrscheinlichkeite ausrechnen"
   ]
  },
  {
   "cell_type": "code",
   "execution_count": 20,
   "id": "6955af1b",
   "metadata": {},
   "outputs": [
    {
     "data": {
      "text/plain": [
       "array([3., 5.])"
      ]
     },
     "execution_count": 20,
     "metadata": {},
     "output_type": "execute_result"
    }
   ],
   "source": [
    "x=np.array([1,1,1,1,0,1,0,0])\n",
    "y=np.array([1,1,1,1,1,0,0,0])\n",
    "# hier steht original im Code X, es muss aber heißen X2D, sonst funktioniert der Code weiter unten nicht\n",
    "X2D= np.array([[1],[1],[1],[0],[0],[1],[0],[0]])# X hat dieselben Inhalte wie x, aber X ist 2-dimensional\n",
    "absolute_Häufigkeiten_y= np.zeros(2)\n",
    "absolute_Häufigkeiten_y[0] = y.shape[0]-np.sum(y)\n",
    "absolute_Häufigkeiten_y[1] = np.sum(y)\n",
    "absolute_Häufigkeiten_y"
   ]
  },
  {
   "cell_type": "code",
   "execution_count": 21,
   "id": "069d2679-f35b-49fd-882a-466aaaa0ee39",
   "metadata": {},
   "outputs": [
    {
     "name": "stdout",
     "output_type": "stream",
     "text": [
      "bedingte_Häufigkeiten_x_y\n",
      " [[2 1]\n",
      " [1 4]]\n"
     ]
    }
   ],
   "source": [
    "bedingte_Häufigkeiten_x_y=np.zeros((2,2))\n",
    "bedingte_Häufigkeiten_x_y = np.array([[2,1],[1,4]])# Die werte wurden nicht mit python berechnet, sondern im Kopf\n",
    "# Die erste Spalte enthält die Häufigkeiten unter der Bedingung y =0\n",
    "# D.h. unter dieser Bedingung gibt es 2 Nullen in der x-Spalte und  1 Eins\n",
    "# Die 2. Spalte enthält die Häufigkeiten unter der Bedingung y=1\n",
    "print(\"bedingte_Häufigkeiten_x_y\\n\",bedingte_Häufigkeiten_x_y)"
   ]
  },
  {
   "cell_type": "code",
   "execution_count": 22,
   "id": "b8fc2a85-fe06-49b1-9d3a-7e849b9664c5",
   "metadata": {},
   "outputs": [
    {
     "data": {
      "text/plain": [
       "array([[0.66666667, 0.2       ],\n",
       "       [0.33333333, 0.8       ]])"
      ]
     },
     "execution_count": 22,
     "metadata": {},
     "output_type": "execute_result"
    }
   ],
   "source": [
    "bedingte_Wahrscheinlichkeiten_x_y = bedingte_Häufigkeiten_x_y/absolute_Häufigkeiten_y\n",
    "bedingte_Wahrscheinlichkeiten_x_y"
   ]
  },
  {
   "cell_type": "markdown",
   "id": "654ae910-4e77-476b-8dfb-3d5bc60c420b",
   "metadata": {},
   "source": [
    "#### Was tun wir, wenn eine von den x_y-Häufigkeiten = 0 ist?"
   ]
  },
  {
   "cell_type": "code",
   "execution_count": 23,
   "id": "8dfdf1c5",
   "metadata": {},
   "outputs": [
    {
     "data": {
      "text/plain": [
       "array([3., 5.])"
      ]
     },
     "execution_count": 23,
     "metadata": {},
     "output_type": "execute_result"
    }
   ],
   "source": [
    "x0=np.array([1,1,1,1,0,0,0,0])\n",
    "y=np.array([1,1,1,1,1,0,0,0])\n",
    "# hier steht original im Code X, es muss aber heißen X2D, sonst funktioniert der Code weiter unten nicht\n",
    "X2D= np.array([[1],[1],[1],[0],[0],[1],[0],[5]])# X2D hat dieselben Inhalte wie x, aber X2D ist 2-dimensional\n",
    "absolute_Häufigkeiten_y= np.zeros(2)\n",
    "absolute_Häufigkeiten_y[0] = y.shape[0]-np.sum(y)\n",
    "absolute_Häufigkeiten_y[1] = np.sum(y)\n",
    "absolute_Häufigkeiten_y"
   ]
  },
  {
   "cell_type": "code",
   "execution_count": 24,
   "id": "082f341a",
   "metadata": {},
   "outputs": [
    {
     "name": "stdout",
     "output_type": "stream",
     "text": [
      "bedingte_Häufigkeiten_x0_y\n",
      " [[3 1]\n",
      " [0 4]]\n"
     ]
    },
    {
     "data": {
      "text/plain": [
       "array([[1. , 0.2],\n",
       "       [0. , 0.8]])"
      ]
     },
     "execution_count": 24,
     "metadata": {},
     "output_type": "execute_result"
    }
   ],
   "source": [
    "bedingte_Häufigkeiten_x0_y=np.zeros((2,2))\n",
    "bedingte_Häufigkeiten_x0_y = np.array([[3,1],[0,4]])\n",
    "# Die erste Spalte enthält die Häufigkeiten unter der Bedingung y =0\n",
    "# D.h. unter dieser Bedingung gibt es 3 Nullen in der x-Spalte und keine 1\n",
    "# Die 2. Spalte enthält die Häufigkeiten unter der Bedingung y=1\n",
    "print(\"bedingte_Häufigkeiten_x0_y\\n\",bedingte_Häufigkeiten_x0_y)\n",
    "bedingte_Wahrscheinlichkeiten_x0_y = bedingte_Häufigkeiten_x0_y/absolute_Häufigkeiten_y\n",
    "bedingte_Wahrscheinlichkeiten_x0_y"
   ]
  },
  {
   "cell_type": "code",
   "execution_count": 25,
   "id": "3b9763b6",
   "metadata": {},
   "outputs": [
    {
     "name": "stdout",
     "output_type": "stream",
     "text": [
      "absolute_Häufigkeiten_y,  korrekt\t [3. 5.]\n",
      "absolute_Häufigkeiten_y,künstlich vermehrt   [4. 6.]\n",
      "bedingte_Häufigkeiten_x_y,künstlich vermehrt\n",
      " [[3.5 1.5]\n",
      " [0.5 4.5]]\n"
     ]
    },
    {
     "data": {
      "text/plain": [
       "array([[0.875, 0.25 ],\n",
       "       [0.125, 0.75 ]])"
      ]
     },
     "execution_count": 25,
     "metadata": {},
     "output_type": "execute_result"
    }
   ],
   "source": [
    "print(\"absolute_Häufigkeiten_y,  korrekt\\t\",absolute_Häufigkeiten_y)\n",
    "absolute_Häufigkeiten_y_vermehrt = absolute_Häufigkeiten_y +1 # jeweils(!) 1 neuer Datensatz wird hinzugefügt\n",
    "bedingte_Häufigkeiten_x_y_vermehrt = bedingte_Häufigkeiten_x0_y +0.5\n",
    "print(\"absolute_Häufigkeiten_y,künstlich vermehrt  \",absolute_Häufigkeiten_y_vermehrt)\n",
    "print(\"bedingte_Häufigkeiten_x_y,künstlich vermehrt\\n\",bedingte_Häufigkeiten_x_y_vermehrt)\n",
    "#Mit 50% Wahrscheinlichkeit ist x =0, mir 50% Wahrscheinlichkeit ist x =1\n",
    "bedingte_Wahrscheinlichkeiten_x_y_mit_smoothing = bedingte_Häufigkeiten_x_y_vermehrt/absolute_Häufigkeiten_y_vermehrt\n",
    "bedingte_Wahrscheinlichkeiten_x_y_mit_smoothing"
   ]
  },
  {
   "cell_type": "markdown",
   "id": "db118484",
   "metadata": {},
   "source": [
    "##  Produkte aus speziellen Teilen der Matrix"
   ]
  },
  {
   "cell_type": "markdown",
   "id": "4393eac6-44ec-4f82-bab7-3a767c658d45",
   "metadata": {},
   "source": [
    "### Produkte mit und ohne axis"
   ]
  },
  {
   "cell_type": "code",
   "execution_count": 26,
   "id": "73a26e17",
   "metadata": {},
   "outputs": [
    {
     "name": "stdout",
     "output_type": "stream",
     "text": [
      "X\n",
      " [[ 1  2]\n",
      " [ 3  4]\n",
      " [ 5  6]\n",
      " [ 7  8]\n",
      " [ 9 10]]\n",
      "3628800\n"
     ]
    }
   ],
   "source": [
    "print(\"X\\n\",X)\n",
    "produkt=np.prod(X)\n",
    "print(produkt)"
   ]
  },
  {
   "cell_type": "code",
   "execution_count": 27,
   "id": "productive-bible",
   "metadata": {},
   "outputs": [
    {
     "name": "stdout",
     "output_type": "stream",
     "text": [
      "[[ 1  2]\n",
      " [ 3  4]\n",
      " [ 5  6]\n",
      " [ 7  8]\n",
      " [ 9 10]]\n",
      "Produkt von allen Matrixelementen 3628800\n",
      "Produkt der Zeilen mit axis=1 und reshape \n",
      " [[ 2]\n",
      " [12]\n",
      " [30]\n",
      " [56]\n",
      " [90]]\n",
      "Produkt der Spalten mit axis=0\n",
      " [ 945 3840]\n"
     ]
    }
   ],
   "source": [
    "#Erinnerung: der Parameter axis bestimmt beim Produkt, \n",
    "#ob Zeilen oder Spalten multipliziert werden.\n",
    "produkt1=np.product(X,axis=1).reshape(-1,1)\n",
    "print(X)\n",
    "print(\"Produkt von allen Matrixelementen\",produkt)\n",
    "print(\"Produkt der Zeilen mit axis=1 und reshape \\n\",produkt1)\n",
    "produkt0=np.product(X,axis=0)\n",
    "#print(X)\n",
    "print(\"Produkt der Spalten mit axis=0\\n\",produkt0)"
   ]
  },
  {
   "cell_type": "markdown",
   "id": "7f3fa4a3-26c9-4e2a-8c42-e1042e249758",
   "metadata": {},
   "source": [
    "### Produkte aus ausgewählten Zellen der Matrix"
   ]
  },
  {
   "cell_type": "code",
   "execution_count": 28,
   "id": "47560de9",
   "metadata": {},
   "outputs": [
    {
     "name": "stdout",
     "output_type": "stream",
     "text": [
      "[[ 1  2]\n",
      " [ 3  4]\n",
      " [ 5  6]\n",
      " [ 7  8]\n",
      " [ 9 10]]\n",
      "Auschnitt\n",
      " [6 1 7]\n",
      "Produkt des Ausschnitts 42\n"
     ]
    }
   ],
   "source": [
    "#Erinnerung: \n",
    "#Teile aus einer Matrix ausschneiden\n",
    "print(X)\n",
    "print(\"Auschnitt\\n\",X[[2,0,3],[1,0,0]])\n",
    "print(\"Produkt des Ausschnitts\",np.prod(X[[2,0,3],[1,0,0]]))\n",
    "\n",
    "#print(\"Liste\\n\",[X[0,0],X[2,1],X[1,0]])\n",
    "#print(\"Element aus der ersten Zeilen und ersten Spalte\\n\",X[0][0])"
   ]
  },
  {
   "cell_type": "code",
   "execution_count": 29,
   "id": "bridal-coverage",
   "metadata": {},
   "outputs": [
    {
     "name": "stdout",
     "output_type": "stream",
     "text": [
      "X\n",
      " [[ 1  2]\n",
      " [ 3  4]\n",
      " [ 5  6]\n",
      " [ 7  8]\n",
      " [ 9 10]]\n",
      "-------------------------\n",
      "Produkt über Indexlisten 48\n",
      "Produkt einfach über Komponenten 48\n"
     ]
    }
   ],
   "source": [
    "######## Produkt aus einzelnen Komponenten einer Matrix\n",
    "print(\"X\\n\",X)\n",
    "print(\"-------------------------\")\n",
    "produkt0=np.prod(X[[0,1,2],[1,1,1]])\n",
    "print(\"Produkt über Indexlisten\",produkt0)\n",
    "produkt00 = X[0,1]*X[1,1]*X[2,1]\n",
    "print(\"Produkt einfach über Komponenten\",produkt00)"
   ]
  },
  {
   "cell_type": "code",
   "execution_count": 30,
   "id": "cosmetic-penalty",
   "metadata": {},
   "outputs": [
    {
     "name": "stdout",
     "output_type": "stream",
     "text": [
      "-------------------------\n",
      "[[ 1  2]\n",
      " [ 3  4]\n",
      " [ 5  6]\n",
      " [ 7  8]\n",
      " [ 9 10]]\n",
      "48\n",
      "2\n",
      "prod1 12\n",
      "30\n",
      "prod11 12\n"
     ]
    }
   ],
   "source": [
    "produkt00=X[0,0]*X[0,1]\n",
    "produkt1=np.prod(X[1,[0,1]])#Indexliste in Kombination mit Einzelindex\n",
    "produkt11=np.prod(X[1,0:2])#Slicing\n",
    "produkt2=np.prod(X[2,[0,1]])\n",
    "print(\"-------------------------\")\n",
    "print(X)\n",
    "print(produkt0)\n",
    "print(produkt00)\n",
    "print(\"prod1\",produkt1)\n",
    "print(produkt2)\n",
    "print(\"prod11\",produkt11)"
   ]
  },
  {
   "cell_type": "markdown",
   "id": "855faaf0",
   "metadata": {},
   "source": [
    "## Herausnehmen des maximalen Elements aus einem Array"
   ]
  },
  {
   "cell_type": "code",
   "execution_count": 31,
   "id": "prescribed-price",
   "metadata": {},
   "outputs": [
    {
     "name": "stdout",
     "output_type": "stream",
     "text": [
      "Maximale Wahrscheinlichkeit 0.8\n",
      "Der wahrscheinlichste Zustand ist 1\n"
     ]
    }
   ],
   "source": [
    "#print(V)\n",
    "#V enthält Wahrsscheinlichkeiten für Kredit schlecht =0,Kredit gut=1\n",
    "Wahrscheinlichkeiten=np.array([0.2,0.8])\n",
    "print(\"Maximale Wahrscheinlichkeit\",np.max(Wahrscheinlichkeiten))\n",
    "print(\"Der wahrscheinlichste Zustand ist\",np.argmax(Wahrscheinlichkeiten))\n",
    "#V[9]"
   ]
  },
  {
   "cell_type": "code",
   "execution_count": 32,
   "id": "loaded-ethiopia",
   "metadata": {},
   "outputs": [],
   "source": [
    "V4=np.array([0.6,0.4])"
   ]
  },
  {
   "cell_type": "code",
   "execution_count": null,
   "id": "robust-multimedia",
   "metadata": {},
   "outputs": [
    {
     "name": "stdout",
     "output_type": "stream",
     "text": [
      "es gibt einen Kredit: False\n"
     ]
    },
    {
     "ename": "",
     "evalue": "",
     "output_type": "error",
     "traceback": [
      "\u001b[1;31mThe Kernel crashed while executing code in the current cell or a previous cell. \n",
      "\u001b[1;31mPlease review the code in the cell(s) to identify a possible cause of the failure. \n",
      "\u001b[1;31mClick <a href='https://aka.ms/vscodeJupyterKernelCrash'>here</a> for more info. \n",
      "\u001b[1;31mView Jupyter <a href='command:jupyter.viewOutput'>log</a> for further details."
     ]
    }
   ],
   "source": [
    "meineDiagnose=np.argmax(V4)\n",
    "print(\"es gibt einen Kredit:\",bool(meineDiagnose))"
   ]
  },
  {
   "cell_type": "code",
   "execution_count": null,
   "id": "b3965b82",
   "metadata": {},
   "outputs": [],
   "source": []
  }
 ],
 "metadata": {
  "kernelspec": {
   "display_name": "base",
   "language": "python",
   "name": "python3"
  },
  "language_info": {
   "codemirror_mode": {
    "name": "ipython",
    "version": 3
   },
   "file_extension": ".py",
   "mimetype": "text/x-python",
   "name": "python",
   "nbconvert_exporter": "python",
   "pygments_lexer": "ipython3",
   "version": "3.12.7"
  }
 },
 "nbformat": 4,
 "nbformat_minor": 5
}
