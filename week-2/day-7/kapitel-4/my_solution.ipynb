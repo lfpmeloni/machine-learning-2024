{
 "cells": [
  {
   "cell_type": "code",
   "execution_count": 4,
   "metadata": {},
   "outputs": [],
   "source": [
    "import numpy as np"
   ]
  },
  {
   "cell_type": "code",
   "execution_count": 5,
   "metadata": {},
   "outputs": [],
   "source": [
    "# Define the MyBayes class\n",
    "class MyBayes:\n",
    "    def __init__(self):\n",
    "        self.priors = None  # Store prior probabilities for each class\n",
    "        self.conditional_probs = None  # Store conditional probabilities for features\n",
    "\n",
    "    def fit(self, XTrain, YTrain):\n",
    "        \"\"\"\n",
    "        Fit the Naive Bayes model to the training data.\n",
    "        \"\"\"\n",
    "        # Unique classes and their counts\n",
    "        classes, counts = np.unique(YTrain, return_counts=True)\n",
    "        self.priors = {cls: count / len(YTrain) for cls, count in zip(classes, counts)}\n",
    "\n",
    "        # Calculate conditional probabilities\n",
    "        self.conditional_probs = {}\n",
    "        for cls in classes:\n",
    "            cls_indices = np.where(YTrain == cls)[0]\n",
    "            cls_features = XTrain[cls_indices]\n",
    "            self.conditional_probs[cls] = (np.sum(cls_features, axis=0) + 1) / (\n",
    "                len(cls_features) + 2\n",
    "            )  # Laplace smoothing\n",
    "\n",
    "    def predict1(self, x):\n",
    "        \"\"\"\n",
    "        Predict the class for a single sample.\n",
    "        \"\"\"\n",
    "        posteriors = {}\n",
    "        for cls, prior in self.priors.items():\n",
    "            likelihood = np.prod(\n",
    "                self.conditional_probs[cls] ** x * (1 - self.conditional_probs[cls]) ** (1 - x)\n",
    "            )\n",
    "            posteriors[cls] = prior * likelihood\n",
    "        return max(posteriors, key=posteriors.get)\n",
    "\n",
    "    def predict2(self, XTest):\n",
    "        \"\"\"\n",
    "        Predict classes for multiple samples.\n",
    "        \"\"\"\n",
    "        return np.array([self.predict1(row) for row in XTest])\n",
    "\n",
    "    def score(self, XTest, YTest):\n",
    "        \"\"\"\n",
    "        Calculate the accuracy of predictions.\n",
    "        \"\"\"\n",
    "        predictions = self.predict2(XTest)\n",
    "        return np.mean(predictions == YTest)"
   ]
  },
  {
   "cell_type": "code",
   "execution_count": 6,
   "metadata": {},
   "outputs": [],
   "source": [
    "# Utility functions\n",
    "def split_data(X, y, test_ratio=0.2):\n",
    "    \"\"\"\n",
    "    Split data into training and testing sets.\n",
    "    \"\"\"\n",
    "    indices = np.arange(len(y))\n",
    "    np.random.shuffle(indices)\n",
    "    test_size = int(len(y) * test_ratio)\n",
    "    test_indices = indices[:test_size]\n",
    "    train_indices = indices[test_size:]\n",
    "    return X[train_indices], X[test_indices], y[train_indices], y[test_indices]\n"
   ]
  },
  {
   "cell_type": "code",
   "execution_count": 7,
   "metadata": {},
   "outputs": [
    {
     "name": "stdout",
     "output_type": "stream",
     "text": [
      "Single Prediction for [1 0 0 1 1]: Class 1\n",
      "Predicted Classes: [1 0 1 0 1 1 1 1 1 1 1 1 1 1 1 0 1 0 1 1]\n",
      "Model Accuracy: 100.00%\n"
     ]
    }
   ],
   "source": [
    "# Main Program\n",
    "if __name__ == \"__main__\":\n",
    "    np.random.seed(42)  # Set seed for reproducibility\n",
    "\n",
    "    # Generate synthetic dataset\n",
    "    def generate_data(samples, features):\n",
    "        X = np.random.randint(0, 2, (samples, features))\n",
    "        y = (np.sum(X, axis=1) >= features // 2).astype(int)\n",
    "        return X, y\n",
    "\n",
    "    X, y = generate_data(100, 5)\n",
    "    XTrain, XTest, YTrain, YTest = split_data(X, y)\n",
    "\n",
    "    # Train and evaluate the Naive Bayes model\n",
    "    mybay = MyBayes()\n",
    "    mybay.fit(XTrain, YTrain)\n",
    "\n",
    "    # Test single prediction\n",
    "    x_single = XTest[0]\n",
    "    predicted_class = mybay.predict1(x_single)\n",
    "    print(f\"Single Prediction for {x_single}: Class {predicted_class}\")\n",
    "\n",
    "    # Test batch predictions\n",
    "    predicted_classes = mybay.predict2(XTest)\n",
    "    print(\"Predicted Classes:\", predicted_classes)\n",
    "\n",
    "    # Evaluate accuracy\n",
    "    accuracy = mybay.score(XTest, YTest)\n",
    "    print(f\"Model Accuracy: {accuracy * 100:.2f}%\")"
   ]
  },
  {
   "cell_type": "code",
   "execution_count": 8,
   "metadata": {},
   "outputs": [
    {
     "name": "stdout",
     "output_type": "stream",
     "text": [
      "Single Prediction for [0. 0. 1. 0. 0.]: Class 1\n",
      "Predicted Classes: [1 1 0 1 1 0 0 1 0 0 1 0 0 1 1 0 0 0 1 0 0 1 1 1]\n",
      "Model Accuracy: 100.00%\n"
     ]
    }
   ],
   "source": [
    "# Main Program\n",
    "if __name__ == \"__main__\":\n",
    "    np.random.seed(42)  # Set seed for reproducibility\n",
    "\n",
    "    # Function to read and preprocess the dataset\n",
    "    def read_diagnosis_data(filename):\n",
    "        \"\"\"\n",
    "        Read and preprocess the diagnosis.csv file.\n",
    "        \"\"\"\n",
    "        # Read the file\n",
    "        data = np.loadtxt(filename, delimiter=\",\")\n",
    "        # Features: columns 1 to 5\n",
    "        X = data[:, 1:6]\n",
    "        # Target: column 6\n",
    "        y = data[:, 6].astype(int)\n",
    "        return X, y\n",
    "\n",
    "    # Read data from the diagnosis.csv file\n",
    "    X, y = read_diagnosis_data(\"diagnosis.csv\")\n",
    "\n",
    "    # Split data into training and testing sets\n",
    "    XTrain, XTest, YTrain, YTest = split_data(X, y)\n",
    "\n",
    "    # Train and evaluate the Naive Bayes model\n",
    "    mybay = MyBayes()\n",
    "    mybay.fit(XTrain, YTrain)\n",
    "\n",
    "    # Test single prediction\n",
    "    x_single = XTest[0]\n",
    "    predicted_class = mybay.predict1(x_single)\n",
    "    print(f\"Single Prediction for {x_single}: Class {predicted_class}\")\n",
    "\n",
    "    # Test batch predictions\n",
    "    predicted_classes = mybay.predict2(XTest)\n",
    "    print(\"Predicted Classes:\", predicted_classes)\n",
    "\n",
    "    # Evaluate accuracy\n",
    "    accuracy = mybay.score(XTest, YTest)\n",
    "    print(f\"Model Accuracy: {accuracy * 100:.2f}%\")"
   ]
  }
 ],
 "metadata": {
  "kernelspec": {
   "display_name": "base",
   "language": "python",
   "name": "python3"
  },
  "language_info": {
   "codemirror_mode": {
    "name": "ipython",
    "version": 3
   },
   "file_extension": ".py",
   "mimetype": "text/x-python",
   "name": "python",
   "nbconvert_exporter": "python",
   "pygments_lexer": "ipython3",
   "version": "3.12.7"
  }
 },
 "nbformat": 4,
 "nbformat_minor": 2
}
